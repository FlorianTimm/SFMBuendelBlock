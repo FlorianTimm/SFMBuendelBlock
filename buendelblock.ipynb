{
 "cells": [
  {
   "cell_type": "markdown",
   "metadata": {},
   "source": [
    "# Bündelblockausgleichung\n",
    "\n",
    "Mit Aruco-Markern und Näherungskoordinaten aus GNSS"
   ]
  },
  {
   "cell_type": "code",
   "execution_count": 8,
   "metadata": {},
   "outputs": [],
   "source": [
    "from PIL import Image\n",
    "from glob import glob\n",
    "import cv2\n",
    "from cv2 import aruco\n",
    "import numpy as np\n",
    "from sympy import *\n",
    "import math\n",
    "from PIL import ExifTags\n",
    "from xml.etree import ElementTree as ET\n",
    "import utm\n",
    "import math"
   ]
  },
  {
   "cell_type": "markdown",
   "metadata": {},
   "source": [
    "## Parameter festlegen\n",
    "Sensorgröße in Millimetern und Pixeln"
   ]
  },
  {
   "cell_type": "code",
   "execution_count": 9,
   "metadata": {},
   "outputs": [],
   "source": [
    "Xsensor = 0.00617\n",
    "Ysensor = 0.00455\n",
    "Xpixel = 4000.\n",
    "Ypixel = 3000."
   ]
  },
  {
   "cell_type": "code",
   "execution_count": 10,
   "metadata": {},
   "outputs": [],
   "source": [
    "bilder = glob('./bildverband2/*.JPG')\n",
    "\n",
    "bilderDaten = []\n",
    "\n",
    "for bild in bilder:\n",
    "    bildDaten = []\n",
    "    img = Image.open(bild)\n",
    "    exif = img._getexif()\n",
    "    for tag, value in exif.items():\n",
    "        if 'GPSInfo' == ExifTags.TAGS.get(tag, tag):\n",
    "            n = float(value[2][0])+float(value[2][1]) / \\\n",
    "                60.+float(value[2][2])/3600.\n",
    "            e = float(value[4][0])+float(value[4][1]) / \\\n",
    "                60.+float(value[4][2])/3600.\n",
    "            h = float(value[6])\n",
    "            u = utm.from_latlon(n,e, 32)\n",
    "            bildDaten.append(u[0])\n",
    "            bildDaten.append(u[1])\n",
    "            bildDaten.append(h)\n",
    "    with open(bild, \"rb\") as f:\n",
    "        s = str(f.read())\n",
    "\n",
    "    start = s.find('<x:xmpmeta')\n",
    "    end = s.find('</x:xmpmeta')\n",
    "    xmp = s[start:end+12].replace(\"\\\\n\", \"\\n\")\n",
    "    tree = ET.XML(xmp)\n",
    "\n",
    "    bildDaten.append(float(tree[0][0].attrib['{http://www.dji.com/drone-dji/1.0/}FlightRollDegree'])/180*math.pi)\n",
    "   \n",
    "    bildDaten.append(float(\n",
    "        tree[0][0].attrib['{http://www.dji.com/drone-dji/1.0/}FlightPitchDegree'])/180*math.pi)\n",
    "    bildDaten.append(float(\n",
    "        tree[0][0].attrib['{http://www.dji.com/drone-dji/1.0/}FlightYawDegree'])/180*math.pi)\n",
    "    #bildDaten.append(float(tree[0][0].attrib['{http://www.dji.com/drone-dji/1.0/}RelativeAltitude'])/180*math.pi)\n",
    "    bilderDaten.append(bildDaten)\n",
    "bilderDaten = np.array(bilderDaten)\n"
   ]
  },
  {
   "cell_type": "markdown",
   "metadata": {},
   "source": [
    "## Marker identifizieren"
   ]
  },
  {
   "cell_type": "code",
   "execution_count": 11,
   "metadata": {},
   "outputs": [],
   "source": [
    "\n",
    "LUT_IN = [0, 158, 216, 255]\n",
    "LUT_OUT = [0, 22, 80, 176]\n",
    "lut = np.interp(np.arange(0, 256),\n",
    "                LUT_IN, LUT_OUT).astype(np.uint8)\n",
    "\n",
    "aruco_dict = aruco.Dictionary_create(32, 3)\n",
    "beobachtungen = []\n",
    "\n",
    "markers = set()\n",
    "for bildnr in range(len(bilder)):\n",
    "    bild = bilder[bildnr]\n",
    "    cv_img = cv2.imread(bild)\n",
    "    tmp = cv2.LUT(cv_img, lut)\n",
    "    gray = cv2.cvtColor(tmp, cv2.COLOR_BGR2GRAY)\n",
    "    \n",
    "    parameter = aruco.DetectorParameters.create()\n",
    "    parameter.cornerRefinementMethod = aruco.CORNER_REFINE_SUBPIX;\n",
    "    corners, ids, _ = aruco.detectMarkers(gray, aruco_dict, parameters=parameter)\n",
    "\n",
    "    for nr in range(len(ids)):\n",
    "        for cid in range(len(corners[nr][0])):\n",
    "            markers.add(ids[nr][0]*10 + cid)\n",
    "            beobachtungen.append(\n",
    "                (bildnr, ids[nr][0]*10 + cid, 0, (corners[nr][0][cid][0]/Xpixel-0.5)*Xsensor))\n",
    "            beobachtungen.append(\n",
    "                    (bildnr, ids[nr][0]*10 + cid, 1, (corners[nr][0][cid][1]/Ypixel-0.5)*Ysensor))\n",
    "\n",
    "    #marked = aruco.drawDetectedMarkers(cv_img, corners, ids)\n",
    "    #cv2.imshow('image', cv2.resize(marked, (800,600)))\n",
    "    # cv2.waitKey(0)"
   ]
  },
  {
   "cell_type": "markdown",
   "metadata": {},
   "source": [
    "## Vektor mit Beobachtungen\n",
    "Erstmal nur Marker aus den Bildern, wird noch mit weiteren Daten gefüllt"
   ]
  },
  {
   "cell_type": "code",
   "execution_count": 12,
   "metadata": {},
   "outputs": [],
   "source": [
    "\n",
    "l = [i[len(i)-1] for i in beobachtungen]\n"
   ]
  },
  {
   "cell_type": "markdown",
   "metadata": {},
   "source": [
    "## Festlegen von Symbolen\n",
    "für die Unbekannten"
   ]
  },
  {
   "cell_type": "code",
   "execution_count": 13,
   "metadata": {},
   "outputs": [
    {
     "name": "stdout",
     "output_type": "stream",
     "text": [
      "[c, deltax, deltay, bild0_x, bild0_y, bild0_z, bild0_kappa, bild0_omega, bild0_phi, bild1_x, bild1_y, bild1_z, bild1_kappa, bild1_omega, bild1_phi, bild2_x, bild2_y, bild2_z, bild2_kappa, bild2_omega, bild2_phi, bild3_x, bild3_y, bild3_z, bild3_kappa, bild3_omega, bild3_phi, bild4_x, bild4_y, bild4_z, bild4_kappa, bild4_omega, bild4_phi, bild5_x, bild5_y, bild5_z, bild5_kappa, bild5_omega, bild5_phi, marker0x, marker0y, marker0z, marker1x, marker1y, marker1z, marker2x, marker2y, marker2z, marker3x, marker3y, marker3z, marker260x, marker260y, marker260z, marker261x, marker261y, marker261z, marker262x, marker262y, marker262z, marker263x, marker263y, marker263z, marker10x, marker10y, marker10z, marker11x, marker11y, marker11z, marker12x, marker12y, marker12z, marker13x, marker13y, marker13z, marker140x, marker140y, marker140z, marker141x, marker141y, marker141z, marker142x, marker142y, marker142z, marker143x, marker143y, marker143z, marker30x, marker30y, marker30z, marker31x, marker31y, marker31z, marker160x, marker160y, marker160z, marker161x, marker161y, marker161z, marker162x, marker162y, marker162z, marker163x, marker163y, marker163z, marker32x, marker32y, marker32z, marker33x, marker33y, marker33z, marker170x, marker170y, marker170z, marker171x, marker171y, marker171z, marker172x, marker172y, marker172z, marker173x, marker173y, marker173z, marker180x, marker180y, marker180z, marker181x, marker181y, marker181z, marker182x, marker182y, marker182z, marker183x, marker183y, marker183z]\n"
     ]
    }
   ],
   "source": [
    "sym = []\n",
    "\n",
    "innereOrientierung = [\n",
    "    Symbol('c'),\n",
    "    Symbol('deltax'),\n",
    "    Symbol('deltay')\n",
    "]\n",
    "\n",
    "sym.extend(innereOrientierung)\n",
    "\n",
    "bildOrientierung = []\n",
    "for bild in range(len(bilder)):\n",
    "    bildO = []\n",
    "    bildO.append(Symbol('bild'+str(bild)+'_x'))\n",
    "    bildO.append(Symbol('bild'+str(bild)+'_y'))\n",
    "    bildO.append(Symbol('bild'+str(bild)+'_z'))\n",
    "    bildO.append(Symbol('bild'+str(bild)+'_kappa'))\n",
    "    bildO.append(Symbol('bild'+str(bild)+'_omega'))\n",
    "    bildO.append(Symbol('bild'+str(bild)+'_phi'))\n",
    "    bildOrientierung.append(bildO)\n",
    "    sym.extend(bildO)\n",
    "\n",
    "neupunkte = []\n",
    "for marker in list(markers):\n",
    "    neup = []\n",
    "    neup.append(Symbol('marker'+str(marker)+'x'))\n",
    "    neup.append(Symbol('marker'+str(marker)+'y'))\n",
    "    neup.append(Symbol('marker'+str(marker)+'z'))\n",
    "    neupunkte.append(neup)\n",
    "    sym.extend(neup)\n",
    "\n",
    "print(sym)\n"
   ]
  },
  {
   "cell_type": "markdown",
   "metadata": {},
   "source": [
    "## Erzeugen von Näherungswerten\n",
    "- Brennweite: EXIF\n",
    "- Verschiebung Fokuspunkt: 0\n",
    "- Bilder: GNSS aus EXIF, Ausrichtung aus Kompass, Neigung 0\n",
    "- Marker: Koordinaten des ersten Bildes plus Zufall"
   ]
  },
  {
   "cell_type": "code",
   "execution_count": 14,
   "metadata": {},
   "outputs": [],
   "source": [
    "from random import random\n",
    "\n",
    "x0 = []\n",
    "\n",
    "bilderDatenFlat = bilderDaten.flatten()\n",
    "\n",
    "for nr, __ in enumerate(sym):\n",
    "    if nr == 0:  # Brennweite\n",
    "        x0.append(0.0045)\n",
    "    elif nr == 1:  # Fokuspunkt\n",
    "        x0.append(0)\n",
    "    elif nr == 2:  # Fokuspunkt\n",
    "        x0.append(0)\n",
    "    elif nr > 2 and nr < len(bilderDatenFlat)+3:\n",
    "        x0.append(bilderDatenFlat[nr-3])\n",
    "    elif (nr-3) % 3 == 0:\n",
    "        x0.append(bilderDatenFlat[0]+(random()-5)*10)\n",
    "    elif (nr-3) % 3 == 1:\n",
    "        x0.append(bilderDatenFlat[1]+(random()-5)*10)\n",
    "    elif (nr-3) % 3 == 2:\n",
    "        x0.append(bilderDatenFlat[2]+(random()-5)*10)\n",
    "    else:\n",
    "        x0.append(0)\n"
   ]
  },
  {
   "cell_type": "markdown",
   "metadata": {},
   "source": [
    "## Formeln\n",
    "siehe Seite 281 Nahbereichsphotogrammetrie"
   ]
  },
  {
   "cell_type": "markdown",
   "metadata": {},
   "source": [
    "folgende Formeln aus Nahbereichsphotogrammetrie S. 274"
   ]
  },
  {
   "cell_type": "code",
   "execution_count": 15,
   "metadata": {},
   "outputs": [],
   "source": [
    "formeln = []\n",
    "\n",
    "\n",
    "def r11(kappa, omega, phi):\n",
    "    return cos(phi)*cos(kappa)-sin(phi)*sin(omega)*sin(kappa)\n",
    "\n",
    "\n",
    "def r21(kappa, omega, phi):\n",
    "    return sin(phi)*cos(kappa)+cos(phi)*sin(omega)*sin(kappa)\n",
    "\n",
    "\n",
    "def r31(kappa, omega, phi):\n",
    "    return -cos(omega)*sin(kappa)\n",
    "\n",
    "\n",
    "def r12(kappa, omega, phi):\n",
    "    return -sin(phi)*cos(omega)\n",
    "\n",
    "\n",
    "def r22(kappa, omega, phi):\n",
    "    return cos(phi)*cos(omega)\n",
    "\n",
    "\n",
    "def r32(kappa, omega, phi):\n",
    "    return sin(omega)\n",
    "\n",
    "\n",
    "def r13(kappa, omega, phi):\n",
    "    return cos(phi)*sin(kappa)+sin(phi)*sin(omega)*cos(kappa)\n",
    "\n",
    "\n",
    "def r23(kappa, omega, phi):\n",
    "    return sin(phi)*sin(kappa)-cos(phi)*sin(omega)*cos(kappa)\n",
    "\n",
    "\n",
    "def r33(kappa, omega, phi):\n",
    "    return cos(omega)*cos(kappa)\n",
    "\n",
    "\n",
    "def kx(x, x0, y, y0, z, z0, kappa, omega, phi):\n",
    "    return r11(kappa, omega, phi)*(x-x0)+r21(kappa, omega, phi)*(y-y0)+r31(kappa, omega, phi)*(z-z0)\n",
    "\n",
    "\n",
    "def ky(x, x0, y, y0, z, z0, kappa, omega, phi):\n",
    "    return r12(kappa, omega, phi)*(x-x0)+r22(kappa, omega, phi)*(y-y0)+r32(kappa, omega, phi)*(z-z0)\n",
    "\n",
    "\n",
    "def nenner(x, x0, y, y0, z, z0, kappa, omega, phi):\n",
    "    return r13(kappa, omega, phi)*(x-x0)+r23(kappa, omega, phi)*(y-y0)+r33(kappa, omega, phi)*(z-z0)\n",
    "\n",
    "\n",
    "def x_kolinear(c, x, x0, y, y0, z, z0, kappa, omega, phi, deltax):\n",
    "    return x0+c*kx(x, x0, y, y0, z, z0, kappa, omega, phi)/nenner(x, x0, y, y0, z, z0, kappa, omega, phi) + deltax\n",
    "\n",
    "\n",
    "def y_kolinear(c, x, x0, y, y0, z, z0, kappa, omega, phi, deltay):\n",
    "    return y0+c*ky(x, x0, y, y0, z, z0, kappa, omega, phi)/nenner(x, x0, y, y0, z, z0, kappa, omega, phi) + deltay\n",
    "\n",
    "\n",
    "def kolinear(xy, c, x0, y0, z0, kappa, omega, phi, x, y, z, deltax, deltay):\n",
    "    if xy == 0:\n",
    "        return x_kolinear(c, x, x0, y, y0, z, z0, kappa, omega, phi, deltax)\n",
    "    return y_kolinear(c, x, x0, y, y0, z, z0, kappa, omega, phi, deltay)"
   ]
  },
  {
   "cell_type": "code",
   "execution_count": 16,
   "metadata": {},
   "outputs": [],
   "source": [
    "formeln = []\n",
    "for bnr in range(len(beobachtungen)):\n",
    "    bildnr, punkt, xy, koord = beobachtungen[bnr]\n",
    "    ori = bildOrientierung[bildnr]\n",
    "    bo = bildOrientierung[bildnr]\n",
    "    neup = neupunkte[list(markers).index(punkt)]\n",
    "    formeln.append(kolinear(\n",
    "        xy, innereOrientierung[0], bo[0], bo[1], bo[2], bo[3], bo[4], bo[5], neup[0], neup[1], neup[2], innereOrientierung[1],innereOrientierung[2]))\n",
    "\n",
    "\n",
    "formeln.append(innereOrientierung[0])\n",
    "l.append(x0[0])\n",
    "\n",
    "for bild in range(len(bildOrientierung)):\n",
    "    for bildP in range(3):\n",
    "        formeln.append(bildOrientierung[bild][bildP])\n",
    "        l.append(bilderDaten[bild][bildP])\n"
   ]
  },
  {
   "cell_type": "markdown",
   "metadata": {},
   "source": [
    "## Bilden der A-Matrix-Vorlage\n",
    "aus Ableitungen der Formeln"
   ]
  },
  {
   "cell_type": "code",
   "execution_count": 17,
   "metadata": {},
   "outputs": [],
   "source": [
    "A_vorlage = []\n",
    "for f in range(len(formeln)):\n",
    "    zeile = []\n",
    "    for s in range(len(sym)):\n",
    "        formel = formeln[f].diff(sym[s])\n",
    "        zeile.append(formel)\n",
    "    A_vorlage.append(zeile)\n"
   ]
  },
  {
   "cell_type": "markdown",
   "metadata": {},
   "source": [
    "## Gewichtung\n",
    "erstmal alles gleich"
   ]
  },
  {
   "cell_type": "code",
   "execution_count": 18,
   "metadata": {},
   "outputs": [
    {
     "name": "stdout",
     "output_type": "stream",
     "text": [
      "P [[1. 0. 0. ... 0. 0. 0.]\n",
      " [0. 1. 0. ... 0. 0. 0.]\n",
      " [0. 0. 1. ... 0. 0. 0.]\n",
      " ...\n",
      " [0. 0. 0. ... 1. 0. 0.]\n",
      " [0. 0. 0. ... 0. 1. 0.]\n",
      " [0. 0. 0. ... 0. 0. 1.]]\n"
     ]
    }
   ],
   "source": [
    "\n",
    "P = np.eye(len(l))\n",
    "print('P', P)\n"
   ]
  },
  {
   "cell_type": "markdown",
   "metadata": {},
   "source": [
    "## Ab hier Schleife..."
   ]
  },
  {
   "cell_type": "code",
   "execution_count": 19,
   "metadata": {},
   "outputs": [
    {
     "data": {
      "text/plain": [
       "1.5366143850533953e+27"
      ]
     },
     "execution_count": 19,
     "metadata": {},
     "output_type": "execute_result"
    }
   ],
   "source": [
    "werte = {}\n",
    "\n",
    "for nr in range(len(sym)):\n",
    "    werte[sym[nr]] = x0[nr]\n",
    "\n",
    "#print(werte)\n",
    "\n",
    "A = np.empty((len(formeln), len(sym)))\n",
    "for f in range(len(formeln)):\n",
    "    for s in range(len(sym)):\n",
    "        A[f][s] = A_vorlage[f][s].evalf(subs=werte)\n",
    "\n",
    "\n",
    "l0 = np.empty(len(l))\n",
    "for i in range(len(l0)):\n",
    "    l0[i] = formeln[i].evalf(subs=werte)\n",
    "\n",
    "dl = l - l0\n",
    "\n",
    "N = np.transpose(A)@P@A\n",
    "h = np.transpose(A)@P@dl\n",
    "Qx = np.linalg.inv(N)\n",
    "dx = Qx@h\n",
    "\n",
    "x0 = x0 + dx\n",
    "\n",
    "#print('x0', x0)\n",
    "\n",
    "dx.sum()\n"
   ]
  },
  {
   "cell_type": "code",
   "execution_count": 20,
   "metadata": {},
   "outputs": [
    {
     "data": {
      "text/plain": [
       "array([ 3.56152570e+08, -1.10758058e+09, -1.72056862e+09, -4.67932144e+09,\n",
       "       -1.24866254e+09, -4.73166571e+04, -1.53836557e+12, -1.44489182e+12,\n",
       "        1.68423466e+12,  6.98863916e+08,  1.51410318e+09,  1.06755403e+05,\n",
       "        1.43628650e+11,  7.74542257e+10,  1.50154260e+11, -2.73553696e+08,\n",
       "        1.40296469e+08, -1.48357988e+04,  7.56818744e+12,  4.26762333e+12,\n",
       "        4.26520302e+12, -3.14961357e+08, -5.94792702e+08, -7.36944711e+04,\n",
       "        1.13266439e+13,  6.24227084e+12,  6.77987422e+12,  4.60761373e+08,\n",
       "        4.74837544e+08,  5.93570386e+04,  3.47977677e+12,  4.77995378e+12,\n",
       "        3.12659236e+12,  4.16482147e+09, -2.76855975e+08, -2.74799511e+04,\n",
       "        6.57875850e+12,  4.68146400e+12,  4.82536033e+12,  3.63872218e+15,\n",
       "        3.55396191e+15,  3.44494389e+15,  3.92116378e+15,  3.22403897e+15,\n",
       "        3.31623070e+15,  4.04519023e+15,  3.43510523e+15,  3.99702505e+15,\n",
       "        2.18773197e+15,  2.06969044e+15,  2.23850811e+15, -8.50306212e+25,\n",
       "       -8.34994208e+25, -7.71301876e+25,  4.57457927e+26,  3.92085715e+26,\n",
       "        4.30374250e+26,  3.93628738e+26,  3.42369228e+26,  3.93891309e+26,\n",
       "       -1.10414552e+26, -1.12850941e+26, -1.10357881e+26, -6.40425700e+13,\n",
       "       -6.33337461e+13, -8.35653339e+12,  2.90404909e+15,  2.49837998e+15,\n",
       "        2.68317235e+15,  2.12095320e+15,  2.13035472e+15,  2.17130381e+15,\n",
       "        3.45415092e+15,  3.37961158e+15,  3.64100765e+15,  3.66971437e+15,\n",
       "        2.95784565e+15,  3.49533331e+15,  4.18661025e+15,  3.48884001e+15,\n",
       "        3.74667845e+15,  3.72533590e+15,  3.00552997e+15,  3.35158456e+15,\n",
       "        1.73483188e+15,  1.63012221e+15,  1.61838926e+15, -4.96009345e+26,\n",
       "       -4.18033685e+26, -4.34302307e+26, -1.88830802e+26, -1.60275115e+26,\n",
       "       -1.53763340e+26,  1.15457697e+15,  1.02549931e+15,  1.33297864e+15,\n",
       "        6.52885918e+15,  5.28969610e+15,  5.55721521e+15,  2.44426656e+15,\n",
       "        1.83287330e+15,  2.34186107e+15,  5.36991573e+15,  4.90659119e+15,\n",
       "        4.38745807e+15, -2.23644210e+26, -1.70151411e+26, -1.65011637e+26,\n",
       "        1.79645110e+26,  1.51425897e+26,  1.44800120e+26,  6.81672303e+25,\n",
       "        6.27650972e+25,  5.17969085e+25,  3.75990925e+26,  2.93474356e+26,\n",
       "        3.12809816e+26,  2.66259319e+26,  2.58988314e+26,  2.40120658e+26,\n",
       "       -1.86244236e+26, -1.78464079e+26, -1.56389318e+26,  8.03027078e+25,\n",
       "        7.93876628e+25,  7.12223570e+25,  1.89594703e+22,  1.75968690e+22,\n",
       "        1.68663924e+22,  1.32564046e+20,  1.33608819e+20,  1.39869357e+20,\n",
       "       -1.11104355e+13, -1.19998023e+13, -1.05832693e+13])"
      ]
     },
     "execution_count": 20,
     "metadata": {},
     "output_type": "execute_result"
    }
   ],
   "source": [
    "dx"
   ]
  }
 ],
 "metadata": {
  "kernelspec": {
   "display_name": "Python 3.10.7 64-bit",
   "language": "python",
   "name": "python3"
  },
  "language_info": {
   "codemirror_mode": {
    "name": "ipython",
    "version": 3
   },
   "file_extension": ".py",
   "mimetype": "text/x-python",
   "name": "python",
   "nbconvert_exporter": "python",
   "pygments_lexer": "ipython3",
   "version": "3.10.7"
  },
  "orig_nbformat": 4,
  "vscode": {
   "interpreter": {
    "hash": "e7370f93d1d0cde622a1f8e1c04877d8463912d04d973331ad4851f04de6915a"
   }
  }
 },
 "nbformat": 4,
 "nbformat_minor": 2
}
