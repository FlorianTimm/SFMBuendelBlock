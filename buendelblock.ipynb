{
 "cells": [
  {
   "cell_type": "markdown",
   "metadata": {},
   "source": [
    "# Bündelblockausgleichung\n",
    "\n",
    "Mit Aruco-Markern und Näherungskoordinaten aus GNSS"
   ]
  },
  {
   "cell_type": "code",
   "execution_count": 1,
   "metadata": {},
   "outputs": [],
   "source": [
    "from PIL import Image\n",
    "from glob import glob\n",
    "import cv2\n",
    "from cv2 import aruco\n",
    "import numpy as np\n",
    "from sympy import *\n",
    "import math\n",
    "from PIL import ExifTags\n",
    "from xml.etree import ElementTree as ET\n",
    "import utm\n",
    "import math"
   ]
  },
  {
   "cell_type": "markdown",
   "metadata": {},
   "source": [
    "## Parameter festlegen\n",
    "Sensorgröße in Millimetern und Pixeln"
   ]
  },
  {
   "cell_type": "code",
   "execution_count": 2,
   "metadata": {},
   "outputs": [],
   "source": [
    "Xsensor = 0.00617\n",
    "Ysensor = 0.00455\n",
    "Xpixel = 4000.\n",
    "Ypixel = 3000."
   ]
  },
  {
   "cell_type": "code",
   "execution_count": 13,
   "metadata": {},
   "outputs": [],
   "source": [
    "bilder = glob('./bildverband2/*.JPG')[0:2]\n",
    "\n",
    "bilderDaten = []\n",
    "\n",
    "for bild in bilder:\n",
    "    bildDaten = []\n",
    "    img = Image.open(bild)\n",
    "    exif = img._getexif()\n",
    "    for tag, value in exif.items():\n",
    "        if 'GPSInfo' == ExifTags.TAGS.get(tag, tag):\n",
    "            n = float(value[2][0])+float(value[2][1]) / \\\n",
    "                60.+float(value[2][2])/3600.\n",
    "            e = float(value[4][0])+float(value[4][1]) / \\\n",
    "                60.+float(value[4][2])/3600.\n",
    "            h = float(value[6])\n",
    "            u = utm.from_latlon(n,e, 32)\n",
    "            bildDaten.append(u[0])\n",
    "            bildDaten.append(u[1])\n",
    "            bildDaten.append(h)\n",
    "    with open(bild, \"rb\") as f:\n",
    "        s = str(f.read())\n",
    "\n",
    "    start = s.find('<x:xmpmeta')\n",
    "    end = s.find('</x:xmpmeta')\n",
    "    xmp = s[start:end+12].replace(\"\\\\n\", \"\\n\")\n",
    "    tree = ET.XML(xmp)\n",
    "\n",
    "    bildDaten.append(float(tree[0][0].attrib['{http://www.dji.com/drone-dji/1.0/}FlightRollDegree'])/180*math.pi)\n",
    "   \n",
    "    bildDaten.append(float(\n",
    "        tree[0][0].attrib['{http://www.dji.com/drone-dji/1.0/}FlightPitchDegree'])/180*math.pi)\n",
    "    bildDaten.append(float(\n",
    "        tree[0][0].attrib['{http://www.dji.com/drone-dji/1.0/}FlightYawDegree'])/180*math.pi)\n",
    "    #bildDaten.append(float(tree[0][0].attrib['{http://www.dji.com/drone-dji/1.0/}RelativeAltitude'])/180*math.pi)\n",
    "    bilderDaten.append(bildDaten)\n",
    "bilderDaten = np.array(bilderDaten)\n"
   ]
  },
  {
   "cell_type": "markdown",
   "metadata": {},
   "source": [
    "## Marker identifizieren"
   ]
  },
  {
   "cell_type": "code",
   "execution_count": 14,
   "metadata": {},
   "outputs": [],
   "source": [
    "\n",
    "LUT_IN = [0, 158, 216, 255]\n",
    "LUT_OUT = [0, 22, 80, 176]\n",
    "lut = np.interp(np.arange(0, 256),\n",
    "                LUT_IN, LUT_OUT).astype(np.uint8)\n",
    "\n",
    "aruco_dict = aruco.Dictionary_create(32, 3)\n",
    "beobachtungen = []\n",
    "\n",
    "markers = set()\n",
    "for bildnr in range(len(bilder)):\n",
    "    bild = bilder[bildnr]\n",
    "    cv_img = cv2.imread(bild)\n",
    "    tmp = cv2.LUT(cv_img, lut)\n",
    "    gray = cv2.cvtColor(tmp, cv2.COLOR_BGR2GRAY)\n",
    "    \n",
    "    parameter = aruco.DetectorParameters.create()\n",
    "    parameter.cornerRefinementMethod = aruco.CORNER_REFINE_SUBPIX;\n",
    "    corners, ids, _ = aruco.detectMarkers(gray, aruco_dict, parameters=parameter)\n",
    "\n",
    "    for nr in range(len(ids)):\n",
    "        for cid in range(len(corners[nr][0])):\n",
    "            markers.add(ids[nr][0]*10 + cid)\n",
    "            beobachtungen.append(\n",
    "                (bildnr, ids[nr][0]*10 + cid, 0, (corners[nr][0][cid][0]/Xpixel-0.5)*Xsensor))\n",
    "            beobachtungen.append(\n",
    "                    (bildnr, ids[nr][0]*10 + cid, 1, (corners[nr][0][cid][1]/Ypixel-0.5)*Ysensor))\n",
    "\n",
    "    #marked = aruco.drawDetectedMarkers(cv_img, corners, ids)\n",
    "    #cv2.imshow('image', cv2.resize(marked, (800,600)))\n",
    "    # cv2.waitKey(0)"
   ]
  },
  {
   "cell_type": "markdown",
   "metadata": {},
   "source": [
    "## Vektor mit Beobachtungen\n",
    "Erstmal nur Marker aus den Bildern, wird noch mit weiteren Daten gefüllt"
   ]
  },
  {
   "cell_type": "code",
   "execution_count": 15,
   "metadata": {},
   "outputs": [],
   "source": [
    "\n",
    "l = [i[len(i)-1] for i in beobachtungen]\n"
   ]
  },
  {
   "cell_type": "markdown",
   "metadata": {},
   "source": [
    "## Festlegen von Symbolen\n",
    "für die Unbekannten"
   ]
  },
  {
   "cell_type": "code",
   "execution_count": 16,
   "metadata": {},
   "outputs": [
    {
     "name": "stdout",
     "output_type": "stream",
     "text": [
      "[c, deltax, deltay, bild0_x, bild0_y, bild0_z, bild0_kappa, bild0_omega, bild0_phi, bild1_x, bild1_y, bild1_z, bild1_kappa, bild1_omega, bild1_phi, marker0x, marker0y, marker0z, marker1x, marker1y, marker1z, marker2x, marker2y, marker2z, marker3x, marker3y, marker3z, marker10x, marker10y, marker10z, marker11x, marker11y, marker11z, marker12x, marker12y, marker12z, marker13x, marker13y, marker13z, marker140x, marker140y, marker140z, marker141x, marker141y, marker141z, marker142x, marker142y, marker142z, marker143x, marker143y, marker143z, marker160x, marker160y, marker160z, marker161x, marker161y, marker161z, marker162x, marker162y, marker162z, marker163x, marker163y, marker163z, marker180x, marker180y, marker180z, marker181x, marker181y, marker181z, marker182x, marker182y, marker182z, marker183x, marker183y, marker183z]\n"
     ]
    }
   ],
   "source": [
    "sym = []\n",
    "\n",
    "innereOrientierung = [\n",
    "    Symbol('c'),\n",
    "    Symbol('deltax'),\n",
    "    Symbol('deltay')\n",
    "]\n",
    "\n",
    "sym.extend(innereOrientierung)\n",
    "\n",
    "bildOrientierung = []\n",
    "for bild in range(len(bilder)):\n",
    "    bildO = []\n",
    "    bildO.append(Symbol('bild'+str(bild)+'_x'))\n",
    "    bildO.append(Symbol('bild'+str(bild)+'_y'))\n",
    "    bildO.append(Symbol('bild'+str(bild)+'_z'))\n",
    "    bildO.append(Symbol('bild'+str(bild)+'_kappa'))\n",
    "    bildO.append(Symbol('bild'+str(bild)+'_omega'))\n",
    "    bildO.append(Symbol('bild'+str(bild)+'_phi'))\n",
    "    bildOrientierung.append(bildO)\n",
    "    sym.extend(bildO)\n",
    "\n",
    "neupunkte = []\n",
    "for marker in list(markers):\n",
    "    neup = []\n",
    "    neup.append(Symbol('marker'+str(marker)+'x'))\n",
    "    neup.append(Symbol('marker'+str(marker)+'y'))\n",
    "    neup.append(Symbol('marker'+str(marker)+'z'))\n",
    "    neupunkte.append(neup)\n",
    "    sym.extend(neup)\n",
    "\n",
    "print(sym)\n"
   ]
  },
  {
   "cell_type": "markdown",
   "metadata": {},
   "source": [
    "## Erzeugen von Näherungswerten\n",
    "- Brennweite: EXIF\n",
    "- Verschiebung Fokuspunkt: 0\n",
    "- Bilder: GNSS aus EXIF, Ausrichtung aus Kompass, Neigung 0\n",
    "- Marker: Koordinaten des ersten Bildes plus Zufall"
   ]
  },
  {
   "cell_type": "code",
   "execution_count": 17,
   "metadata": {},
   "outputs": [],
   "source": [
    "from random import random\n",
    "\n",
    "x0 = []\n",
    "\n",
    "bilderDatenFlat = bilderDaten.flatten()\n",
    "\n",
    "for nr, __ in enumerate(sym):\n",
    "    if nr == 0:  # Brennweite\n",
    "        x0.append(0.0045)\n",
    "    elif nr == 1:  # Fokuspunkt\n",
    "        x0.append(0)\n",
    "    elif nr == 2:  # Fokuspunkt\n",
    "        x0.append(0)\n",
    "    elif nr > 2 and nr < len(bilderDatenFlat)+3:\n",
    "        x0.append(bilderDatenFlat[nr-3])\n",
    "    elif (nr-3) % 3 == 0:\n",
    "        x0.append(bilderDatenFlat[0]+(random()-5)*10)\n",
    "    elif (nr-3) % 3 == 1:\n",
    "        x0.append(bilderDatenFlat[1]+(random()-5)*10)\n",
    "    elif (nr-3) % 3 == 2:\n",
    "        x0.append(bilderDatenFlat[2]+(random()-5)*10)\n",
    "    else:\n",
    "        x0.append(0)\n"
   ]
  },
  {
   "cell_type": "markdown",
   "metadata": {},
   "source": [
    "## Formeln\n",
    "siehe Seite 281 Nahbereichsphotogrammetrie"
   ]
  },
  {
   "cell_type": "markdown",
   "metadata": {},
   "source": [
    "folgende Formeln aus Nahbereichsphotogrammetrie S. 274"
   ]
  },
  {
   "cell_type": "code",
   "execution_count": 18,
   "metadata": {},
   "outputs": [],
   "source": [
    "formeln = []\n",
    "\n",
    "\n",
    "def r11(kappa, omega, phi):\n",
    "    return cos(phi)*cos(kappa)-sin(phi)*sin(omega)*sin(kappa)\n",
    "\n",
    "\n",
    "def r21(kappa, omega, phi):\n",
    "    return sin(phi)*cos(kappa)+cos(phi)*sin(omega)*sin(kappa)\n",
    "\n",
    "\n",
    "def r31(kappa, omega, phi):\n",
    "    return -cos(omega)*sin(kappa)\n",
    "\n",
    "\n",
    "def r12(kappa, omega, phi):\n",
    "    return -sin(phi)*cos(omega)\n",
    "\n",
    "\n",
    "def r22(kappa, omega, phi):\n",
    "    return cos(phi)*cos(omega)\n",
    "\n",
    "\n",
    "def r32(kappa, omega, phi):\n",
    "    return sin(omega)\n",
    "\n",
    "\n",
    "def r13(kappa, omega, phi):\n",
    "    return cos(phi)*sin(kappa)+sin(phi)*sin(omega)*cos(kappa)\n",
    "\n",
    "\n",
    "def r23(kappa, omega, phi):\n",
    "    return sin(phi)*sin(kappa)-cos(phi)*sin(omega)*cos(kappa)\n",
    "\n",
    "\n",
    "def r33(kappa, omega, phi):\n",
    "    return cos(omega)*cos(kappa)\n",
    "\n",
    "\n",
    "def kx(x, x0, y, y0, z, z0, kappa, omega, phi):\n",
    "    return r11(kappa, omega, phi)*(x-x0)+r21(kappa, omega, phi)*(y-y0)+r31(kappa, omega, phi)*(z-z0)\n",
    "\n",
    "\n",
    "def ky(x, x0, y, y0, z, z0, kappa, omega, phi):\n",
    "    return r12(kappa, omega, phi)*(x-x0)+r22(kappa, omega, phi)*(y-y0)+r32(kappa, omega, phi)*(z-z0)\n",
    "\n",
    "\n",
    "def nenner(x, x0, y, y0, z, z0, kappa, omega, phi):\n",
    "    return r13(kappa, omega, phi)*(x-x0)+r23(kappa, omega, phi)*(y-y0)+r33(kappa, omega, phi)*(z-z0)\n",
    "\n",
    "\n",
    "def x_kolinear(c, x, x0, y, y0, z, z0, kappa, omega, phi, deltax):\n",
    "    return x0+c*kx(x, x0, y, y0, z, z0, kappa, omega, phi)/nenner(x, x0, y, y0, z, z0, kappa, omega, phi) + deltax\n",
    "\n",
    "\n",
    "def y_kolinear(c, x, x0, y, y0, z, z0, kappa, omega, phi, deltay):\n",
    "    return y0+c*ky(x, x0, y, y0, z, z0, kappa, omega, phi)/nenner(x, x0, y, y0, z, z0, kappa, omega, phi) + deltay\n",
    "\n",
    "\n",
    "def kolinear(xy, c, x0, y0, z0, kappa, omega, phi, x, y, z, deltax, deltay):\n",
    "    if xy == 0:\n",
    "        return x_kolinear(c, x, x0, y, y0, z, z0, kappa, omega, phi, deltax)\n",
    "    return y_kolinear(c, x, x0, y, y0, z, z0, kappa, omega, phi, deltay)"
   ]
  },
  {
   "cell_type": "code",
   "execution_count": 19,
   "metadata": {},
   "outputs": [],
   "source": [
    "formeln = []\n",
    "for bnr in range(len(beobachtungen)):\n",
    "    bildnr, punkt, xy, koord = beobachtungen[bnr]\n",
    "    ori = bildOrientierung[bildnr]\n",
    "    bo = bildOrientierung[bildnr]\n",
    "    neup = neupunkte[list(markers).index(punkt)]\n",
    "    formeln.append(kolinear(\n",
    "        xy, innereOrientierung[0], bo[0], bo[1], bo[2], bo[3], bo[4], bo[5], neup[0], neup[1], neup[2], innereOrientierung[1],innereOrientierung[2]))\n",
    "\n",
    "\n",
    "formeln.append(innereOrientierung[0])\n",
    "l.append(x0[0])\n",
    "\n",
    "for bild in range(len(bildOrientierung)):\n",
    "    for bildP in range(3):\n",
    "        formeln.append(bildOrientierung[bild][bildP])\n",
    "        l.append(bilderDaten[bild][bildP])\n"
   ]
  },
  {
   "cell_type": "markdown",
   "metadata": {},
   "source": [
    "## Bilden der A-Matrix-Vorlage\n",
    "aus Ableitungen der Formeln"
   ]
  },
  {
   "cell_type": "code",
   "execution_count": 20,
   "metadata": {},
   "outputs": [],
   "source": [
    "A_vorlage = []\n",
    "for f in range(len(formeln)):\n",
    "    zeile = []\n",
    "    for s in range(len(sym)):\n",
    "        formel = formeln[f].diff(sym[s])\n",
    "        zeile.append(formel)\n",
    "    A_vorlage.append(zeile)\n"
   ]
  },
  {
   "cell_type": "markdown",
   "metadata": {},
   "source": [
    "## Gewichtung\n",
    "erstmal alles gleich"
   ]
  },
  {
   "cell_type": "code",
   "execution_count": 21,
   "metadata": {},
   "outputs": [
    {
     "name": "stdout",
     "output_type": "stream",
     "text": [
      "P [[1. 0. 0. ... 0. 0. 0.]\n",
      " [0. 1. 0. ... 0. 0. 0.]\n",
      " [0. 0. 1. ... 0. 0. 0.]\n",
      " ...\n",
      " [0. 0. 0. ... 1. 0. 0.]\n",
      " [0. 0. 0. ... 0. 1. 0.]\n",
      " [0. 0. 0. ... 0. 0. 1.]]\n"
     ]
    }
   ],
   "source": [
    "\n",
    "P = np.eye(len(l))\n",
    "print('P', P)\n"
   ]
  },
  {
   "cell_type": "markdown",
   "metadata": {},
   "source": [
    "## Ab hier Schleife..."
   ]
  },
  {
   "cell_type": "code",
   "execution_count": 22,
   "metadata": {},
   "outputs": [
    {
     "data": {
      "text/plain": [
       "2.948933051806187e+27"
      ]
     },
     "execution_count": 22,
     "metadata": {},
     "output_type": "execute_result"
    }
   ],
   "source": [
    "werte = {}\n",
    "\n",
    "for nr in range(len(sym)):\n",
    "    werte[sym[nr]] = x0[nr]\n",
    "\n",
    "#print(werte)\n",
    "\n",
    "A = np.empty((len(formeln), len(sym)))\n",
    "for f in range(len(formeln)):\n",
    "    for s in range(len(sym)):\n",
    "        A[f][s] = A_vorlage[f][s].evalf(subs=werte)\n",
    "\n",
    "\n",
    "l0 = np.empty(len(l))\n",
    "for i in range(len(l0)):\n",
    "    l0[i] = formeln[i].evalf(subs=werte)\n",
    "\n",
    "dl = l - l0\n",
    "\n",
    "N = np.transpose(A)@P@A\n",
    "h = np.transpose(A)@P@dl\n",
    "Qx = np.linalg.inv(N)\n",
    "dx = Qx@h\n",
    "\n",
    "x0 = x0 + dx\n",
    "\n",
    "#print('x0', x0)\n",
    "\n",
    "dx.sum()\n"
   ]
  },
  {
   "cell_type": "code",
   "execution_count": 23,
   "metadata": {},
   "outputs": [
    {
     "data": {
      "text/plain": [
       "array([-2.57305353e+07, -3.36707456e+08, -2.60316160e+08, -1.03838451e+06,\n",
       "       -2.38858492e+07,  1.00821378e+03, -8.45571686e+09,  1.45122918e+10,\n",
       "       -1.18537191e+11,  1.41022093e+07,  2.48703341e+06,  6.78824386e+02,\n",
       "       -6.27132334e+10, -1.29855652e+10, -2.05246956e+10, -1.24642635e+14,\n",
       "       -9.89152443e+13, -1.10868138e+14, -8.90276927e+13, -6.77112332e+13,\n",
       "       -7.28082856e+13, -1.26157685e+14, -1.06158707e+14, -1.17422258e+14,\n",
       "       -7.03612280e+13, -7.43652112e+13, -7.50803233e+13, -1.20422830e+14,\n",
       "       -9.69245270e+13, -1.06339095e+14, -8.82970114e+13, -8.23259331e+13,\n",
       "       -8.71320015e+13, -1.19181584e+14, -1.16353885e+14, -1.12478751e+14,\n",
       "       -9.22295908e+13, -9.99578476e+13, -8.61699289e+13,  3.98937617e+26,\n",
       "        4.54326369e+26,  4.09485539e+26,  4.55494017e+26,  4.19824816e+26,\n",
       "        4.49568871e+26,  2.06570574e+26,  2.47785213e+26,  2.16675046e+26,\n",
       "        1.57804860e+26,  1.41205434e+26,  1.57429924e+26, -2.53747012e+26,\n",
       "       -2.41233168e+26, -2.89061014e+26,  7.89385896e+25,  7.63474382e+25,\n",
       "        7.84539986e+25, -4.30916793e+25, -4.28275932e+25, -4.71317851e+25,\n",
       "       -3.37720223e+25, -3.85632798e+25, -3.85127322e+25,  9.91560553e+24,\n",
       "        8.81526523e+24,  9.30998151e+24, -5.50952746e+21, -4.74134666e+21,\n",
       "       -5.57164046e+21,  1.79549605e+15,  1.37543536e+15,  1.67594563e+15,\n",
       "        1.71798692e+11,  5.92705487e+11,  4.12316860e+11])"
      ]
     },
     "execution_count": 23,
     "metadata": {},
     "output_type": "execute_result"
    }
   ],
   "source": [
    "dx"
   ]
  }
 ],
 "metadata": {
  "kernelspec": {
   "display_name": "Python 3.10.7 64-bit",
   "language": "python",
   "name": "python3"
  },
  "language_info": {
   "codemirror_mode": {
    "name": "ipython",
    "version": 3
   },
   "file_extension": ".py",
   "mimetype": "text/x-python",
   "name": "python",
   "nbconvert_exporter": "python",
   "pygments_lexer": "ipython3",
   "version": "3.10.7"
  },
  "orig_nbformat": 4,
  "vscode": {
   "interpreter": {
    "hash": "767d51c1340bd893661ea55ea3124f6de3c7a262a8b4abca0554b478b1e2ff90"
   }
  }
 },
 "nbformat": 4,
 "nbformat_minor": 2
}
