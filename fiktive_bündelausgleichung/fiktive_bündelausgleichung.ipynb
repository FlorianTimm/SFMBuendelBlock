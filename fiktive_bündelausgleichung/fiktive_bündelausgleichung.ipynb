{
 "cells": [
  {
   "cell_type": "markdown",
   "metadata": {},
   "source": [
    "Passpunkte\n",
    "\n",
    "| 0  | 1  | 2  | 3  |\n",
    "|----|----|----|----|\n",
    "| 4  | 5  | 6  | 7  |\n",
    "| 8  | 9 | 10 | 11 |\n",
    "| 12 | 13 | 14 | 15 |"
   ]
  },
  {
   "cell_type": "code",
   "execution_count": 32,
   "metadata": {},
   "outputs": [],
   "source": [
    "passpunkte = [\n",
    "    [0, 0, 0],\n",
    "    [1, 0, 0],\n",
    "    [2, 0, 0],\n",
    "    [3, 0, 0],\n",
    "    [0, 1, 0],\n",
    "    [1, 1, 0],\n",
    "    [2, 1, 0],\n",
    "    [3, 1, 0],\n",
    "    [0, 2, 0],\n",
    "    [1, 2, 0],\n",
    "    [2, 2, 0],\n",
    "    [3, 2, 0],\n",
    "    [0, 3, 0],\n",
    "    [1, 3, 0],\n",
    "    [2, 3, 0],\n",
    "    [3, 3, 0]\n",
    "]\n"
   ]
  },
  {
   "cell_type": "code",
   "execution_count": 33,
   "metadata": {},
   "outputs": [],
   "source": [
    "# kamera, bildnr, passpunkt, bildkoordinatenx, y\n",
    "messungen = [\n",
    "    [0, 0, 0, 0, 0],\n",
    "    [0, 0, 1, 1, 0],\n",
    "    [0, 0, 2, 2, 0],\n",
    "    [0, 0, 4, 0, 1],\n",
    "    [0, 0, 5, 1, 1],\n",
    "    [0, 0, 6, 2, 1],\n",
    "    [0, 0, 8, 0, 2],\n",
    "    [0, 0, 9, 1, 2],\n",
    "    [0, 0, 10, 2, 2],\n",
    "    [0, 1, 1, 0, 0],\n",
    "    [0, 1, 2, 1, 0],\n",
    "    [0, 1, 3, 2, 0],\n",
    "    [0, 1, 5, 0, 1],\n",
    "    [0, 1, 6, 1, 1],\n",
    "    [0, 1, 7, 2, 1],\n",
    "    [0, 1, 9, 0, 2],\n",
    "    [0, 1, 10, 1, 2],\n",
    "    [0, 1, 11, 2, 2],\n",
    "    [0, 2, 4, 0, 0],\n",
    "    [0, 2, 5, 1, 0],\n",
    "    [0, 2, 6, 2, 0],\n",
    "    [0, 2, 8, 0, 1],\n",
    "    [0, 2, 9, 1, 1],\n",
    "    [0, 2, 10, 2, 1],\n",
    "    [0, 2, 12, 0, 2],\n",
    "    [0, 2, 13, 1, 2],\n",
    "    [0, 2, 14, 2, 2],\n",
    "    [0, 3, 5, 0, 0],\n",
    "    [0, 3, 6, 1, 0],\n",
    "    [0, 3, 7, 2, 0],\n",
    "    [0, 3, 9, 0, 1],\n",
    "    [0, 3, 10, 1, 1],\n",
    "    [0, 3, 11, 2, 1],\n",
    "    [0, 3, 13, 0, 2],\n",
    "    [0, 3, 14, 1, 2],\n",
    "    [0, 3, 15, 2, 2],\n",
    "    [0, 4, 0, 0, 0],\n",
    "    [0, 4, 1, 1, 0],\n",
    "    [0, 4, 2, 2, 0],\n",
    "    [0, 4, 3, 3, 0],\n",
    "    [0, 4, 4, 0, 1],\n",
    "    [0, 4, 5, 1, 1],\n",
    "    [0, 4, 6, 2, 1],\n",
    "    [0, 4, 7, 3, 1],\n",
    "    [0, 4, 8, 0, 2],\n",
    "    [0, 4, 9, 1, 2],\n",
    "    [0, 4, 10, 2, 2],\n",
    "    [0, 4, 11, 3, 2],\n",
    "    [0, 4, 12, 0, 3],\n",
    "    [0, 4, 13, 1, 3],\n",
    "    [0, 4, 14, 2, 3],\n",
    "    [0, 4, 15, 3, 3]\n",
    "]\n"
   ]
  },
  {
   "cell_type": "code",
   "execution_count": 34,
   "metadata": {},
   "outputs": [],
   "source": [
    "# x,y,z, height, width\n",
    "bild = [\n",
    "    [1, 1, 1, 2,2],\n",
    "    [2, 1, 1, 2, 2],\n",
    "    [1, 2, 1, 2, 2],\n",
    "    [2, 2, 1, 2, 2],\n",
    "    [1.5, 1.5, 1.5, 3, 3]\n",
    "]\n"
   ]
  },
  {
   "cell_type": "code",
   "execution_count": 35,
   "metadata": {},
   "outputs": [],
   "source": [
    "import bz2\n",
    "import os\n",
    "import time\n",
    "import urllib\n",
    "\n",
    "import numpy as np\n",
    "from scipy.optimize import least_squares\n",
    "from scipy.sparse import lil_matrix\n"
   ]
  },
  {
   "cell_type": "code",
   "execution_count": 36,
   "metadata": {},
   "outputs": [],
   "source": [
    "camera_indices = np.array([i[0] for i in messungen])\n",
    "image_indices = np.array([i[1] for i in messungen])\n",
    "point_indices = np.array([i[2] for i in messungen])\n",
    "points_2d = np.array([[i[3]/bild[i[1]][3]-0.5, i[4]/bild[i[1]][4]-0.5]\n",
    "                     for i in messungen])\n",
    "points_3d = np.array(passpunkte)\n",
    "image_params = np.array([[0, 1, 0, i[0], i[1], i[2]] for i in bild])\n",
    "camera_params = np.array([[0.5, 0.5, 0.5]])\n"
   ]
  },
  {
   "cell_type": "code",
   "execution_count": 37,
   "metadata": {},
   "outputs": [
    {
     "name": "stdout",
     "output_type": "stream",
     "text": [
      "n_cameras: 1\n",
      "n_images: 5\n",
      "n_points: 16\n",
      "Total number of parameters: 81\n",
      "Total number of residuals: 104\n"
     ]
    }
   ],
   "source": [
    "n_cameras = camera_params.shape[0]\n",
    "n_images = image_params.shape[0]\n",
    "n_points = points_3d.shape[0]\n",
    "\n",
    "n = n_cameras * 3 + 6 * n_images + 3 * n_points\n",
    "m = 2 * points_2d.shape[0]\n",
    "\n",
    "print(\"n_cameras: {}\".format(n_cameras))\n",
    "print(\"n_images: {}\".format(n_images))\n",
    "print(\"n_points: {}\".format(n_points))\n",
    "print(\"Total number of parameters: {}\".format(n))\n",
    "print(\"Total number of residuals: {}\".format(m))"
   ]
  },
  {
   "cell_type": "code",
   "execution_count": 38,
   "metadata": {},
   "outputs": [],
   "source": [
    "def rotate(points, rot_vecs):\n",
    "    \"\"\"Rotate points by given rotation vectors.\n",
    "    \n",
    "    Rodrigues' rotation formula is used.\n",
    "    \"\"\"\n",
    "    theta = np.linalg.norm(rot_vecs, axis=1)[:, np.newaxis]\n",
    "    with np.errstate(invalid='ignore'):\n",
    "        v = rot_vecs / theta\n",
    "        v = np.nan_to_num(v)\n",
    "    dot = np.sum(points * v, axis=1)[:, np.newaxis]\n",
    "    cos_theta = np.cos(theta)\n",
    "    sin_theta = np.sin(theta)\n",
    "\n",
    "    return cos_theta * points + sin_theta * np.cross(v, points) + dot * (1 - cos_theta) * v\n"
   ]
  },
  {
   "cell_type": "code",
   "execution_count": 39,
   "metadata": {},
   "outputs": [],
   "source": [
    "def project(points, camera_params, image_params):\n",
    "    \"\"\"Convert 3-D points to 2-D by projecting onto images.\"\"\"\n",
    "    points_proj = rotate(points, image_params[:, :3])\n",
    "    points_proj += image_params[:, 3:6]\n",
    "    points_proj = -points_proj[:, :2] / points_proj[:, 2, np.newaxis]\n",
    "    f = camera_params[:, 0]\n",
    "    k1 = camera_params[:, 1]\n",
    "    k2 = camera_params[:, 2 ]\n",
    "    n = np.sum(points_proj**2, axis=1)\n",
    "    r = 1 + k1 * n + k2 * n**2\n",
    "    points_proj *= (r * f)[:, np.newaxis]\n",
    "    return points_proj\n"
   ]
  },
  {
   "cell_type": "code",
   "execution_count": 40,
   "metadata": {},
   "outputs": [],
   "source": [
    "def fun(params, n_cameras, n_images, n_points, camera_indices, images_indices, point_indices, points_2d):\n",
    "    \"\"\"Compute residuals.\n",
    "\n",
    "    `params` contains camera parameters and 3-D coordinates.\n",
    "    \"\"\"\n",
    "    camera_params = params[:n_cameras * 3].reshape((n_cameras, 3))\n",
    "    image_params = params[n_cameras * 3: n_cameras *\n",
    "                          3+n_images*6].reshape((n_images, 6))\n",
    "    points_3d = params[n_cameras*3+n_images*6:].reshape((n_points, 3))\n",
    "    points_proj = project(\n",
    "        points_3d[point_indices], camera_params[camera_indices], image_params[image_indices])\n",
    "    return (points_proj - points_2d).ravel()\n"
   ]
  },
  {
   "cell_type": "code",
   "execution_count": 41,
   "metadata": {},
   "outputs": [],
   "source": [
    "def bundle_adjustment_sparsity(n_cameras, n_images, n_points, camera_indices, image_indices, point_indices):\n",
    "    m = image_indices.size * 2\n",
    "    n = n_cameras * 3 + n_images * 6 + n_points * 3\n",
    "    A = lil_matrix((m, n), dtype=int)\n",
    "\n",
    "    i = np.arange(camera_indices.size)\n",
    "\n",
    "    for s in range(3):\n",
    "        A[2 * i, camera_indices * 3 + s] = 1\n",
    "        A[2 * i + 1, camera_indices * 3 + s] = 1\n",
    "\n",
    "    for s in range(6):\n",
    "        A[2 * i, n_cameras * 3 + image_indices * 6 + s] = 1\n",
    "        A[2 * i + 1, n_cameras * 3+ image_indices * 6 + s] = 1\n",
    "\n",
    "    for s in range(3):\n",
    "        A[2 * i, n_cameras * 3 + n_images * 6 + point_indices * 3 + s] = 1\n",
    "        A[2 * i + 1, n_cameras * 3 + n_images * 6 + point_indices * 3 + s] = 1\n",
    "\n",
    "    return A\n"
   ]
  },
  {
   "cell_type": "code",
   "execution_count": 42,
   "metadata": {},
   "outputs": [
    {
     "data": {
      "text/plain": [
       "array([[0.5, 0.5, 0.5],\n",
       "       [0. , 1. , 0. ],\n",
       "       [1. , 1. , 1. ],\n",
       "       [0. , 1. , 0. ],\n",
       "       [2. , 1. , 1. ],\n",
       "       [0. , 1. , 0. ],\n",
       "       [1. , 2. , 1. ],\n",
       "       [0. , 1. , 0. ],\n",
       "       [2. , 2. , 1. ],\n",
       "       [0. , 1. , 0. ],\n",
       "       [1.5, 1.5, 1.5],\n",
       "       [0. , 0. , 0. ],\n",
       "       [1. , 0. , 0. ],\n",
       "       [2. , 0. , 0. ],\n",
       "       [3. , 0. , 0. ],\n",
       "       [0. , 1. , 0. ],\n",
       "       [1. , 1. , 0. ],\n",
       "       [2. , 1. , 0. ],\n",
       "       [3. , 1. , 0. ],\n",
       "       [0. , 2. , 0. ],\n",
       "       [1. , 2. , 0. ],\n",
       "       [2. , 2. , 0. ],\n",
       "       [3. , 2. , 0. ],\n",
       "       [0. , 3. , 0. ],\n",
       "       [1. , 3. , 0. ],\n",
       "       [2. , 3. , 0. ],\n",
       "       [3. , 3. , 0. ]])"
      ]
     },
     "execution_count": 42,
     "metadata": {},
     "output_type": "execute_result"
    }
   ],
   "source": [
    "x0 = np.hstack((camera_params.ravel(), image_params.ravel(), points_3d.ravel()))\n",
    "f0 = fun(x0, n_cameras, n_images, n_points, camera_indices, image_indices, point_indices, points_2d)\n",
    "x0.reshape(27,3)"
   ]
  },
  {
   "cell_type": "code",
   "execution_count": 43,
   "metadata": {},
   "outputs": [
    {
     "name": "stdout",
     "output_type": "stream",
     "text": [
      "   Iteration     Total nfev        Cost      Cost reduction    Step norm     Optimality   \n",
      "       0              1         1.8832e+14                                    1.71e+16    \n",
      "       1              3         1.1316e+14      7.52e+13       1.06e+01       1.01e+16    \n",
      "       2              4         3.9845e+13      7.33e+13       2.35e+01       3.43e+15    \n",
      "       3              5         4.4343e+12      3.54e+13       5.32e+01       3.91e+14    \n",
      "       4              6         3.4764e+11      4.09e+12       5.29e+01       4.08e+13    \n",
      "       5              7         4.4616e+10      3.03e+11       1.14e+01       4.67e+12    \n",
      "       6              8         1.0544e+10      3.41e+10       1.38e+01       1.75e+12    \n",
      "       7              9         7.2914e+08      9.81e+09       3.97e+00       1.76e+11    \n",
      "       8             10         5.8294e+08      1.46e+08       4.44e+01       9.18e+10    \n",
      "       9             11         5.8188e+07      5.25e+08       2.80e+00       2.99e+09    \n",
      "      10             12         3.4355e+07      2.38e+07       9.59e+00       4.48e+09    \n",
      "      11             13         2.2547e+07      1.18e+07       1.83e+01       7.77e+09    \n",
      "      12             14         8.3940e+06      1.42e+07       1.48e+01       3.51e+09    \n",
      "      13             15         1.4976e+06      6.90e+06       8.26e+00       8.73e+08    \n",
      "      14             16         7.0306e+05      7.95e+05       1.41e+01       4.12e+08    \n",
      "      15             17         6.5414e+04      6.38e+05       4.17e+00       6.65e+07    \n",
      "      16             18         3.4906e+03      6.19e+04       9.19e+00       4.30e+06    \n",
      "      17             19         9.4745e+00      3.48e+03       1.69e+01       1.10e+04    \n",
      "      18             21         7.5489e+00      1.93e+00       1.27e+02       7.64e+03    \n",
      "      19             24         6.6874e+00      8.61e-01       1.54e+01       4.04e+03    \n",
      "      20             26         5.7921e+00      8.95e-01       9.92e+00       1.57e+03    \n",
      "      21             27         4.7190e+00      1.07e+00       1.53e+01       7.31e+03    \n",
      "      22             28         4.4613e+00      2.58e-01       8.14e+00       8.99e+03    \n",
      "      23             29         4.2565e+00      2.05e-01       8.74e+00       5.29e+03    \n",
      "      24             30         4.1323e+00      1.24e-01       2.23e+01       1.52e+04    \n",
      "      25             31         3.9915e+00      1.41e-01       4.86e+01       1.29e+04    \n",
      "      26             33         3.8949e+00      9.67e-02       1.62e+01       8.26e+03    \n",
      "      27             34         3.8332e+00      6.17e-02       9.19e+00       9.47e+02    \n",
      "      28             35         3.7709e+00      6.23e-02       1.18e+01       1.06e+03    \n",
      "      29             36         3.6639e+00      1.07e-01       2.88e+01       1.28e+03    \n",
      "      30             37         3.5456e+00      1.18e-01       3.19e+01       7.04e+02    \n",
      "      31             38         3.4323e+00      1.13e-01       4.55e+01       3.22e+03    \n",
      "      32             39         3.3553e+00      7.70e-02       1.19e+02       2.27e+03    \n",
      "      33             40         3.2214e+00      1.34e-01       1.02e+02       2.15e+03    \n",
      "      34             42         3.2069e+00      1.45e-02       5.70e+00       6.16e+02    \n",
      "      35             43         3.1924e+00      1.45e-02       1.35e+01       4.44e+02    \n",
      "      36             44         3.1781e+00      1.43e-02       1.36e+01       3.88e+02    \n",
      "      37             45         3.1614e+00      1.67e-02       1.48e+01       1.23e+01    \n",
      "      38             46         3.1348e+00      2.66e-02       4.32e+01       8.96e+02    \n",
      "      39             48         3.1222e+00      1.26e-02       5.25e+01       1.21e+03    \n",
      "      40             49         3.1128e+00      9.38e-03       2.63e+01       1.01e+03    \n",
      "      41             51         3.1098e+00      3.00e-03       1.16e+01       1.34e+02    \n",
      "      42             52         3.1058e+00      4.03e-03       9.83e+00       1.09e+01    \n",
      "      43             53         3.0979e+00      7.89e-03       2.40e+01       4.88e+01    \n",
      "      44             54         3.0842e+00      1.36e-02       6.11e+01       1.92e+03    \n",
      "      45             56         3.0811e+00      3.10e-03       1.12e+01       2.57e+02    \n",
      "      46             57         3.0775e+00      3.61e-03       1.83e+01       1.68e+02    \n",
      "      47             58         3.0716e+00      5.93e-03       3.86e+01       4.04e+02    \n",
      "      48             59         3.0661e+00      5.53e-03       2.69e+01       2.09e+03    \n",
      "      49             60         3.0630e+00      3.06e-03       2.00e+01       4.93e+02    \n",
      "      50             61         3.0570e+00      5.97e-03       7.86e+00       3.71e+02    \n",
      "      51             62         3.0558e+00      1.26e-03       7.11e+00       8.57e+02    \n",
      "      52             63         3.0503e+00      5.43e-03       6.51e+00       3.88e+00    \n",
      "      53             65         3.0473e+00      3.05e-03       2.11e+00       6.56e+01    \n",
      "      54             66         3.0440e+00      3.25e-03       4.17e+00       7.33e+02    \n",
      "      55             67         3.0405e+00      3.50e-03       3.67e+00       6.62e+02    \n",
      "      56             68         3.0375e+00      3.07e-03       5.36e+00       9.48e+02    \n",
      "      57             69         3.0353e+00      2.14e-03       3.74e+00       2.69e+02    \n",
      "      58             70         3.0328e+00      2.48e-03       2.52e+00       2.83e+02    \n",
      "      59             71         3.0314e+00      1.39e-03       2.14e+00       2.77e+02    \n",
      "      60             72         3.0284e+00      3.04e-03       2.84e+00       1.72e+02    \n",
      "      61             74         3.0271e+00      1.35e-03       8.45e-01       5.08e+00    \n",
      "      62             75         3.0247e+00      2.35e-03       6.69e-01       6.78e+00    \n",
      "      63             76         3.0200e+00      4.71e-03       1.09e+00       1.71e+02    \n",
      "      64             77         3.0104e+00      9.59e-03       2.83e+00       9.99e+02    \n",
      "      65             78         3.0068e+00      3.56e-03       7.83e-01       1.26e+02    \n",
      "      66             79         3.0043e+00      2.55e-03       1.26e+00       2.47e+02    \n",
      "      67             81         2.9997e+00      4.61e-03       9.85e-01       8.64e+02    \n",
      "      68             82         2.9977e+00      1.95e-03       4.39e-01       1.35e+02    \n",
      "      69             84         2.9967e+00      9.99e-04       4.88e-01       1.06e+03    \n",
      "      70             85         2.9935e+00      3.22e-03       1.97e-01       1.45e+03    \n",
      "      71             87         2.9931e+00      3.80e-04       1.49e-01       3.26e+02    \n",
      "      72             88         2.9931e+00      6.26e-05       1.53e-01       3.31e+02    \n",
      "`ftol` termination condition is satisfied.\n",
      "Function evaluations 88, initial cost 1.8832e+14, final cost 2.9931e+00, first-order optimality 3.31e+02.\n"
     ]
    }
   ],
   "source": [
    "\n",
    "A = bundle_adjustment_sparsity(\n",
    "    n_cameras, n_images, n_points, camera_indices, image_indices,  point_indices)\n",
    "t0 = time.time()\n",
    "res = least_squares(fun, x0, jac_sparsity=A, verbose=2, x_scale='jac', ftol=1e-4, method='trf',\n",
    "                    args=(n_cameras, n_images, n_points, camera_indices, image_indices, point_indices, points_2d))\n",
    "t1 = time.time()\n"
   ]
  },
  {
   "cell_type": "code",
   "execution_count": 44,
   "metadata": {},
   "outputs": [
    {
     "data": {
      "text/plain": [
       "array([[  0. , -20.2,   0.1],\n",
       "       [  0. ,   1. ,  -0. ],\n",
       "       [ -0.5,   1.1,   1. ],\n",
       "       [  0. ,   1. ,   0. ],\n",
       "       [ -0.5,   1.1,   1. ],\n",
       "       [  0. ,   1. ,   0. ],\n",
       "       [ -0.6,   1.4,   1. ],\n",
       "       [  0. ,   1. ,   0. ],\n",
       "       [  0.6,   1.2,   1. ],\n",
       "       [  0. ,   1. ,   0. ],\n",
       "       [ -0.3,   1. ,   1.5],\n",
       "       [ -9. , -17.3, -12.4],\n",
       "       [  1.1,  -1.1,  -0.1],\n",
       "       [  1.9,  -2.4,  -0.1],\n",
       "       [ -5.2,  13.2, -12.8],\n",
       "       [-14.5, -11.9, -19.2],\n",
       "       [  1. ,   1.4,  -0. ],\n",
       "       [  1.9,  -1.6,   0. ],\n",
       "       [-21.2,  19.3, -42.7],\n",
       "       [-12.5,   8.1, -17.1],\n",
       "       [  1. ,   2. ,  -0. ],\n",
       "       [  2. ,  -0.2,   0. ],\n",
       "       [-21. , -20.6, -41.5],\n",
       "       [ -7.2,  12.3, -10.7],\n",
       "       [  1. ,   2.3,   0. ],\n",
       "       [  2. ,   1.1,  -0. ],\n",
       "       [-16.2, -36.1, -31.7]])"
      ]
     },
     "execution_count": 44,
     "metadata": {},
     "output_type": "execute_result"
    }
   ],
   "source": [
    "x0\n",
    "np.array(res.x.round(1)).reshape(27,3)"
   ]
  }
 ],
 "metadata": {
  "kernelspec": {
   "display_name": "Python 3.10.7 64-bit",
   "language": "python",
   "name": "python3"
  },
  "language_info": {
   "codemirror_mode": {
    "name": "ipython",
    "version": 3
   },
   "file_extension": ".py",
   "mimetype": "text/x-python",
   "name": "python",
   "nbconvert_exporter": "python",
   "pygments_lexer": "ipython3",
   "version": "3.10.7"
  },
  "orig_nbformat": 4,
  "vscode": {
   "interpreter": {
    "hash": "e7370f93d1d0cde622a1f8e1c04877d8463912d04d973331ad4851f04de6915a"
   }
  }
 },
 "nbformat": 4,
 "nbformat_minor": 2
}
