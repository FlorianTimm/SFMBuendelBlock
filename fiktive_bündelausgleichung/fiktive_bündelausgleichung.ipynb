{
 "cells": [
  {
   "cell_type": "markdown",
   "metadata": {},
   "source": [
    "Passpunkte\n",
    "\n",
    "| 0  | 1  | 2  | 3  |\n",
    "|----|----|----|----|\n",
    "| 4  | 5  | 6  | 7  |\n",
    "| 8  | 9 | 10 | 11 |\n",
    "| 12 | 13 | 14 | 15 |"
   ]
  },
  {
   "cell_type": "code",
   "execution_count": 45,
   "metadata": {},
   "outputs": [],
   "source": [
    "passpunkte = [\n",
    "    [0, 0, 0],\n",
    "    [1, 0, 0],\n",
    "    [2, 0, 0],\n",
    "    [3, 0, 0],\n",
    "    [0, 1, 0],\n",
    "    [1, 1, 0],\n",
    "    [2, 1, 0],\n",
    "    [3, 1, 0],\n",
    "    [0, 2, 0],\n",
    "    [1, 2, 0],\n",
    "    [2, 2, 0],\n",
    "    [3, 2, 0],\n",
    "    [0, 3, 0],\n",
    "    [1, 3, 0],\n",
    "    [2, 3, 0],\n",
    "    [3, 3, 0]\n",
    "]\n"
   ]
  },
  {
   "cell_type": "code",
   "execution_count": 46,
   "metadata": {},
   "outputs": [],
   "source": [
    "# kamera, bildnr, passpunkt, bildkoordinatenx, y\n",
    "messungen = [\n",
    "    [0, 0, 0, 0, 0],\n",
    "    [0, 0, 1, 1, 0],\n",
    "    [0, 0, 2, 2, 0],\n",
    "    [0, 0, 4, 0, 1],\n",
    "    [0, 0, 5, 1, 1],\n",
    "    [0, 0, 6, 2, 1],\n",
    "    [0, 0, 8, 0, 2],\n",
    "    [0, 0, 9, 1, 2],\n",
    "    [0, 0, 10, 2, 2],\n",
    "    [0, 1, 1, 0, 0],\n",
    "    [0, 1, 2, 1, 0],\n",
    "    [0, 1, 3, 2, 0],\n",
    "    [0, 1, 5, 0, 1],\n",
    "    [0, 1, 6, 1, 1],\n",
    "    [0, 1, 7, 2, 1],\n",
    "    [0, 1, 9, 0, 2],\n",
    "    [0, 1, 10, 1, 2],\n",
    "    [0, 1, 11, 2, 2],\n",
    "    [0, 2, 4, 0, 0],\n",
    "    [0, 2, 5, 1, 0],\n",
    "    [0, 2, 6, 2, 0],\n",
    "    [0, 2, 8, 0, 1],\n",
    "    [0, 2, 9, 1, 1],\n",
    "    [0, 2, 10, 2, 1],\n",
    "    [0, 2, 12, 0, 2],\n",
    "    [0, 2, 13, 1, 2],\n",
    "    [0, 2, 14, 2, 2],\n",
    "    [0, 3, 5, 0, 0],\n",
    "    [0, 3, 6, 1, 0],\n",
    "    [0, 3, 7, 2, 0],\n",
    "    [0, 3, 9, 0, 1],\n",
    "    [0, 3, 10, 1, 1],\n",
    "    [0, 3, 11, 2, 1],\n",
    "    [0, 3, 13, 0, 2],\n",
    "    [0, 3, 14, 1, 2],\n",
    "    [0, 3, 15, 2, 2],\n",
    "    [0, 4, 0, 0, 0],\n",
    "    [0, 4, 1, 1, 0],\n",
    "    [0, 4, 2, 2, 0],\n",
    "    [0, 4, 3, 3, 0],\n",
    "    [0, 4, 4, 0, 1],\n",
    "    [0, 4, 5, 1, 1],\n",
    "    [0, 4, 6, 2, 1],\n",
    "    [0, 4, 7, 3, 1],\n",
    "    [0, 4, 8, 0, 2],\n",
    "    [0, 4, 9, 1, 2],\n",
    "    [0, 4, 10, 2, 2],\n",
    "    [0, 4, 11, 3, 2],\n",
    "    [0, 4, 12, 0, 3],\n",
    "    [0, 4, 13, 1, 3],\n",
    "    [0, 4, 14, 2, 3],\n",
    "    [0, 4, 15, 3, 3]\n",
    "]\n"
   ]
  },
  {
   "cell_type": "code",
   "execution_count": 47,
   "metadata": {},
   "outputs": [],
   "source": [
    "# x,y,z, height, width\n",
    "bild = [\n",
    "    [1, 1, 1, 2,2],\n",
    "    [2, 1, 1, 2, 2],\n",
    "    [1, 2, 1, 2, 2],\n",
    "    [2, 2, 1, 2, 2],\n",
    "    [1.5, 1.5, 1.5, 3, 3]\n",
    "]\n"
   ]
  },
  {
   "cell_type": "code",
   "execution_count": 48,
   "metadata": {},
   "outputs": [],
   "source": [
    "import time\n",
    "import numpy as np\n",
    "from scipy.optimize import least_squares\n",
    "from scipy.sparse import lil_matrix\n"
   ]
  },
  {
   "cell_type": "code",
   "execution_count": 49,
   "metadata": {},
   "outputs": [],
   "source": [
    "camera_indices = np.array([i[0] for i in messungen])\n",
    "image_indices = np.array([i[1] for i in messungen])\n",
    "point_indices = np.array([i[2] for i in messungen])\n",
    "points_2d = np.array([[i[3]/bild[i[1]][3]-0.5, i[4]/bild[i[1]][4]-0.5]\n",
    "                     for i in messungen])\n",
    "points_3d = np.array(passpunkte)\n",
    "image_params = np.array([[1, 1, 0, i[0], i[1], i[2]] for i in bild])\n",
    "camera_params = np.array([[0.5, 0, 0]])\n"
   ]
  },
  {
   "cell_type": "code",
   "execution_count": 50,
   "metadata": {},
   "outputs": [
    {
     "name": "stdout",
     "output_type": "stream",
     "text": [
      "n_cameras: 1\n",
      "n_images: 5\n",
      "n_points: 16\n",
      "Total number of parameters: 81\n",
      "Total number of residuals: 104\n"
     ]
    }
   ],
   "source": [
    "n_cameras = camera_params.shape[0]\n",
    "n_images = image_params.shape[0]\n",
    "n_points = points_3d.shape[0]\n",
    "\n",
    "n = n_cameras * 3 + 6 * n_images + 3 * n_points\n",
    "m = 2 * points_2d.shape[0]\n",
    "\n",
    "print(\"n_cameras: {}\".format(n_cameras))\n",
    "print(\"n_images: {}\".format(n_images))\n",
    "print(\"n_points: {}\".format(n_points))\n",
    "print(\"Total number of parameters: {}\".format(n))\n",
    "print(\"Total number of residuals: {}\".format(m))"
   ]
  },
  {
   "cell_type": "code",
   "execution_count": 51,
   "metadata": {},
   "outputs": [],
   "source": [
    "def rotate(points, rot_vecs):\n",
    "    \"\"\"Rotate points by given rotation vectors.\n",
    "    \n",
    "    Rodrigues' rotation formula is used.\n",
    "    \"\"\"\n",
    "    theta = np.linalg.norm(rot_vecs, axis=1)[:, np.newaxis]\n",
    "    with np.errstate(invalid='ignore'):\n",
    "        v = rot_vecs / theta\n",
    "        v = np.nan_to_num(v)\n",
    "    dot = np.sum(points * v, axis=1)[:, np.newaxis]\n",
    "    cos_theta = np.cos(theta)\n",
    "    sin_theta = np.sin(theta)\n",
    "\n",
    "    return cos_theta * points + sin_theta * np.cross(v, points) + dot * (1 - cos_theta) * v\n"
   ]
  },
  {
   "cell_type": "code",
   "execution_count": 52,
   "metadata": {},
   "outputs": [],
   "source": [
    "def project(points, camera_params, image_params):\n",
    "    \"\"\"Convert 3-D points to 2-D by projecting onto images.\"\"\"\n",
    "    points_proj = rotate(points, image_params[:, :3])\n",
    "    points_proj += image_params[:, 3:6]\n",
    "    points_proj = -points_proj[:, :2] / points_proj[:, 2, np.newaxis]\n",
    "    f = camera_params[:, 0]\n",
    "    k1 = camera_params[:, 1]\n",
    "    k2 = camera_params[:, 2 ]\n",
    "    n = np.sum(points_proj**2, axis=1)\n",
    "    r = 1 + k1 * n + k2 * n**2\n",
    "    points_proj *= (r * f)[:, np.newaxis]\n",
    "    return points_proj\n"
   ]
  },
  {
   "cell_type": "code",
   "execution_count": 53,
   "metadata": {},
   "outputs": [],
   "source": [
    "def fun(params, n_cameras, n_images, n_points, camera_indices, images_indices, point_indices, points_2d):\n",
    "    \"\"\"Compute residuals.\n",
    "\n",
    "    `params` contains camera parameters and 3-D coordinates.\n",
    "    \"\"\"\n",
    "    camera_params = params[:n_cameras * 3].reshape((n_cameras, 3))\n",
    "    image_params = params[n_cameras * 3: n_cameras *\n",
    "                          3+n_images*6].reshape((n_images, 6))\n",
    "    points_3d = params[n_cameras*3+n_images*6:].reshape((n_points, 3))\n",
    "    points_proj = project(\n",
    "        points_3d[point_indices], camera_params[camera_indices], image_params[image_indices])\n",
    "    return (points_proj - points_2d).ravel()\n"
   ]
  },
  {
   "cell_type": "code",
   "execution_count": 54,
   "metadata": {},
   "outputs": [],
   "source": [
    "def bundle_adjustment_sparsity(n_cameras, n_images, n_points, camera_indices, image_indices, point_indices):\n",
    "    m = image_indices.size * 2\n",
    "    n = n_cameras * 3 + n_images * 6 + n_points * 3\n",
    "    A = lil_matrix((m, n), dtype=int)\n",
    "\n",
    "    i = np.arange(camera_indices.size)\n",
    "\n",
    "    for s in range(3):\n",
    "        A[2 * i, camera_indices * 3 + s] = 1\n",
    "        A[2 * i + 1, camera_indices * 3 + s] = 1\n",
    "\n",
    "    for s in range(6):\n",
    "        A[2 * i, n_cameras * 3 + image_indices * 6 + s] = 1\n",
    "        A[2 * i + 1, n_cameras * 3+ image_indices * 6 + s] = 1\n",
    "\n",
    "    for s in range(3):\n",
    "        A[2 * i, n_cameras * 3 + n_images * 6 + point_indices * 3 + s] = 1\n",
    "        A[2 * i + 1, n_cameras * 3 + n_images * 6 + point_indices * 3 + s] = 1\n",
    "\n",
    "    return A\n"
   ]
  },
  {
   "cell_type": "code",
   "execution_count": 55,
   "metadata": {},
   "outputs": [
    {
     "data": {
      "text/plain": [
       "array([[0.5, 0. , 0. ],\n",
       "       [0. , 1. , 0. ],\n",
       "       [1. , 1. , 1. ],\n",
       "       [0. , 1. , 0. ],\n",
       "       [2. , 1. , 1. ],\n",
       "       [0. , 1. , 0. ],\n",
       "       [1. , 2. , 1. ],\n",
       "       [0. , 1. , 0. ],\n",
       "       [2. , 2. , 1. ],\n",
       "       [0. , 1. , 0. ],\n",
       "       [1.5, 1.5, 1.5],\n",
       "       [0. , 0. , 0. ],\n",
       "       [1. , 0. , 0. ],\n",
       "       [2. , 0. , 0. ],\n",
       "       [3. , 0. , 0. ],\n",
       "       [0. , 1. , 0. ],\n",
       "       [1. , 1. , 0. ],\n",
       "       [2. , 1. , 0. ],\n",
       "       [3. , 1. , 0. ],\n",
       "       [0. , 2. , 0. ],\n",
       "       [1. , 2. , 0. ],\n",
       "       [2. , 2. , 0. ],\n",
       "       [3. , 2. , 0. ],\n",
       "       [0. , 3. , 0. ],\n",
       "       [1. , 3. , 0. ],\n",
       "       [2. , 3. , 0. ],\n",
       "       [3. , 3. , 0. ]])"
      ]
     },
     "execution_count": 55,
     "metadata": {},
     "output_type": "execute_result"
    }
   ],
   "source": [
    "x0 = np.hstack((camera_params.ravel(), image_params.ravel(), points_3d.ravel()))\n",
    "f0 = fun(x0, n_cameras, n_images, n_points, camera_indices, image_indices, point_indices, points_2d)\n",
    "x0.reshape(27,3)"
   ]
  },
  {
   "cell_type": "code",
   "execution_count": 56,
   "metadata": {},
   "outputs": [
    {
     "name": "stdout",
     "output_type": "stream",
     "text": [
      "   Iteration     Total nfev        Cost      Cost reduction    Step norm     Optimality   \n",
      "       0              1         1.2258e+03                                    1.48e+09    \n",
      "       1              2         9.8784e+01      1.13e+03       7.72e+00       4.08e+06    \n",
      "       2              3         6.7433e+01      3.14e+01       8.30e+00       2.78e+07    \n",
      "       3              4         5.2019e+01      1.54e+01       9.30e+00       4.14e+06    \n",
      "       4              5         9.9303e+00      4.21e+01       8.41e-01       2.97e+04    \n",
      "       5              6         2.3773e+00      7.55e+00       8.96e-01       8.41e+01    \n",
      "       6              8         1.8397e+00      5.38e-01       3.68e-01       7.97e+00    \n",
      "       7              9         1.4341e+00      4.06e-01       7.72e-01       2.87e+01    \n",
      "       8             10         1.0902e+00      3.44e-01       2.39e+00       1.23e+02    \n",
      "       9             12         9.9467e-01      9.56e-02       3.50e-01       3.38e+01    \n",
      "      10             13         7.4663e-01      2.48e-01       1.58e-01       5.64e+00    \n",
      "      11             15         7.2913e-01      1.75e-02       9.56e-02       4.71e+00    \n",
      "      12             16         7.0857e-01      2.06e-02       2.32e-01       4.07e+00    \n",
      "      13             18         7.0024e-01      8.33e-03       1.88e-01       3.77e+00    \n",
      "      14             19         6.9199e-01      8.25e-03       2.98e-01       1.59e+02    \n",
      "      15             21         6.7756e-01      1.44e-02       3.37e-02       5.94e+01    \n",
      "      16             22         6.7613e-01      1.44e-03       8.31e-02       1.50e+03    \n",
      "      17             23         6.6457e-01      1.16e-02       1.77e-02       1.88e+02    \n",
      "      18             24         6.5871e-01      5.86e-03       3.33e-02       2.64e+01    \n",
      "      19             25         6.4996e-01      8.75e-03       9.55e-02       6.55e+01    \n",
      "      20             26         6.3624e-01      1.37e-02       3.53e-01       6.01e+01    \n",
      "      21             28         6.2990e-01      6.34e-03       1.79e-01       1.01e+02    \n",
      "      22             29         6.1731e-01      1.26e-02       3.37e-01       1.09e+03    \n",
      "      23             30         5.9177e-01      2.55e-02       6.31e-01       5.54e+02    \n",
      "      24             31         5.4920e-01      4.26e-02       1.39e+00       2.40e+02    \n",
      "      25             32         4.8364e-01      6.56e-02       2.44e+00       1.84e+02    \n",
      "      26             33         4.6569e-01      1.79e-02       4.03e+00       8.67e+01    \n",
      "      27             34         3.3222e-01      1.33e-01       6.49e-01       3.67e+01    \n",
      "      28             35         3.1374e-01      1.85e-02       9.14e-01       2.85e+01    \n",
      "      29             36         2.8641e-01      2.73e-02       1.73e+00       2.33e+01    \n",
      "      30             38         2.7051e-01      1.59e-02       7.65e-01       1.65e+01    \n",
      "      31             39         2.4911e-01      2.14e-02       1.45e+00       7.82e+00    \n",
      "      32             41         2.3518e-01      1.39e-02       6.43e-01       4.55e+00    \n",
      "      33             42         2.3311e-01      2.07e-03       1.19e+00       1.07e+01    \n",
      "      34             43         2.1497e-01      1.81e-02       1.83e-01       4.92e+00    \n",
      "      35             44         2.1014e-01      4.84e-03       2.07e-01       3.82e+00    \n",
      "      36             46         2.0766e-01      2.48e-03       7.85e-02       3.97e+00    \n",
      "      37             47         2.0148e-01      6.18e-03       1.22e-01       7.11e+00    \n",
      "      38             49         1.9538e-01      6.10e-03       3.29e-02       1.14e+01    \n",
      "      39             50         1.8494e-01      1.04e-02       9.47e-02       1.96e+02    \n",
      "      40             51         1.6918e-01      1.58e-02       1.79e-01       1.77e+01    \n",
      "      41             52         1.6808e-01      1.11e-03       5.60e-01       2.12e+01    \n",
      "      42             53         1.6774e-01      3.37e-04       1.47e-01       9.67e+00    \n",
      "      43             54         1.6759e-01      1.48e-04       1.48e-01       8.04e+00    \n",
      "      44             55         1.6744e-01      1.57e-04       1.40e-01       1.01e+01    \n",
      "      45             56         1.6732e-01      1.20e-04       1.24e-01       8.18e+00    \n",
      "      46             57         1.6719e-01      1.23e-04       1.15e-01       1.01e+01    \n",
      "      47             58         1.6709e-01      1.05e-04       1.04e-01       8.53e+00    \n",
      "      48             59         1.6698e-01      1.04e-04       9.61e-02       1.01e+01    \n",
      "      49             60         1.6689e-01      9.15e-05       8.71e-02       8.68e+00    \n",
      "      50             61         1.6680e-01      9.03e-05       8.08e-02       9.99e+00    \n",
      "      51             62         1.6672e-01      8.02e-05       7.32e-02       8.82e+00    \n",
      "      52             63         1.6664e-01      7.96e-05       6.91e-02       9.84e+00    \n",
      "      53             64         1.6657e-01      7.04e-05       6.20e-02       8.92e+00    \n",
      "      54             65         1.6650e-01      7.06e-05       5.99e-02       9.68e+00    \n",
      "      55             66         1.6644e-01      6.21e-05       5.32e-02       8.98e+00    \n",
      "      56             67         1.6638e-01      6.28e-05       5.27e-02       9.53e+00    \n",
      "      57             68         1.6632e-01      5.46e-05       4.59e-02       8.95e+00    \n",
      "      58             69         1.6627e-01      5.57e-05       4.67e-02       9.41e+00    \n",
      "      59             70         1.6622e-01      4.87e-05       4.04e-02       8.96e+00    \n",
      "      60             71         1.6617e-01      4.96e-05       4.20e-02       9.29e+00    \n",
      "      61             72         1.6612e-01      4.34e-05       3.58e-02       8.94e+00    \n",
      "      62             73         1.6608e-01      4.41e-05       3.80e-02       9.16e+00    \n",
      "      63             74         1.6604e-01      3.86e-05       3.18e-02       8.92e+00    \n",
      "      64             75         1.6600e-01      3.92e-05       3.44e-02       9.04e+00    \n",
      "      65             76         1.6597e-01      3.42e-05       2.82e-02       8.88e+00    \n",
      "      66             77         1.6593e-01      3.48e-05       3.11e-02       8.93e+00    \n",
      "      67             78         1.6590e-01      3.06e-05       2.51e-02       8.88e+00    \n",
      "      68             79         1.6587e-01      3.09e-05       2.82e-02       8.84e+00    \n",
      "      69             80         1.6585e-01      2.72e-05       2.24e-02       8.87e+00    \n",
      "      70             81         1.6582e-01      2.75e-05       2.57e-02       8.77e+00    \n",
      "      71             82         1.6579e-01      2.42e-05       2.00e-02       8.86e+00    \n",
      "      72             83         1.6577e-01      2.45e-05       2.35e-02       8.72e+00    \n",
      "      73             84         1.6575e-01      2.16e-05       1.78e-02       8.85e+00    \n",
      "      74             85         1.6573e-01      2.17e-05       2.14e-02       8.68e+00    \n",
      "      75             86         1.6571e-01      1.93e-05       1.60e-02       8.88e+00    \n",
      "      76             87         1.6569e-01      1.94e-05       1.96e-02       8.66e+00    \n",
      "      77             88         1.6567e-01      1.71e-05       1.44e-02       8.85e+00    \n",
      "      78             89         1.6565e-01      1.72e-05       1.80e-02       8.66e+00    \n",
      "      79             90         1.6564e-01      1.53e-05       1.29e-02       8.86e+00    \n",
      "`ftol` termination condition is satisfied.\n",
      "Function evaluations 90, initial cost 1.2258e+03, final cost 1.6564e-01, first-order optimality 8.86e+00.\n"
     ]
    }
   ],
   "source": [
    "\n",
    "A = bundle_adjustment_sparsity(\n",
    "    n_cameras, n_images, n_points, camera_indices, image_indices,  point_indices)\n",
    "t0 = time.time()\n",
    "res = least_squares(fun, x0, jac_sparsity=A, verbose=2, x_scale='jac', ftol=1e-4, method='trf',\n",
    "                    args=(n_cameras, n_images, n_points, camera_indices, image_indices, point_indices, points_2d))\n",
    "t1 = time.time()\n"
   ]
  },
  {
   "cell_type": "code",
   "execution_count": 57,
   "metadata": {},
   "outputs": [
    {
     "data": {
      "text/plain": [
       "array([[  1.3,  -0. ,  -0. ],\n",
       "       [  0. ,   0.7,   0.2],\n",
       "       [ -0.8,  -0.1,   0.9],\n",
       "       [  0.1,   1. ,   0.2],\n",
       "       [ -0.5,  -0.1,   1.1],\n",
       "       [ -0.1,   0.7,  -0.1],\n",
       "       [ -0.8,   0.3,   0.9],\n",
       "       [ -0.1,   1. ,  -0.1],\n",
       "       [ -0.5,   0.3,   1.1],\n",
       "       [ -0. ,   0.9,   0.1],\n",
       "       [ -0.6,   0.1,   1.1],\n",
       "       [  6.6,  -4.3, -11.3],\n",
       "       [  1.2,  -0.1,  -0.2],\n",
       "       [  2.3,  -0.7,  -0.8],\n",
       "       [ 12.1,  -5.2,  -3. ],\n",
       "       [  1.2,  -0.1,  -0.2],\n",
       "       [  1.2,  -0.1,  -0.2],\n",
       "       [  2.5,  -0.4,  -0.9],\n",
       "       [ 12.4,  -2.1,  -2.7],\n",
       "       [  1.2,  -0.1,  -0.2],\n",
       "       [  1.2,  -0.1,  -0.2],\n",
       "       [  2.5,   0.1,  -0.9],\n",
       "       [ 11.4,   1.3,  -2.3],\n",
       "       [  1.2,  -0.1,  -0.2],\n",
       "       [  1.2,  -0.1,  -0.2],\n",
       "       [  2.2,   0.4,  -0.7],\n",
       "       [  9.4,   3.2,  -2. ]])"
      ]
     },
     "execution_count": 57,
     "metadata": {},
     "output_type": "execute_result"
    }
   ],
   "source": [
    "x0\n",
    "np.array(res.x.round(1)).reshape(27,3)"
   ]
  }
 ],
 "metadata": {
  "kernelspec": {
   "display_name": "Python 3.10.7 64-bit",
   "language": "python",
   "name": "python3"
  },
  "language_info": {
   "codemirror_mode": {
    "name": "ipython",
    "version": 3
   },
   "file_extension": ".py",
   "mimetype": "text/x-python",
   "name": "python",
   "nbconvert_exporter": "python",
   "pygments_lexer": "ipython3",
   "version": "3.10.7"
  },
  "orig_nbformat": 4,
  "vscode": {
   "interpreter": {
    "hash": "e7370f93d1d0cde622a1f8e1c04877d8463912d04d973331ad4851f04de6915a"
   }
  }
 },
 "nbformat": 4,
 "nbformat_minor": 2
}
