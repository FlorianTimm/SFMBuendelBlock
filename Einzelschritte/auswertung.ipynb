{
 "cells": [
  {
   "cell_type": "code",
   "execution_count": 12,
   "metadata": {},
   "outputs": [],
   "source": [
    "import sqlite3\n",
    "import numpy as np\n",
    "import matplotlib.pyplot as plt"
   ]
  },
  {
   "cell_type": "code",
   "execution_count": 13,
   "metadata": {},
   "outputs": [],
   "source": [
    "db = '../example_data/bildverband2/datenbank.db'"
   ]
  },
  {
   "cell_type": "code",
   "execution_count": 14,
   "metadata": {},
   "outputs": [],
   "source": [
    "from os import remove\n",
    "remove(db)"
   ]
  },
  {
   "cell_type": "code",
   "execution_count": 15,
   "metadata": {},
   "outputs": [
    {
     "name": "stdout",
     "output_type": "stream",
     "text": [
      "Metadaten\n",
      "Bild\n",
      "Bild\n",
      "Bild\n",
      "Bild\n",
      "Bild\n",
      "Bild\n"
     ]
    }
   ],
   "source": [
    "from metadaten import metadaten\n",
    "metadaten(db, '../example_data/bildverband2/*.JPG')"
   ]
  },
  {
   "cell_type": "code",
   "execution_count": 16,
   "metadata": {},
   "outputs": [],
   "source": [
    "from find_aruco import find_aruco\n",
    "find_aruco(db)"
   ]
  },
  {
   "cell_type": "code",
   "execution_count": 18,
   "metadata": {},
   "outputs": [
    {
     "name": "stdout",
     "output_type": "stream",
     "text": [
      "../example_data/bildverband2/DJI_0289.JPG\n",
      "../example_data/bildverband2/DJI_0288.JPG\n",
      "../example_data/bildverband2/DJI_0287.JPG\n",
      "../example_data/bildverband2/DJI_0286.JPG\n",
      "../example_data/bildverband2/DJI_0285.JPG\n",
      "../example_data/bildverband2/DJI_0284.JPG\n"
     ]
    }
   ],
   "source": [
    "from find_sift import find_sift\n",
    "find_sift(db)"
   ]
  },
  {
   "cell_type": "code",
   "execution_count": 19,
   "metadata": {},
   "outputs": [
    {
     "name": "stdout",
     "output_type": "stream",
     "text": [
      "Computed essential matrix: [[-2.84735068e-02 -1.00000000e+00  1.39196206e+03]\n",
      " [ 9.60918422e-01 -1.91129888e-02 -2.95142936e+03]\n",
      " [-1.05075132e+03  4.15872012e+03 -2.16741057e+06]]\n",
      "[[0]\n",
      " [0]\n",
      " [0]\n",
      " ...\n",
      " [0]\n",
      " [0]\n",
      " [0]]\n",
      "[[ 8.84628651e-01  2.59016000e-01 -3.87740714e-01  9.21677896e-01]\n",
      " [ 3.71065339e-01  1.12539938e-01  9.21762050e-01  3.87955882e-01]\n",
      " [ 2.82387435e-01 -9.59294258e-01  3.44419367e-03  2.97565067e-04]]\n"
     ]
    },
    {
     "name": "stderr",
     "output_type": "stream",
     "text": [
      "qt.qpa.wayland: Wayland does not support QWindow::requestActivate()\n"
     ]
    }
   ],
   "source": [
    "from naeherungswerte import naeherungswerte\n",
    "naeherungswerte(db)"
   ]
  },
  {
   "cell_type": "code",
   "execution_count": 20,
   "metadata": {},
   "outputs": [
    {
     "name": "stdout",
     "output_type": "stream",
     "text": [
      "   Iteration     Total nfev        Cost      Cost reduction    Step norm     Optimality   \n",
      "       0              1         1.7621e+11                                    3.02e+16    \n",
      "       1              5         1.2342e+11      5.28e+10       1.92e+03       2.71e+16    \n",
      "       2              6         8.2413e+10      4.10e+10       1.04e+03       8.40e+15    \n",
      "       3              7         6.3122e+10      1.93e+10       7.80e+02       3.02e+15    \n",
      "       4              8         5.7751e+10      5.37e+09       7.64e+02       4.72e+15    \n",
      "       5              9         4.1696e+10      1.61e+10       5.18e+02       1.02e+15    \n",
      "       6             10         3.3726e+10      7.97e+09       3.05e+02       1.67e+15    \n",
      "       7             11         2.4834e+10      8.89e+09       2.61e+02       2.04e+14    \n",
      "       8             13         2.2705e+10      2.13e+09       5.79e+01       1.18e+14    \n",
      "       9             15         2.1896e+10      8.09e+08       5.89e+01       8.56e+13    \n",
      "      10             16         2.0477e+10      1.42e+09       8.01e+01       7.45e+13    \n",
      "      11             17         1.8512e+10      1.96e+09       1.20e+02       4.85e+13    \n",
      "      12             19         1.7828e+10      6.84e+08       4.20e+01       3.57e+13    \n",
      "      13             21         1.7368e+10      4.60e+08       3.83e+01       3.17e+13    \n",
      "      14             22         1.6492e+10      8.77e+08       8.32e+01       2.57e+13    \n",
      "      15             23         1.5433e+10      1.06e+09       1.25e+02       7.73e+13    \n",
      "      16             25         1.5023e+10      4.10e+08       3.46e+01       7.73e+12    \n",
      "      17             26         1.4395e+10      6.28e+08       9.46e+01       2.11e+12    \n",
      "      18             28         1.4209e+10      1.86e+08       2.58e+01       5.13e+12    \n",
      "      19             29         1.3899e+10      3.11e+08       6.88e+01       1.91e+12    \n",
      "      20             31         1.3803e+10      9.58e+07       1.40e+01       2.48e+12    \n",
      "      21             32         1.3721e+10      8.16e+07       3.87e+01       4.44e+13    \n",
      "      22             33         1.3515e+10      2.06e+08       3.96e+01       3.90e+12    \n",
      "      23             34         1.3327e+10      1.88e+08       5.88e+01       1.42e+12    \n",
      "      24             36         1.3289e+10      3.79e+07       1.14e+01       1.99e+12    \n",
      "      25             37         1.3207e+10      8.22e+07       3.48e+01       1.11e+12    \n",
      "      26             38         1.3195e+10      1.18e+07       2.62e+01       9.18e+12    \n",
      "`ftol` termination condition is satisfied.\n",
      "Function evaluations 38, initial cost 1.7621e+11, final cost 1.3195e+10, first-order optimality 9.18e+12.\n"
     ]
    }
   ],
   "source": [
    "from bundle_adjustment import  bundle_adjustment\n",
    "bundle_adjustment(db)"
   ]
  },
  {
   "cell_type": "code",
   "execution_count": 21,
   "metadata": {},
   "outputs": [
    {
     "name": "stdout",
     "output_type": "stream",
     "text": [
      "[[-1.08472678]\n",
      " [ 0.30711129]\n",
      " [ 0.3865093 ]] [[113.05918718]\n",
      " [ -6.162159  ]\n",
      " [  1.23318117]]\n"
     ]
    }
   ],
   "source": [
    "from join_nextpictures import join_nextpictures\n",
    "join_nextpictures(db)\n"
   ]
  },
  {
   "cell_type": "code",
   "execution_count": 22,
   "metadata": {},
   "outputs": [
    {
     "name": "stdout",
     "output_type": "stream",
     "text": [
      "3609\n"
     ]
    },
    {
     "name": "stderr",
     "output_type": "stream",
     "text": [
      "qt.qpa.wayland: Wayland does not support QWindow::requestActivate()\n"
     ]
    }
   ],
   "source": [
    "from join_nextcoords import join_nextcoords\n",
    "join_nextcoords(db)"
   ]
  },
  {
   "cell_type": "code",
   "execution_count": 53,
   "metadata": {},
   "outputs": [],
   "source": [
    "con = sqlite3.connect(db)\n",
    "cur = con.cursor()"
   ]
  },
  {
   "cell_type": "code",
   "execution_count": 54,
   "metadata": {},
   "outputs": [
    {
     "name": "stderr",
     "output_type": "stream",
     "text": [
      "qt.qpa.wayland: Wayland does not support QWindow::requestActivate()\n"
     ]
    }
   ],
   "source": [
    "cur.execute(\"\"\"SELECT lx,ly,lz FROM passpunkte WHERE lx is not null\"\"\")\n",
    "coord = np.array(cur.fetchall())\n",
    "cur.execute(\"\"\"SELECT lx,ly,lz FROM bilder WHERE lx is not null\"\"\")\n",
    "cams = np.array(cur.fetchall())\n",
    "\n",
    "%matplotlib qt\n",
    "fig = plt.figure()\n",
    "fig.suptitle('3D reconstructed', fontsize=16)\n",
    "ax = fig.add_subplot(projection='3d')\n",
    "ax.plot(coord[:, 0], coord[:, 1], coord[:, 2], 'r.')\n",
    "ax.plot(-cams[:, 0], -cams[:, 1], -cams[:, 2], 'b.')\n",
    "ax.set_xlabel('x axis')\n",
    "ax.set_ylabel('y axis')\n",
    "ax.set_zlabel('z axis')\n",
    "ax.view_init(elev=135, azim=90)\n",
    "plt.axis('square')\n",
    "ax.set_ylim([-2, 3])\n",
    "ax.set_xlim([-2, 3])\n",
    "ax.set_zlim([-2, 3])\n",
    "plt.show()\n"
   ]
  },
  {
   "cell_type": "code",
   "execution_count": 47,
   "metadata": {},
   "outputs": [],
   "source": [
    "cur.execute(\n",
    "    \"\"\"UPDATE kameras SET fx = 3000., fy = 3000., x0 = 2000., y0 = 1500.\"\"\")\n",
    "cur.execute(\"\"\"UPDATE bilder SET lx = NULL, ly = NULL, lz = NULL, lrx = NULL, lry = NULL, lrz = NULL\"\"\")\n",
    "cur.execute(\n",
    "    \"\"\"UPDATE passpunkte SET lx = NULL, ly = NULL, lz = NULL\"\"\")\n",
    "cur.execute(\"\"\"UPDATE passpunktpos SET x = x*4000. ,y = y*4000.\"\"\")\n",
    "con.commit()"
   ]
  },
  {
   "cell_type": "code",
   "execution_count": 50,
   "metadata": {},
   "outputs": [],
   "source": [
    "cur.execute(\n",
    "    \"\"\"UPDATE bilder SET lx = NULL, ly = NULL, lz = NULL, lrx = NULL, lry = NULL, lrz = NULL\"\"\")\n",
    "cur.execute(\n",
    "    \"\"\"UPDATE passpunkte SET lx = NULL, ly = NULL, lz = NULL\"\"\")\n",
    "cur.execute(\"\"\"UPDATE passpunktpos SET x = x/1000. ,y = y/1000.\"\"\")\n",
    "con.commit()\n"
   ]
  },
  {
   "cell_type": "code",
   "execution_count": 40,
   "metadata": {},
   "outputs": [],
   "source": [
    "fx = 3000\n",
    "fy = 3000\n",
    "x0 = 2000\n",
    "y0 = 1500\n",
    "\n",
    "K = np.array([[fx, 0, x0],\n",
    "              [0, fy, y0],\n",
    "              [0, 0, 1]])\n",
    "\n",
    "t = np.array([2000,2000,1])"
   ]
  },
  {
   "cell_type": "code",
   "execution_count": 33,
   "metadata": {},
   "outputs": [
    {
     "data": {
      "text/plain": [
       "array([0.        , 0.16666667, 1.        ])"
      ]
     },
     "execution_count": 33,
     "metadata": {},
     "output_type": "execute_result"
    }
   ],
   "source": [
    "np.linalg.inv(K)@t\n"
   ]
  },
  {
   "cell_type": "code",
   "execution_count": 41,
   "metadata": {},
   "outputs": [
    {
     "data": {
      "text/plain": [
       "array([[0.75 , 0.   , 0.5  ],\n",
       "       [0.   , 0.75 , 0.375],\n",
       "       [0.   , 0.   , 1.   ]])"
      ]
     },
     "execution_count": 41,
     "metadata": {},
     "output_type": "execute_result"
    }
   ],
   "source": [
    "K = K / 4000.\n",
    "K[2,2]=1\n",
    "K"
   ]
  },
  {
   "cell_type": "code",
   "execution_count": 42,
   "metadata": {},
   "outputs": [
    {
     "data": {
      "text/plain": [
       "array([0.        , 0.16666667, 1.        ])"
      ]
     },
     "execution_count": 42,
     "metadata": {},
     "output_type": "execute_result"
    }
   ],
   "source": [
    "t =  np.array([0.5,0.5,1])\n",
    "\n",
    "np.linalg.inv(K)@t\n"
   ]
  }
 ],
 "metadata": {
  "kernelspec": {
   "display_name": "Python 3.10.7 64-bit",
   "language": "python",
   "name": "python3"
  },
  "language_info": {
   "codemirror_mode": {
    "name": "ipython",
    "version": 3
   },
   "file_extension": ".py",
   "mimetype": "text/x-python",
   "name": "python",
   "nbconvert_exporter": "python",
   "pygments_lexer": "ipython3",
   "version": "3.10.7"
  },
  "orig_nbformat": 4,
  "vscode": {
   "interpreter": {
    "hash": "e7370f93d1d0cde622a1f8e1c04877d8463912d04d973331ad4851f04de6915a"
   }
  }
 },
 "nbformat": 4,
 "nbformat_minor": 2
}
