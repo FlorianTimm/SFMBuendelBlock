{
 "cells": [
  {
   "cell_type": "code",
   "execution_count": 1,
   "metadata": {},
   "outputs": [],
   "source": [
    "\n",
    "from find_aruco import find_aruco\n",
    "from naeherungswerte import naeherungswerte\n",
    "from find_sift import find_sift\n",
    "from join_pairs import join_pairs\n",
    "from dreid_koordinaten import dreid_koordinaten\n",
    "import sqlite3"
   ]
  },
  {
   "cell_type": "code",
   "execution_count": 1,
   "metadata": {},
   "outputs": [],
   "source": [
    "db = '../example_data/bildverband2/datenbank.db'"
   ]
  },
  {
   "cell_type": "code",
   "execution_count": 3,
   "metadata": {},
   "outputs": [
    {
     "name": "stdout",
     "output_type": "stream",
     "text": [
      "Metadaten\n",
      "Bild\n",
      "Bild\n",
      "Bild\n"
     ]
    }
   ],
   "source": [
    "from metadaten import metadaten\n",
    "metadaten(db, '../example_data/bildverband2/*.JPG')"
   ]
  },
  {
   "cell_type": "code",
   "execution_count": 4,
   "metadata": {},
   "outputs": [
    {
     "name": "stdout",
     "output_type": "stream",
     "text": [
      "../bildverband3/IMG_20221208_174048_263.jpg\n",
      "../bildverband3/IMG_20221208_174053_025.jpg\n",
      "../bildverband3/IMG_20221208_174102_247.jpg\n"
     ]
    }
   ],
   "source": [
    "#find_aruco(db)\n",
    "find_sift(db)"
   ]
  },
  {
   "cell_type": "code",
   "execution_count": 5,
   "metadata": {},
   "outputs": [
    {
     "name": "stdout",
     "output_type": "stream",
     "text": [
      "../bildverband3/IMG_20221208_174102_247.jpg ../bildverband3/IMG_20221208_174053_025.jpg\n",
      "111\n",
      "60\n",
      "[[ 6.74954570e-08 -1.49841104e-07  1.11000658e-04]\n",
      " [ 1.42971800e-07  5.81959143e-08 -5.76168772e-04]\n",
      " [-3.70501623e-04  7.74748883e-05  1.00000000e+00]]\n",
      "[[ 0.60745911 -1.34856994 -0.29691634]\n",
      " [ 1.2867462   0.52376323 -0.69206568]\n",
      " [ 0.10681187 -0.10149909 -0.05474059]]\n",
      "[  5.50737012 -29.18432553 -24.01783632]\n",
      "../bildverband3/IMG_20221208_174053_025.jpg ../bildverband3/IMG_20221208_174048_263.jpg\n",
      "51\n",
      "30\n",
      "[[ 1.44740456e-08  4.00889594e-07 -1.06719337e-03]\n",
      " [-2.37965784e-07 -4.42434438e-08 -5.41996483e-03]\n",
      " [ 7.79313886e-04  4.91972468e-03  1.00000000e+00]]\n",
      "[[  0.13026641   3.60800634  -0.60342646]\n",
      " [ -2.14169205  -0.39819099 -17.65283896]\n",
      " [  0.90364017  16.35607272  -0.12747576]]\n",
      "[1.087286   5.14523584 1.15998378]\n",
      "../bildverband3/IMG_20221208_174102_247.jpg ../bildverband3/IMG_20221208_174048_263.jpg\n",
      "44\n",
      "21\n",
      "[[ 2.22024971e-07 -9.78226314e-07  5.26458576e-04]\n",
      " [-5.91509302e-07 -3.19837361e-08 -5.50970016e-03]\n",
      " [-1.47034859e-03  9.36002697e-03  1.00000000e+00]]\n",
      "[[  1.99822474  -8.80403683  -3.5561119 ]\n",
      " [ -5.32358372  -0.28785362 -19.49924536]\n",
      " [ -7.10557563  23.30010043   2.87510401]]\n",
      "[  7.65877747 -31.88273892 -26.52340265]\n"
     ]
    }
   ],
   "source": [
    "naeherungswerte(db)"
   ]
  },
  {
   "cell_type": "code",
   "execution_count": 6,
   "metadata": {},
   "outputs": [
    {
     "name": "stdout",
     "output_type": "stream",
     "text": [
      "2 0.10433406720173474 -0.5528808335917323 -0.45500456584142845\n",
      "1 0.07720183257147119 -0.45612991323003055 -0.4209030231245704\n",
      "1 0.1450912842246493 -0.604000776162562 -0.5024711280652646\n",
      "1 0.11114655839806024 -0.5300653446962962 -0.4616870755949175\n"
     ]
    }
   ],
   "source": [
    "join_pairs(db)"
   ]
  },
  {
   "cell_type": "code",
   "execution_count": null,
   "metadata": {},
   "outputs": [],
   "source": [
    "dreid_koordinaten(db)"
   ]
  },
  {
   "cell_type": "code",
   "execution_count": null,
   "metadata": {},
   "outputs": [],
   "source": [
    "from ausgleichung import ausgleichung\n",
    "ausgleichung(db)\n"
   ]
  }
 ],
 "metadata": {
  "kernelspec": {
   "display_name": "Python 3.10.7 64-bit",
   "language": "python",
   "name": "python3"
  },
  "language_info": {
   "codemirror_mode": {
    "name": "ipython",
    "version": 3
   },
   "file_extension": ".py",
   "mimetype": "text/x-python",
   "name": "python",
   "nbconvert_exporter": "python",
   "pygments_lexer": "ipython3",
   "version": "3.10.7"
  },
  "orig_nbformat": 4,
  "vscode": {
   "interpreter": {
    "hash": "e7370f93d1d0cde622a1f8e1c04877d8463912d04d973331ad4851f04de6915a"
   }
  }
 },
 "nbformat": 4,
 "nbformat_minor": 2
}
