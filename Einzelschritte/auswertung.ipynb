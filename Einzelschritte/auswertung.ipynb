{
 "cells": [
  {
   "cell_type": "code",
   "execution_count": 2,
   "metadata": {},
   "outputs": [],
   "source": [
    "import sqlite3\n",
    "import numpy as np\n",
    "import matplotlib.pyplot as plt"
   ]
  },
  {
   "cell_type": "code",
   "execution_count": 6,
   "metadata": {},
   "outputs": [],
   "source": [
    "db = '../example_data/bildverband2/datenbank.db'"
   ]
  },
  {
   "cell_type": "code",
   "execution_count": null,
   "metadata": {},
   "outputs": [],
   "source": [
    "from os import remove\n",
    "remove(db)"
   ]
  },
  {
   "cell_type": "code",
   "execution_count": 3,
   "metadata": {},
   "outputs": [
    {
     "name": "stdout",
     "output_type": "stream",
     "text": [
      "Metadaten\n",
      "Bild\n",
      "Bild\n",
      "Bild\n",
      "Bild\n",
      "Bild\n",
      "Bild\n"
     ]
    }
   ],
   "source": [
    "from metadaten import metadaten\n",
    "metadaten(db, '../example_data/bildverband2/*.JPG')"
   ]
  },
  {
   "cell_type": "code",
   "execution_count": 5,
   "metadata": {},
   "outputs": [],
   "source": [
    "from find_aruco import find_aruco\n",
    "find_aruco(db)"
   ]
  },
  {
   "cell_type": "code",
   "execution_count": 6,
   "metadata": {},
   "outputs": [
    {
     "name": "stdout",
     "output_type": "stream",
     "text": [
      "../example_data/bildverband2/DJI_0284.JPG\n",
      "../example_data/bildverband2/DJI_0285.JPG\n",
      "../example_data/bildverband2/DJI_0286.JPG\n",
      "../example_data/bildverband2/DJI_0287.JPG\n",
      "../example_data/bildverband2/DJI_0288.JPG\n",
      "../example_data/bildverband2/DJI_0289.JPG\n"
     ]
    }
   ],
   "source": [
    "from find_sift import find_sift\n",
    "find_sift(db)"
   ]
  },
  {
   "cell_type": "code",
   "execution_count": 2,
   "metadata": {},
   "outputs": [
    {
     "name": "stdout",
     "output_type": "stream",
     "text": [
      "Computed essential matrix: [[ 0.08030983 -1.         -0.20736273]\n",
      " [ 1.23907316 -0.16588716 -0.62713987]\n",
      " [ 0.54023334  0.73143196 -0.1379767 ]]\n"
     ]
    },
    {
     "ename": "TypeError",
     "evalue": "'int' object is not iterable",
     "output_type": "error",
     "traceback": [
      "\u001b[0;31m---------------------------------------------------------------------------\u001b[0m",
      "\u001b[0;31mTypeError\u001b[0m                                 Traceback (most recent call last)",
      "Cell \u001b[0;32mIn [2], line 2\u001b[0m\n\u001b[1;32m      1\u001b[0m \u001b[39mfrom\u001b[39;00m \u001b[39mnaeherungswerte\u001b[39;00m \u001b[39mimport\u001b[39;00m naeherungswerte\n\u001b[0;32m----> 2\u001b[0m naeherungswerte(db)\n",
      "File \u001b[0;32m/mnt/ssd/Studium/MScGeodaesieGeoinformatik/3. Semester/GIS_Programmierung/Entwicklung/eigenerAnsatz/Einzelschritte/naeherungswerte.py:74\u001b[0m, in \u001b[0;36mnaeherungswerte\u001b[0;34m(datenbank)\u001b[0m\n\u001b[1;32m     71\u001b[0m tripoints3d \u001b[39m=\u001b[39m reconstruct_points(points1n, points2n, P1, P2)\n\u001b[1;32m     72\u001b[0m \u001b[39m#tripoints3d = structure.linear_triangulation(points1n, points2n, P1, P2)\u001b[39;00m\n\u001b[0;32m---> 74\u001b[0m daten \u001b[39m=\u001b[39m \u001b[39mzip\u001b[39;49m(tripoints3d[\u001b[39m0\u001b[39;49m], tripoints3d[\u001b[39m1\u001b[39;49m], tripoints3d[\u001b[39m2\u001b[39;49m], pid)\n\u001b[1;32m     75\u001b[0m cur\u001b[39m.\u001b[39mexecutemany(\n\u001b[1;32m     76\u001b[0m     \u001b[39m\"\"\"UPDATE passpunkte SET lx = ?, ly = ?, lz = ? WHERE pid = ?\"\"\"\u001b[39;00m, daten)\n\u001b[1;32m     78\u001b[0m db\u001b[39m.\u001b[39mcommit()\n",
      "\u001b[0;31mTypeError\u001b[0m: 'int' object is not iterable"
     ]
    }
   ],
   "source": [
    "from naeherungswerte import naeherungswerte\n",
    "naeherungswerte(db)"
   ]
  },
  {
   "cell_type": "code",
   "execution_count": null,
   "metadata": {},
   "outputs": [],
   "source": [
    "from bundle_adjustment import  bundle_adjustment\n",
    "bundle_adjustment(db)"
   ]
  },
  {
   "cell_type": "code",
   "execution_count": 6,
   "metadata": {},
   "outputs": [
    {
     "name": "stdout",
     "output_type": "stream",
     "text": [
      "2 0.10433406720173474 -0.5528808335917323 -0.45500456584142845\n",
      "1 0.07720183257147119 -0.45612991323003055 -0.4209030231245704\n",
      "1 0.1450912842246493 -0.604000776162562 -0.5024711280652646\n",
      "1 0.11114655839806024 -0.5300653446962962 -0.4616870755949175\n"
     ]
    }
   ],
   "source": [
    "from join_nextpictures import join_nextpictures\n",
    "join_nextpictures(db)\n"
   ]
  },
  {
   "cell_type": "code",
   "execution_count": 28,
   "metadata": {},
   "outputs": [
    {
     "ename": "ImportError",
     "evalue": "cannot import name 'join_nextcoords' from 'join_nextcoords' (/mnt/ssd/Studium/MScGeodaesieGeoinformatik/3. Semester/GIS_Programmierung/Entwicklung/eigenerAnsatz/Einzelschritte/join_nextcoords.py)",
     "output_type": "error",
     "traceback": [
      "\u001b[0;31m---------------------------------------------------------------------------\u001b[0m",
      "\u001b[0;31mImportError\u001b[0m                               Traceback (most recent call last)",
      "Cell \u001b[0;32mIn [28], line 1\u001b[0m\n\u001b[0;32m----> 1\u001b[0m \u001b[39mfrom\u001b[39;00m \u001b[39mjoin_nextcoords\u001b[39;00m \u001b[39mimport\u001b[39;00m join_nextcoords\n\u001b[1;32m      2\u001b[0m join_nextcoords(db)\n",
      "\u001b[0;31mImportError\u001b[0m: cannot import name 'join_nextcoords' from 'join_nextcoords' (/mnt/ssd/Studium/MScGeodaesieGeoinformatik/3. Semester/GIS_Programmierung/Entwicklung/eigenerAnsatz/Einzelschritte/join_nextcoords.py)"
     ]
    }
   ],
   "source": [
    "from join_nextcoords import join_nextcoords\n",
    "join_nextcoords(db)"
   ]
  },
  {
   "cell_type": "code",
   "execution_count": 22,
   "metadata": {},
   "outputs": [],
   "source": [
    "con = sqlite3.connect(db)\n",
    "cur = con.cursor()"
   ]
  },
  {
   "cell_type": "code",
   "execution_count": 29,
   "metadata": {},
   "outputs": [
    {
     "name": "stderr",
     "output_type": "stream",
     "text": [
      "qt.qpa.wayland: Wayland does not support QWindow::requestActivate()\n"
     ]
    }
   ],
   "source": [
    "cur.execute(\"\"\"SELECT lx,ly,lz FROM passpunkte WHERE lx is not null\"\"\")\n",
    "coord = np.array(cur.fetchall())\n",
    "cur.execute(\"\"\"SELECT lx,ly,lz FROM bilder WHERE lx is not null\"\"\")\n",
    "cams = np.array(cur.fetchall())\n",
    "\n",
    "%matplotlib qt\n",
    "fig = plt.figure()\n",
    "fig.suptitle('3D reconstructed', fontsize=16)\n",
    "ax = fig.add_subplot(projection='3d')\n",
    "ax.plot(coord[:, 0], coord[:, 1], coord[:, 2], 'r.')\n",
    "ax.plot(-cams[:, 0], -cams[:, 1], -cams[:, 2], 'b.')\n",
    "ax.set_xlabel('x axis')\n",
    "ax.set_ylabel('y axis')\n",
    "ax.set_zlabel('z axis')\n",
    "ax.view_init(elev=135, azim=90)\n",
    "plt.axis('square')\n",
    "ax.set_ylim([-2, 3])\n",
    "ax.set_xlim([-2, 3])\n",
    "ax.set_zlim([-2, 3])\n",
    "plt.show()\n"
   ]
  }
 ],
 "metadata": {
  "kernelspec": {
   "display_name": "Python 3.10.7 64-bit",
   "language": "python",
   "name": "python3"
  },
  "language_info": {
   "codemirror_mode": {
    "name": "ipython",
    "version": 3
   },
   "file_extension": ".py",
   "mimetype": "text/x-python",
   "name": "python",
   "nbconvert_exporter": "python",
   "pygments_lexer": "ipython3",
   "version": "3.10.7 (main, Nov 24 2022, 19:45:47) [GCC 12.2.0]"
  },
  "orig_nbformat": 4,
  "vscode": {
   "interpreter": {
    "hash": "e7370f93d1d0cde622a1f8e1c04877d8463912d04d973331ad4851f04de6915a"
   }
  }
 },
 "nbformat": 4,
 "nbformat_minor": 2
}
