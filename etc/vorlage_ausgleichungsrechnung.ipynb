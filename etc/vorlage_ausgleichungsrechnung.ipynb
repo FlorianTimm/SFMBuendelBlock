{
 "cells": [
  {
   "cell_type": "markdown",
   "metadata": {},
   "source": [
    "# Ausgleichungsrechnung"
   ]
  },
  {
   "cell_type": "code",
   "execution_count": 22,
   "metadata": {},
   "outputs": [],
   "source": [
    "import numpy as np\n",
    "from sympy import *\n",
    "import math"
   ]
  },
  {
   "cell_type": "markdown",
   "metadata": {},
   "source": [
    "## Formeln"
   ]
  },
  {
   "cell_type": "code",
   "execution_count": 23,
   "metadata": {},
   "outputs": [],
   "source": [
    "sym = [\n",
    "    Symbol('a'),\n",
    "    Symbol('b') \n",
    "]\n",
    "\n",
    "formeln = [\n",
    "    sym[0],\n",
    "    sym[1],\n",
    "    sqrt(sym[0]**2 + sym[1]**2),\n",
    "    sym[1]+sym[0]\n",
    "]"
   ]
  },
  {
   "cell_type": "markdown",
   "metadata": {},
   "source": [
    "## Messwerte"
   ]
  },
  {
   "cell_type": "code",
   "execution_count": 24,
   "metadata": {},
   "outputs": [],
   "source": [
    "l  = [\n",
    "    2.99,\n",
    "    4.01,\n",
    "    5.02,\n",
    "    6\n",
    "]"
   ]
  },
  {
   "cell_type": "code",
   "execution_count": 25,
   "metadata": {},
   "outputs": [],
   "source": [
    "x0 = [\n",
    "    2,\n",
    "    5\n",
    "]"
   ]
  },
  {
   "cell_type": "markdown",
   "metadata": {},
   "source": [
    "## Gewicht"
   ]
  },
  {
   "cell_type": "code",
   "execution_count": 26,
   "metadata": {},
   "outputs": [
    {
     "name": "stdout",
     "output_type": "stream",
     "text": [
      "P [[1. 0. 0. 0.]\n",
      " [0. 1. 0. 0.]\n",
      " [0. 0. 1. 0.]\n",
      " [0. 0. 0. 1.]]\n"
     ]
    }
   ],
   "source": [
    "P = np.eye(len(l))\n",
    "print('P',P)"
   ]
  },
  {
   "cell_type": "markdown",
   "metadata": {},
   "source": [
    "## Iterative Berechnung"
   ]
  },
  {
   "cell_type": "code",
   "execution_count": 27,
   "metadata": {},
   "outputs": [
    {
     "name": "stdout",
     "output_type": "stream",
     "text": [
      "0 [ 0.62997178 -1.10977425]\n",
      "1 [ 0.06152002 -0.0826079 ]\n",
      "2 [ 0.00549425 -0.00493452]\n",
      "3 [ 0.0004197  -0.00035566]\n",
      "4 [ 3.13962078e-05 -2.64869521e-05]\n",
      "x0 [2.69743715 3.80230118]\n"
     ]
    }
   ],
   "source": [
    "for durchlauf in range (10):\n",
    "    A = np.empty((len(formeln),len(sym)))\n",
    "    for f in range(len(formeln)):\n",
    "        for s in range(len(sym)):\n",
    "            formel = formeln[f].diff(sym[s])\n",
    "            for sy in range(len(sym)):\n",
    "                formel = formel.subs(sym[sy], x0[sy])\n",
    "            A[f][s] = formel\n",
    "\n",
    "\n",
    "    l0 = np.empty(len(l))\n",
    "    for i in range(len(l0)):\n",
    "        formel = formeln[i]\n",
    "        for sy in range(len(sym)):\n",
    "            formel = formel.subs(sym[sy], x0[sy])\n",
    "        l0[i] = formel\n",
    "    dl = l - l0\n",
    "\n",
    "    N = np.matmul(np.matmul(np.transpose(A),P),A)\n",
    "    h = np.matmul(np.matmul(np.transpose(A),P),dl)\n",
    "    Qx = np.linalg.inv(N)\n",
    "    dx = np.matmul(Qx,h)\n",
    "    print(durchlauf, dx)\n",
    "    x0 = x0 + dx\n",
    "\n",
    "    if np.linalg.norm(dx) < 0.0001:\n",
    "        break\n",
    "print('x0',x0)"
   ]
  },
  {
   "cell_type": "markdown",
   "metadata": {},
   "source": [
    "## Genauigkeit"
   ]
  },
  {
   "cell_type": "code",
   "execution_count": 28,
   "metadata": {},
   "outputs": [
    {
     "name": "stdout",
     "output_type": "stream",
     "text": [
      "s0 0.5033284013034892\n",
      "Sx [0.40799961 0.38187052]\n"
     ]
    }
   ],
   "source": [
    "Va = np.matmul(A, dx) - dl\n",
    "\n",
    "z = len(l)\n",
    "s = len(x0)\n",
    "\n",
    "s0 = math.sqrt(np.matmul(np.matmul(np.transpose(Va), P), Va) / (z - s))\n",
    "print('s0',s0)\n",
    "Sx = np.sqrt(np.diag(Qx)) * s0\n",
    "print('Sx',Sx)\n"
   ]
  },
  {
   "cell_type": "markdown",
   "metadata": {},
   "source": [
    "### Redundanzanteile"
   ]
  },
  {
   "cell_type": "code",
   "execution_count": 29,
   "metadata": {},
   "outputs": [
    {
     "name": "stdout",
     "output_type": "stream",
     "text": [
      "r [0.34292245 0.42438859 0.73961338 0.49307558]\n"
     ]
    }
   ],
   "source": [
    "Red = np.eye(len(l)) - np.matmul(np.matmul(np.matmul(A,Qx),np.transpose(A)),P)\n",
    "f = np.trace(Red)\n",
    "k = 1.96\n",
    "r = np.diag(Red)\n",
    "print('r', r)\n"
   ]
  },
  {
   "cell_type": "markdown",
   "metadata": {},
   "source": [
    "### Grober Fehler"
   ]
  },
  {
   "cell_type": "code",
   "execution_count": 30,
   "metadata": {},
   "outputs": [
    {
     "name": "stdout",
     "output_type": "stream",
     "text": [
      "GF [ 0.8531458   0.48940719  0.48412116 -1.01351261]\n"
     ]
    }
   ],
   "source": [
    "Ql = np.linalg.inv(P)\n",
    "Qv = np.matmul(np.matmul(Red, Ql),np.transpose(Red))\n",
    "Sv = s0 * np.sqrt(np.diag(Qv))\n",
    "GF = -Va/np.diag(Red)\n",
    "print('GF',GF)"
   ]
  },
  {
   "cell_type": "markdown",
   "metadata": {},
   "source": [
    "### GRZW"
   ]
  },
  {
   "cell_type": "code",
   "execution_count": 31,
   "metadata": {},
   "outputs": [
    {
     "name": "stdout",
     "output_type": "stream",
     "text": [
      "GRZW [1.68464946 1.5143479  1.14711017 1.4049173 ]\n"
     ]
    }
   ],
   "source": [
    "GRZW = Sv/np.diag(Red)*k\n",
    "print ('GRZW', GRZW)"
   ]
  },
  {
   "cell_type": "markdown",
   "metadata": {},
   "source": [
    "### Normierte Verbesserung"
   ]
  },
  {
   "cell_type": "code",
   "execution_count": 32,
   "metadata": {},
   "outputs": [
    {
     "name": "stdout",
     "output_type": "stream",
     "text": [
      "NV [0.99258974 0.6334331  0.82718949 1.41395136]\n"
     ]
    }
   ],
   "source": [
    "NV = np.abs(Va) / Sv\n",
    "print('NV',NV)"
   ]
  }
 ],
 "metadata": {
  "kernelspec": {
   "display_name": "Python 3.10.7 64-bit",
   "language": "python",
   "name": "python3"
  },
  "language_info": {
   "codemirror_mode": {
    "name": "ipython",
    "version": 3
   },
   "file_extension": ".py",
   "mimetype": "text/x-python",
   "name": "python",
   "nbconvert_exporter": "python",
   "pygments_lexer": "ipython3",
   "version": "3.10.7 (main, Nov 24 2022, 19:45:47) [GCC 12.2.0]"
  },
  "orig_nbformat": 2,
  "vscode": {
   "interpreter": {
    "hash": "e7370f93d1d0cde622a1f8e1c04877d8463912d04d973331ad4851f04de6915a"
   }
  }
 },
 "nbformat": 4,
 "nbformat_minor": 2
}
