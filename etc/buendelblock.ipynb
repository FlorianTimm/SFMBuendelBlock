{
 "cells": [
  {
   "cell_type": "markdown",
   "metadata": {},
   "source": [
    "# Bündelblockausgleichung\n",
    "\n",
    "Mit Aruco-Markern und Näherungskoordinaten aus GNSS"
   ]
  },
  {
   "cell_type": "code",
   "execution_count": 1,
   "metadata": {},
   "outputs": [],
   "source": [
    "from PIL import Image\n",
    "from glob import glob\n",
    "import cv2\n",
    "from cv2 import aruco\n",
    "import numpy as np\n",
    "from sympy import *\n",
    "import math\n",
    "from PIL import ExifTags\n",
    "from xml.etree import ElementTree as ET\n",
    "import utm\n",
    "import math"
   ]
  },
  {
   "cell_type": "markdown",
   "metadata": {},
   "source": [
    "## Parameter festlegen\n",
    "Sensorgröße in Millimetern und Pixeln"
   ]
  },
  {
   "cell_type": "code",
   "execution_count": 2,
   "metadata": {},
   "outputs": [],
   "source": [
    "Xsensor = 0.00617\n",
    "Ysensor = 0.00455\n",
    "Xpixel = 4000.\n",
    "Ypixel = 3000."
   ]
  },
  {
   "cell_type": "code",
   "execution_count": 3,
   "metadata": {},
   "outputs": [],
   "source": [
    "bilder = glob('./bildverband2/*.JPG')[0:2]\n",
    "\n",
    "bilderDaten = []\n",
    "\n",
    "for bild in bilder:\n",
    "    bildDaten = []\n",
    "    img = Image.open(bild)\n",
    "    exif = img._getexif()\n",
    "    for tag, value in exif.items():\n",
    "        if 'GPSInfo' == ExifTags.TAGS.get(tag, tag):\n",
    "            n = float(value[2][0])+float(value[2][1]) / \\\n",
    "                60.+float(value[2][2])/3600.\n",
    "            e = float(value[4][0])+float(value[4][1]) / \\\n",
    "                60.+float(value[4][2])/3600.\n",
    "            h = float(value[6])\n",
    "            u = utm.from_latlon(n,e, 32)\n",
    "            bildDaten.append(u[0])\n",
    "            bildDaten.append(u[1])\n",
    "            bildDaten.append(h)\n",
    "    with open(bild, \"rb\") as f:\n",
    "        s = str(f.read())\n",
    "\n",
    "    start = s.find('<x:xmpmeta')\n",
    "    end = s.find('</x:xmpmeta')\n",
    "    xmp = s[start:end+12].replace(\"\\\\n\", \"\\n\")\n",
    "    tree = ET.XML(xmp)\n",
    "\n",
    "    bildDaten.append(float(tree[0][0].attrib['{http://www.dji.com/drone-dji/1.0/}FlightRollDegree'])/180*math.pi)\n",
    "   \n",
    "    bildDaten.append(float(\n",
    "        tree[0][0].attrib['{http://www.dji.com/drone-dji/1.0/}FlightPitchDegree'])/180*math.pi)\n",
    "    bildDaten.append(float(\n",
    "        tree[0][0].attrib['{http://www.dji.com/drone-dji/1.0/}FlightYawDegree'])/180*math.pi)\n",
    "    #bildDaten.append(float(tree[0][0].attrib['{http://www.dji.com/drone-dji/1.0/}RelativeAltitude'])/180*math.pi)\n",
    "    bilderDaten.append(bildDaten)\n",
    "bilderDaten = np.array(bilderDaten)\n"
   ]
  },
  {
   "cell_type": "markdown",
   "metadata": {},
   "source": [
    "## Marker identifizieren"
   ]
  },
  {
   "cell_type": "code",
   "execution_count": 4,
   "metadata": {},
   "outputs": [],
   "source": [
    "\n",
    "LUT_IN = [0, 158, 216, 255]\n",
    "LUT_OUT = [0, 22, 80, 176]\n",
    "lut = np.interp(np.arange(0, 256),\n",
    "                LUT_IN, LUT_OUT).astype(np.uint8)\n",
    "\n",
    "aruco_dict = aruco.Dictionary_create(32, 3)\n",
    "beobachtungen = []\n",
    "\n",
    "markers = set()\n",
    "for bildnr in range(len(bilder)):\n",
    "    bild = bilder[bildnr]\n",
    "    cv_img = cv2.imread(bild)\n",
    "    tmp = cv2.LUT(cv_img, lut)\n",
    "    gray = cv2.cvtColor(tmp, cv2.COLOR_BGR2GRAY)\n",
    "    \n",
    "    parameter = aruco.DetectorParameters.create()\n",
    "    parameter.cornerRefinementMethod = aruco.CORNER_REFINE_SUBPIX;\n",
    "    corners, ids, _ = aruco.detectMarkers(gray, aruco_dict, parameters=parameter)\n",
    "\n",
    "    for nr in range(len(ids)):\n",
    "        for cid in range(len(corners[nr][0])):\n",
    "            markers.add(ids[nr][0]*10 + cid)\n",
    "            beobachtungen.append(\n",
    "                (bildnr, ids[nr][0]*10 + cid, 0, (corners[nr][0][cid][0]/Xpixel-0.5)*Xsensor))\n",
    "            beobachtungen.append(\n",
    "                    (bildnr, ids[nr][0]*10 + cid, 1, (corners[nr][0][cid][1]/Ypixel-0.5)*Ysensor))\n",
    "\n",
    "    #marked = aruco.drawDetectedMarkers(cv_img, corners, ids)\n",
    "    #cv2.imshow('image', cv2.resize(marked, (800,600)))\n",
    "    # cv2.waitKey(0)"
   ]
  },
  {
   "cell_type": "markdown",
   "metadata": {},
   "source": [
    "## Vektor mit Beobachtungen\n",
    "Erstmal nur Marker aus den Bildern, wird noch mit weiteren Daten gefüllt"
   ]
  },
  {
   "cell_type": "code",
   "execution_count": 5,
   "metadata": {},
   "outputs": [],
   "source": [
    "\n",
    "l = [i[len(i)-1] for i in beobachtungen]\n"
   ]
  },
  {
   "cell_type": "markdown",
   "metadata": {},
   "source": [
    "## Festlegen von Symbolen\n",
    "für die Unbekannten"
   ]
  },
  {
   "cell_type": "code",
   "execution_count": 6,
   "metadata": {},
   "outputs": [
    {
     "name": "stdout",
     "output_type": "stream",
     "text": [
      "[c, deltax, deltay, bild0_x, bild0_y, bild0_z, bild0_kappa, bild0_omega, bild0_phi, bild1_x, bild1_y, bild1_z, bild1_kappa, bild1_omega, bild1_phi, marker0x, marker0y, marker0z, marker1x, marker1y, marker1z, marker2x, marker2y, marker2z, marker3x, marker3y, marker3z, marker10x, marker10y, marker10z, marker11x, marker11y, marker11z, marker12x, marker12y, marker12z, marker13x, marker13y, marker13z, marker140x, marker140y, marker140z, marker141x, marker141y, marker141z, marker142x, marker142y, marker142z, marker143x, marker143y, marker143z, marker160x, marker160y, marker160z, marker161x, marker161y, marker161z, marker162x, marker162y, marker162z, marker163x, marker163y, marker163z, marker180x, marker180y, marker180z, marker181x, marker181y, marker181z, marker182x, marker182y, marker182z, marker183x, marker183y, marker183z]\n"
     ]
    }
   ],
   "source": [
    "sym = []\n",
    "\n",
    "innereOrientierung = [\n",
    "    Symbol('c'),\n",
    "    Symbol('deltax'),\n",
    "    Symbol('deltay')\n",
    "]\n",
    "\n",
    "sym.extend(innereOrientierung)\n",
    "\n",
    "bildOrientierung = []\n",
    "for bild in range(len(bilder)):\n",
    "    bildO = []\n",
    "    bildO.append(Symbol('bild'+str(bild)+'_x'))\n",
    "    bildO.append(Symbol('bild'+str(bild)+'_y'))\n",
    "    bildO.append(Symbol('bild'+str(bild)+'_z'))\n",
    "    bildO.append(Symbol('bild'+str(bild)+'_kappa'))\n",
    "    bildO.append(Symbol('bild'+str(bild)+'_omega'))\n",
    "    bildO.append(Symbol('bild'+str(bild)+'_phi'))\n",
    "    bildOrientierung.append(bildO)\n",
    "    sym.extend(bildO)\n",
    "\n",
    "neupunkte = []\n",
    "for marker in list(markers):\n",
    "    neup = []\n",
    "    neup.append(Symbol('marker'+str(marker)+'x'))\n",
    "    neup.append(Symbol('marker'+str(marker)+'y'))\n",
    "    neup.append(Symbol('marker'+str(marker)+'z'))\n",
    "    neupunkte.append(neup)\n",
    "    sym.extend(neup)\n",
    "\n",
    "print(sym)\n"
   ]
  },
  {
   "cell_type": "markdown",
   "metadata": {},
   "source": [
    "## Erzeugen von Näherungswerten\n",
    "- Brennweite: EXIF\n",
    "- Verschiebung Fokuspunkt: 0\n",
    "- Bilder: GNSS aus EXIF, Ausrichtung aus Kompass, Neigung 0\n",
    "- Marker: Koordinaten des ersten Bildes plus Zufall"
   ]
  },
  {
   "cell_type": "code",
   "execution_count": 7,
   "metadata": {},
   "outputs": [],
   "source": [
    "from random import random\n",
    "\n",
    "x0 = []\n",
    "\n",
    "bilderDatenFlat = bilderDaten.flatten()\n",
    "\n",
    "for nr, __ in enumerate(sym):\n",
    "    if nr == 0:  # Brennweite\n",
    "        x0.append(0.0045)\n",
    "    elif nr == 1:  # Fokuspunkt\n",
    "        x0.append(0)\n",
    "    elif nr == 2:  # Fokuspunkt\n",
    "        x0.append(0)\n",
    "    elif nr > 2 and nr < len(bilderDatenFlat)+3:\n",
    "        x0.append(bilderDatenFlat[nr-3])\n",
    "    elif (nr-3) % 3 == 0:\n",
    "        x0.append(bilderDatenFlat[0]+(random()-5)*10)\n",
    "    elif (nr-3) % 3 == 1:\n",
    "        x0.append(bilderDatenFlat[1]+(random()-5)*10)\n",
    "    elif (nr-3) % 3 == 2:\n",
    "        x0.append(bilderDatenFlat[2]+(random()-5)*10)\n",
    "    else:\n",
    "        x0.append(0)\n"
   ]
  },
  {
   "cell_type": "markdown",
   "metadata": {},
   "source": [
    "## Formeln\n",
    "siehe Seite 281 Nahbereichsphotogrammetrie"
   ]
  },
  {
   "cell_type": "markdown",
   "metadata": {},
   "source": [
    "folgende Formeln aus Nahbereichsphotogrammetrie S. 274"
   ]
  },
  {
   "cell_type": "code",
   "execution_count": 8,
   "metadata": {},
   "outputs": [],
   "source": [
    "formeln = []\n",
    "\n",
    "\n",
    "def r11(kappa, omega, phi):\n",
    "    return cos(phi)*cos(kappa)-sin(phi)*sin(omega)*sin(kappa)\n",
    "\n",
    "\n",
    "def r21(kappa, omega, phi):\n",
    "    return sin(phi)*cos(kappa)+cos(phi)*sin(omega)*sin(kappa)\n",
    "\n",
    "\n",
    "def r31(kappa, omega, phi):\n",
    "    return -cos(omega)*sin(kappa)\n",
    "\n",
    "\n",
    "def r12(kappa, omega, phi):\n",
    "    return -sin(phi)*cos(omega)\n",
    "\n",
    "\n",
    "def r22(kappa, omega, phi):\n",
    "    return cos(phi)*cos(omega)\n",
    "\n",
    "\n",
    "def r32(kappa, omega, phi):\n",
    "    return sin(omega)\n",
    "\n",
    "\n",
    "def r13(kappa, omega, phi):\n",
    "    return cos(phi)*sin(kappa)+sin(phi)*sin(omega)*cos(kappa)\n",
    "\n",
    "\n",
    "def r23(kappa, omega, phi):\n",
    "    return sin(phi)*sin(kappa)-cos(phi)*sin(omega)*cos(kappa)\n",
    "\n",
    "\n",
    "def r33(kappa, omega, phi):\n",
    "    return cos(omega)*cos(kappa)\n",
    "\n",
    "\n",
    "def kx(x, x0, y, y0, z, z0, kappa, omega, phi):\n",
    "    return r11(kappa, omega, phi)*(x-x0)+r21(kappa, omega, phi)*(y-y0)+r31(kappa, omega, phi)*(z-z0)\n",
    "\n",
    "\n",
    "def ky(x, x0, y, y0, z, z0, kappa, omega, phi):\n",
    "    return r12(kappa, omega, phi)*(x-x0)+r22(kappa, omega, phi)*(y-y0)+r32(kappa, omega, phi)*(z-z0)\n",
    "\n",
    "\n",
    "def nenner(x, x0, y, y0, z, z0, kappa, omega, phi):\n",
    "    return r13(kappa, omega, phi)*(x-x0)+r23(kappa, omega, phi)*(y-y0)+r33(kappa, omega, phi)*(z-z0)\n",
    "\n",
    "\n",
    "def x_kolinear(c, x, x0, y, y0, z, z0, kappa, omega, phi, deltax):\n",
    "    return x0+c*kx(x, x0, y, y0, z, z0, kappa, omega, phi)/nenner(x, x0, y, y0, z, z0, kappa, omega, phi) + deltax\n",
    "\n",
    "\n",
    "def y_kolinear(c, x, x0, y, y0, z, z0, kappa, omega, phi, deltay):\n",
    "    return y0+c*ky(x, x0, y, y0, z, z0, kappa, omega, phi)/nenner(x, x0, y, y0, z, z0, kappa, omega, phi) + deltay\n",
    "\n",
    "\n",
    "def kolinear(xy, c, x0, y0, z0, kappa, omega, phi, x, y, z, deltax, deltay):\n",
    "    if xy == 0:\n",
    "        return x_kolinear(c, x, x0, y, y0, z, z0, kappa, omega, phi, deltax)\n",
    "    return y_kolinear(c, x, x0, y, y0, z, z0, kappa, omega, phi, deltay)"
   ]
  },
  {
   "cell_type": "code",
   "execution_count": 9,
   "metadata": {},
   "outputs": [],
   "source": [
    "formeln = []\n",
    "for bnr in range(len(beobachtungen)):\n",
    "    bildnr, punkt, xy, koord = beobachtungen[bnr]\n",
    "    ori = bildOrientierung[bildnr]\n",
    "    bo = bildOrientierung[bildnr]\n",
    "    neup = neupunkte[list(markers).index(punkt)]\n",
    "    formeln.append(kolinear(\n",
    "        xy, innereOrientierung[0], bo[0], bo[1], bo[2], bo[3], bo[4], bo[5], neup[0], neup[1], neup[2], innereOrientierung[1],innereOrientierung[2]))\n",
    "\n",
    "\n",
    "formeln.append(innereOrientierung[0])\n",
    "l.append(x0[0])\n",
    "\n",
    "for bild in range(len(bildOrientierung)):\n",
    "    for bildP in range(3):\n",
    "        formeln.append(bildOrientierung[bild][bildP])\n",
    "        l.append(bilderDaten[bild][bildP])\n"
   ]
  },
  {
   "cell_type": "markdown",
   "metadata": {},
   "source": [
    "## Bilden der A-Matrix-Vorlage\n",
    "aus Ableitungen der Formeln"
   ]
  },
  {
   "cell_type": "code",
   "execution_count": 10,
   "metadata": {},
   "outputs": [],
   "source": [
    "A_vorlage = []\n",
    "for f in range(len(formeln)):\n",
    "    zeile = []\n",
    "    for s in range(len(sym)):\n",
    "        formel = formeln[f].diff(sym[s])\n",
    "        zeile.append(formel)\n",
    "    A_vorlage.append(zeile)\n"
   ]
  },
  {
   "cell_type": "markdown",
   "metadata": {},
   "source": [
    "## Gewichtung\n",
    "erstmal alles gleich"
   ]
  },
  {
   "cell_type": "code",
   "execution_count": 11,
   "metadata": {},
   "outputs": [
    {
     "name": "stdout",
     "output_type": "stream",
     "text": [
      "P [[1. 0. 0. ... 0. 0. 0.]\n",
      " [0. 1. 0. ... 0. 0. 0.]\n",
      " [0. 0. 1. ... 0. 0. 0.]\n",
      " ...\n",
      " [0. 0. 0. ... 1. 0. 0.]\n",
      " [0. 0. 0. ... 0. 1. 0.]\n",
      " [0. 0. 0. ... 0. 0. 1.]]\n"
     ]
    }
   ],
   "source": [
    "\n",
    "P = np.eye(len(l))\n",
    "print('P', P)\n"
   ]
  },
  {
   "cell_type": "markdown",
   "metadata": {},
   "source": [
    "## Ab hier Schleife..."
   ]
  },
  {
   "cell_type": "code",
   "execution_count": 15,
   "metadata": {},
   "outputs": [
    {
     "data": {
      "text/plain": [
       "9.305094104627302e+57"
      ]
     },
     "execution_count": 15,
     "metadata": {},
     "output_type": "execute_result"
    }
   ],
   "source": [
    "werte = {}\n",
    "\n",
    "for nr in range(len(sym)):\n",
    "    werte[sym[nr]] = x0[nr]\n",
    "\n",
    "#print(werte)\n",
    "\n",
    "A = np.empty((len(formeln), len(sym)))\n",
    "for f in range(len(formeln)):\n",
    "    for s in range(len(sym)):\n",
    "        A[f][s] = A_vorlage[f][s].evalf(subs=werte)\n",
    "\n",
    "\n",
    "l0 = np.empty(len(l))\n",
    "for i in range(len(l0)):\n",
    "    l0[i] = formeln[i].evalf(subs=werte)\n",
    "\n",
    "dl = l - l0\n",
    "\n",
    "N = np.transpose(A)@P@A\n",
    "h = np.transpose(A)@P@dl\n",
    "Qx = np.linalg.inv(N)\n",
    "dx = Qx@h\n",
    "\n",
    "x0 = x0 - dx\n",
    "\n",
    "#print('x0', x0)\n",
    "\n",
    "dx.sum()\n"
   ]
  },
  {
   "cell_type": "code",
   "execution_count": 13,
   "metadata": {},
   "outputs": [
    {
     "data": {
      "text/plain": [
       "array([-3.32078949e+07, -1.62100168e+09,  6.34504160e+08, -2.54970449e+07,\n",
       "        3.48671261e+07,  2.90533020e+03,  3.31165467e+11,  5.82890815e+11,\n",
       "       -5.93876615e+11,  3.43152289e+07, -8.09316354e+06,  3.50418356e+03,\n",
       "       -8.98881290e+10, -6.92227932e+10,  1.74367146e+11, -1.25148046e+15,\n",
       "       -1.17206919e+15, -1.07481127e+15, -1.30012579e+15, -1.28563779e+15,\n",
       "       -1.34743539e+15, -1.40641201e+15, -1.16494975e+15, -1.14759808e+15,\n",
       "       -1.36065047e+15, -1.04808959e+15, -1.25470168e+15, -1.12938205e+15,\n",
       "       -1.12684641e+15, -1.03153089e+15, -1.26015119e+15, -1.20546686e+15,\n",
       "       -1.21995217e+15, -1.43063589e+15, -1.19105295e+15, -1.34417659e+15,\n",
       "       -1.28677059e+15, -9.96026538e+14, -1.21501404e+15,  7.12756068e+26,\n",
       "        6.84089560e+26,  6.30667411e+26, -8.35313324e+26, -8.41037422e+26,\n",
       "       -8.29166843e+26,  8.24321347e+26,  8.60803785e+26,  8.83083915e+26,\n",
       "        1.16257244e+26,  1.16760317e+26,  1.08453646e+26, -4.50719219e+26,\n",
       "       -4.77641458e+26, -5.15901334e+26, -1.44598344e+26, -1.36543438e+26,\n",
       "       -1.35307885e+26, -2.71560445e+26, -2.18229270e+26, -2.67692607e+26,\n",
       "       -5.74971646e+26, -6.15445503e+26, -6.87999229e+26, -3.31141317e+25,\n",
       "       -3.18425184e+25, -3.19926252e+25,  4.69109271e+20,  4.51290532e+20,\n",
       "        4.64293732e+20, -1.26098092e+14, -1.24472447e+14, -1.16346973e+14,\n",
       "       -2.71141285e+13, -2.34698488e+13, -1.90481800e+13])"
      ]
     },
     "execution_count": 13,
     "metadata": {},
     "output_type": "execute_result"
    }
   ],
   "source": [
    "dx"
   ]
  }
 ],
 "metadata": {
  "kernelspec": {
   "display_name": "Python 3.10.7 64-bit",
   "language": "python",
   "name": "python3"
  },
  "language_info": {
   "codemirror_mode": {
    "name": "ipython",
    "version": 3
   },
   "file_extension": ".py",
   "mimetype": "text/x-python",
   "name": "python",
   "nbconvert_exporter": "python",
   "pygments_lexer": "ipython3",
   "version": "3.10.7 (main, Nov 24 2022, 19:45:47) [GCC 12.2.0]"
  },
  "orig_nbformat": 4,
  "vscode": {
   "interpreter": {
    "hash": "767d51c1340bd893661ea55ea3124f6de3c7a262a8b4abca0554b478b1e2ff90"
   }
  }
 },
 "nbformat": 4,
 "nbformat_minor": 2
}
