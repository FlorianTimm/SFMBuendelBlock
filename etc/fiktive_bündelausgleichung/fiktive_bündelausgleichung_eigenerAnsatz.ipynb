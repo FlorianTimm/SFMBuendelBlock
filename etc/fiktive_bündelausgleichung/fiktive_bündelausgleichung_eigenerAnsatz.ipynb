{
 "cells": [
  {
   "cell_type": "markdown",
   "metadata": {},
   "source": [
    "https://scipy-cookbook.readthedocs.io/items/bundle_adjustment.html"
   ]
  },
  {
   "cell_type": "markdown",
   "metadata": {},
   "source": [
    "Passpunkte\n",
    "\n",
    "| 0  | 1  | 2  | 3  |\n",
    "|----|----|----|----|\n",
    "| 4  | 5  | 6  | 7  |\n",
    "| 8  | 9 | 10 | 11 |\n",
    "| 12 | 13 | 14 | 15 |"
   ]
  },
  {
   "cell_type": "code",
   "execution_count": 102,
   "metadata": {},
   "outputs": [],
   "source": [
    "import time\n",
    "import numpy as np\n",
    "from scipy.optimize import least_squares\n",
    "from scipy.sparse import lil_matrix\n",
    "\n",
    "from PIL import Image\n",
    "from glob import glob\n",
    "import cv2\n",
    "from cv2 import aruco\n",
    "import numpy as np\n",
    "from sympy import *\n",
    "import math\n",
    "from PIL import ExifTags\n",
    "from xml.etree import ElementTree as ET\n",
    "import utm\n",
    "import math\n"
   ]
  },
  {
   "cell_type": "code",
   "execution_count": 103,
   "metadata": {},
   "outputs": [],
   "source": [
    "passpunkte = np.array([\n",
    "    [-0, -0, 0],\n",
    "    [-1, -0, 0],\n",
    "    [-2, -0, 0],\n",
    "    [-3, -0, 0],\n",
    "    [-0, -1, 0],\n",
    "    [-1, -1, 0],\n",
    "    [-2, -1, 0],\n",
    "    [-3, -1, 0],\n",
    "    [-0, -2, 0],\n",
    "    [-1, -2, 0],\n",
    "    [-2, -2, 0],\n",
    "    [-3, -2, 0],\n",
    "    [-0, -3, 0],\n",
    "    [-1, -3, 0],\n",
    "    [-2, -3, 0],\n",
    "    [-3, -3, 0]\n",
    "])\n"
   ]
  },
  {
   "cell_type": "code",
   "execution_count": 104,
   "metadata": {},
   "outputs": [],
   "source": [
    "# kamera, bildnr, passpunkt, bildkoordinatenx, y\n",
    "messungen = np.array([\n",
    "    [0, 0, 0, 0, 0],\n",
    "    [0, 0, 1, 1, 0],\n",
    "    [0, 0, 2, 2, 0],\n",
    "    [0, 0, 4, 0, 1],\n",
    "    [0, 0, 5, 1, 1],\n",
    "    [0, 0, 6, 2, 1],\n",
    "    [0, 0, 8, 0, 2],\n",
    "    [0, 0, 9, 1, 2],\n",
    "    [0, 0, 10, 2, 2],\n",
    "    [0, 1, 1, 0, 0],\n",
    "    [0, 1, 2, 1, 0],\n",
    "    [0, 1, 3, 2, 0],\n",
    "    [0, 1, 5, 0, 1],\n",
    "    [0, 1, 6, 1, 1],\n",
    "    [0, 1, 7, 2, 1],\n",
    "    [0, 1, 9, 0, 2],\n",
    "    [0, 1, 10, 1, 2],\n",
    "    [0, 1, 11, 2, 2],\n",
    "    [0, 2, 4, 0, 0],\n",
    "    [0, 2, 5, 1, 0],\n",
    "    [0, 2, 6, 2, 0],\n",
    "    [0, 2, 8, 0, 1],\n",
    "    [0, 2, 9, 1, 1],\n",
    "    [0, 2, 10, 2, 1],\n",
    "    [0, 2, 12, 0, 2],\n",
    "    [0, 2, 13, 1, 2],\n",
    "    [0, 2, 14, 2, 2],\n",
    "    [0, 3, 5, 0, 0],\n",
    "    [0, 3, 6, 1, 0],\n",
    "    [0, 3, 7, 2, 0],\n",
    "    [0, 3, 9, 0, 1],\n",
    "    [0, 3, 10, 1, 1],\n",
    "    [0, 3, 11, 2, 1],\n",
    "    [0, 3, 13, 0, 2],\n",
    "    [0, 3, 14, 1, 2],\n",
    "    [0, 3, 15, 2, 2],\n",
    "    [0, 4, 0, 0, 0],\n",
    "    [0, 4, 1, 1, 0],\n",
    "    [0, 4, 2, 2, 0],\n",
    "    [0, 4, 3, 3, 0],\n",
    "    [0, 4, 4, 0, 1],\n",
    "    [0, 4, 5, 1, 1],\n",
    "    [0, 4, 6, 2, 1],\n",
    "    [0, 4, 7, 3, 1],\n",
    "    [0, 4, 8, 0, 2],\n",
    "    [0, 4, 9, 1, 2],\n",
    "    [0, 4, 10, 2, 2],\n",
    "    [0, 4, 11, 3, 2],\n",
    "    [0, 4, 12, 0, 3],\n",
    "    [0, 4, 13, 1, 3],\n",
    "    [0, 4, 14, 2, 3],\n",
    "    [0, 4, 15, 3, 3]\n",
    "])"
   ]
  },
  {
   "cell_type": "code",
   "execution_count": 105,
   "metadata": {},
   "outputs": [],
   "source": [
    "# x,y,z, r1, r2, r3, height, width\n",
    "r1 = 0\n",
    "r2 = 0\n",
    "r3 = 0\n",
    "bild = np.array([\n",
    "    [1, 1, 1, r1, r2, r3, 2, 2],\n",
    "    [2, 1, 1, r1, r2, r3, 2, 2],\n",
    "    [1, 2, 1, r1, r2, r3, 2, 2],\n",
    "    [2, 2, 1, r1, r2, r3, 2, 2],\n",
    "    [1.5, 1.5, 1.5, r1, r2, r3, 3, 3]\n",
    "])\n"
   ]
  },
  {
   "cell_type": "code",
   "execution_count": 106,
   "metadata": {},
   "outputs": [],
   "source": [
    "# f, cx, cy\n",
    "camera_params = np.array([[0.5, -1.7, -1.7]])"
   ]
  },
  {
   "cell_type": "code",
   "execution_count": 107,
   "metadata": {},
   "outputs": [],
   "source": [
    "formeln = []\n",
    "\n",
    "\n",
    "def r11(kappa, omega, phi):\n",
    "    return cos(phi)*cos(kappa)-sin(phi)*sin(omega)*sin(kappa)\n",
    "\n",
    "\n",
    "def r21(kappa, omega, phi):\n",
    "    return sin(phi)*cos(kappa)+cos(phi)*sin(omega)*sin(kappa)\n",
    "\n",
    "\n",
    "def r31(kappa, omega, phi):\n",
    "    return -cos(omega)*sin(kappa)\n",
    "\n",
    "\n",
    "def r12(kappa, omega, phi):\n",
    "    return -sin(phi)*cos(omega)\n",
    "\n",
    "\n",
    "def r22(kappa, omega, phi):\n",
    "    return cos(phi)*cos(omega)\n",
    "\n",
    "\n",
    "def r32(kappa, omega, phi):\n",
    "    return sin(omega)\n",
    "\n",
    "\n",
    "def r13(kappa, omega, phi):\n",
    "    return cos(phi)*sin(kappa)+sin(phi)*sin(omega)*cos(kappa)\n",
    "\n",
    "\n",
    "def r23(kappa, omega, phi):\n",
    "    return sin(phi)*sin(kappa)-cos(phi)*sin(omega)*cos(kappa)\n",
    "\n",
    "\n",
    "def r33(kappa, omega, phi):\n",
    "    return cos(omega)*cos(kappa)\n",
    "\n",
    "\n",
    "def kx(x, x0, y, y0, z, z0, kappa, omega, phi):\n",
    "    return r11(kappa, omega, phi)*(x-x0)+r21(kappa, omega, phi)*(y-y0)+r31(kappa, omega, phi)*(z-z0)\n",
    "\n",
    "\n",
    "def ky(x, x0, y, y0, z, z0, kappa, omega, phi):\n",
    "    return r12(kappa, omega, phi)*(x-x0)+r22(kappa, omega, phi)*(y-y0)+r32(kappa, omega, phi)*(z-z0)\n",
    "\n",
    "\n",
    "def nenner(x, x0, y, y0, z, z0, kappa, omega, phi):\n",
    "    return r13(kappa, omega, phi)*(x-x0)+r23(kappa, omega, phi)*(y-y0)+r33(kappa, omega, phi)*(z-z0)\n",
    "\n",
    "\n",
    "def x_kolinear(c, x, x0, y, y0, z, z0, kappa, omega, phi, deltax):\n",
    "    return x0+c*kx(x, x0, y, y0, z, z0, kappa, omega, phi)/nenner(x, x0, y, y0, z, z0, kappa, omega, phi) + deltax\n",
    "\n",
    "\n",
    "def y_kolinear(c, x, x0, y, y0, z, z0, kappa, omega, phi, deltay):\n",
    "    return y0+c*ky(x, x0, y, y0, z, z0, kappa, omega, phi)/nenner(x, x0, y, y0, z, z0, kappa, omega, phi) + deltay"
   ]
  },
  {
   "cell_type": "markdown",
   "metadata": {},
   "source": [
    "## Beginn Ausgleichung"
   ]
  },
  {
   "cell_type": "code",
   "execution_count": 108,
   "metadata": {},
   "outputs": [
    {
     "data": {
      "text/plain": [
       "array([-0.5       , -0.5       ,  0.        , -0.5       ,  0.5       ,\n",
       "       -0.5       , -0.5       ,  0.        ,  0.        ,  0.        ,\n",
       "        0.5       ,  0.        , -0.5       ,  0.5       ,  0.        ,\n",
       "        0.5       ,  0.5       ,  0.5       , -0.5       , -0.5       ,\n",
       "        0.        , -0.5       ,  0.5       , -0.5       , -0.5       ,\n",
       "        0.        ,  0.        ,  0.        ,  0.5       ,  0.        ,\n",
       "       -0.5       ,  0.5       ,  0.        ,  0.5       ,  0.5       ,\n",
       "        0.5       , -0.5       , -0.5       ,  0.        , -0.5       ,\n",
       "        0.5       , -0.5       , -0.5       ,  0.        ,  0.        ,\n",
       "        0.        ,  0.5       ,  0.        , -0.5       ,  0.5       ,\n",
       "        0.        ,  0.5       ,  0.5       ,  0.5       , -0.5       ,\n",
       "       -0.5       ,  0.        , -0.5       ,  0.5       , -0.5       ,\n",
       "       -0.5       ,  0.        ,  0.        ,  0.        ,  0.5       ,\n",
       "        0.        , -0.5       ,  0.5       ,  0.        ,  0.5       ,\n",
       "        0.5       ,  0.5       , -0.5       , -0.5       , -0.16666667,\n",
       "       -0.5       ,  0.16666667, -0.5       ,  0.5       , -0.5       ,\n",
       "       -0.5       , -0.16666667, -0.16666667, -0.16666667,  0.16666667,\n",
       "       -0.16666667,  0.5       , -0.16666667, -0.5       ,  0.16666667,\n",
       "       -0.16666667,  0.16666667,  0.16666667,  0.16666667,  0.5       ,\n",
       "        0.16666667, -0.5       ,  0.5       , -0.16666667,  0.5       ,\n",
       "        0.16666667,  0.5       ,  0.5       ,  0.5       ])"
      ]
     },
     "execution_count": 108,
     "metadata": {},
     "output_type": "execute_result"
    }
   ],
   "source": [
    "l = np.array([[i[3]/bild[i[1]][6]-0.5, i[4]/bild[i[1]][7]-0.5]\n",
    "              for i in messungen]).reshape(messungen[:, 3:].size)\n",
    "l\n"
   ]
  },
  {
   "cell_type": "code",
   "execution_count": 109,
   "metadata": {},
   "outputs": [],
   "source": [
    "rms = [0.1 for i in l]"
   ]
  },
  {
   "cell_type": "code",
   "execution_count": 110,
   "metadata": {},
   "outputs": [
    {
     "data": {
      "text/plain": [
       "array([ 0.5, -1.7, -1.7,  1. ,  1. ,  1. ,  0. ,  0. ,  0. ,  2. ,  1. ,\n",
       "        1. ,  0. ,  0. ,  0. ,  1. ,  2. ,  1. ,  0. ,  0. ,  0. ,  2. ,\n",
       "        2. ,  1. ,  0. ,  0. ,  0. ,  1.5,  1.5,  1.5,  0. ,  0. ,  0. ,\n",
       "        0. ,  0. ,  0. , -1. ,  0. ,  0. , -2. ,  0. ,  0. , -3. ,  0. ,\n",
       "        0. ,  0. , -1. ,  0. , -1. , -1. ,  0. , -2. , -1. ,  0. , -3. ,\n",
       "       -1. ,  0. ,  0. , -2. ,  0. , -1. , -2. ,  0. , -2. , -2. ,  0. ,\n",
       "       -3. , -2. ,  0. ,  0. , -3. ,  0. , -1. , -3. ,  0. , -2. , -3. ,\n",
       "        0. , -3. , -3. ,  0. ])"
      ]
     },
     "execution_count": 110,
     "metadata": {},
     "output_type": "execute_result"
    }
   ],
   "source": [
    "x0 = np.hstack((camera_params.flatten(), bild[:,:6].flatten(), passpunkte.flatten()))\n",
    "x0"
   ]
  },
  {
   "cell_type": "code",
   "execution_count": 111,
   "metadata": {},
   "outputs": [
    {
     "name": "stdout",
     "output_type": "stream",
     "text": [
      "[c0, deltax0, deltay0, bild0_x, bild0_y, bild0_z, bild0_kappa, bild0_omega, bild0_phi, bild1_x, bild1_y, bild1_z, bild1_kappa, bild1_omega, bild1_phi, bild2_x, bild2_y, bild2_z, bild2_kappa, bild2_omega, bild2_phi, bild3_x, bild3_y, bild3_z, bild3_kappa, bild3_omega, bild3_phi, bild4_x, bild4_y, bild4_z, bild4_kappa, bild4_omega, bild4_phi, marker0x, marker0y, marker0z, marker1x, marker1y, marker1z, marker2x, marker2y, marker2z, marker3x, marker3y, marker3z, marker4x, marker4y, marker4z, marker5x, marker5y, marker5z, marker6x, marker6y, marker6z, marker7x, marker7y, marker7z, marker8x, marker8y, marker8z, marker9x, marker9y, marker9z, marker10x, marker10y, marker10z, marker11x, marker11y, marker11z, marker12x, marker12y, marker12z, marker13x, marker13y, marker13z, marker14x, marker14y, marker14z, marker15x, marker15y, marker15z]\n"
     ]
    }
   ],
   "source": [
    "sym = []\n",
    "\n",
    "innereOrientierung = []\n",
    "for camera in range(len(camera_params)):\n",
    "    innereOrientierung0 = [\n",
    "        Symbol('c'+str(camera)),\n",
    "        Symbol('deltax'+str(camera)),\n",
    "        Symbol('deltay'+str(camera))\n",
    "    ]\n",
    "    innereOrientierung.append(innereOrientierung0)\n",
    "    sym.extend(innereOrientierung0)\n",
    "\n",
    "bildOrientierung = []\n",
    "for bildnr in range(len(bild)):\n",
    "    bildO = []\n",
    "    bildO.append(Symbol('bild'+str(bildnr)+'_x'))\n",
    "    bildO.append(Symbol('bild'+str(bildnr)+'_y'))\n",
    "    bildO.append(Symbol('bild'+str(bildnr)+'_z'))\n",
    "    bildO.append(Symbol('bild'+str(bildnr)+'_kappa'))\n",
    "    bildO.append(Symbol('bild'+str(bildnr)+'_omega'))\n",
    "    bildO.append(Symbol('bild'+str(bildnr)+'_phi'))\n",
    "    bildOrientierung.append(bildO)\n",
    "    sym.extend(bildO)\n",
    "\n",
    "neupunkte = []\n",
    "for marker in range(len(passpunkte)):\n",
    "    neup = []\n",
    "    neup.append(Symbol('marker'+str(marker)+'x'))\n",
    "    neup.append(Symbol('marker'+str(marker)+'y'))\n",
    "    neup.append(Symbol('marker'+str(marker)+'z'))\n",
    "    neupunkte.append(neup)\n",
    "    sym.extend(neup)\n",
    "\n",
    "print(sym)"
   ]
  },
  {
   "cell_type": "code",
   "execution_count": 112,
   "metadata": {},
   "outputs": [],
   "source": [
    "formeln = []\n",
    "for bnr in range(len(messungen)):\n",
    "    kamera, bildnr, punkt, x, y = messungen[bnr]\n",
    "    bo = bildOrientierung[bildnr]\n",
    "    neup = passpunkte[punkt]\n",
    "    formeln.append(x_kolinear(\n",
    "        innereOrientierung[kamera][0], bo[0], bo[1], bo[2], bo[3], bo[4], bo[5], neup[0], neup[1], neup[2], innereOrientierung[kamera][1], innereOrientierung[kamera][2]))\n",
    "    formeln.append(y_kolinear(\n",
    "        innereOrientierung[kamera][0], bo[0], bo[1], bo[2], bo[3], bo[4], bo[5], neup[0], neup[1], neup[2], innereOrientierung[kamera][1], innereOrientierung[kamera][2]))\n",
    "\n",
    "\n",
    "for i in range(len(camera_params)):\n",
    "    for bildP in range(3):\n",
    "        formeln.append(innereOrientierung[i][bildP])\n",
    "        l = np.append(l, x0[i*3+bildP])\n",
    "    rms.append(0.01)\n",
    "    rms.append(0.1)\n",
    "    rms.append(0.1)\n",
    "\n",
    "\n",
    "for bildnr in range(len(bildOrientierung)):\n",
    "    for bildP in range(6):\n",
    "        formeln.append(bildOrientierung[bildnr][bildP])\n",
    "        l = np.append(l, bild[bildnr][bildP])\n",
    "    for bildP in range(3):\n",
    "        rms.append(0.1)  \n",
    "    for bildP in range(3):\n",
    "        rms.append(0.01)\n",
    "\n",
    "for passnr in range(len(passpunkte)):\n",
    "    for passXYZ in range(3):\n",
    "        formeln.append(neupunkte[passnr][passXYZ])\n",
    "        l = np.append(l, passpunkte[passnr][passXYZ])\n",
    "        rms.append(0.01)\n"
   ]
  },
  {
   "cell_type": "code",
   "execution_count": 113,
   "metadata": {},
   "outputs": [
    {
     "data": {
      "text/plain": [
       "array([-0.5       , -0.5       ,  0.        , -0.5       ,  0.5       ,\n",
       "       -0.5       , -0.5       ,  0.        ,  0.        ,  0.        ,\n",
       "        0.5       ,  0.        , -0.5       ,  0.5       ,  0.        ,\n",
       "        0.5       ,  0.5       ,  0.5       , -0.5       , -0.5       ,\n",
       "        0.        , -0.5       ,  0.5       , -0.5       , -0.5       ,\n",
       "        0.        ,  0.        ,  0.        ,  0.5       ,  0.        ,\n",
       "       -0.5       ,  0.5       ,  0.        ,  0.5       ,  0.5       ,\n",
       "        0.5       , -0.5       , -0.5       ,  0.        , -0.5       ,\n",
       "        0.5       , -0.5       , -0.5       ,  0.        ,  0.        ,\n",
       "        0.        ,  0.5       ,  0.        , -0.5       ,  0.5       ,\n",
       "        0.        ,  0.5       ,  0.5       ,  0.5       , -0.5       ,\n",
       "       -0.5       ,  0.        , -0.5       ,  0.5       , -0.5       ,\n",
       "       -0.5       ,  0.        ,  0.        ,  0.        ,  0.5       ,\n",
       "        0.        , -0.5       ,  0.5       ,  0.        ,  0.5       ,\n",
       "        0.5       ,  0.5       , -0.5       , -0.5       , -0.16666667,\n",
       "       -0.5       ,  0.16666667, -0.5       ,  0.5       , -0.5       ,\n",
       "       -0.5       , -0.16666667, -0.16666667, -0.16666667,  0.16666667,\n",
       "       -0.16666667,  0.5       , -0.16666667, -0.5       ,  0.16666667,\n",
       "       -0.16666667,  0.16666667,  0.16666667,  0.16666667,  0.5       ,\n",
       "        0.16666667, -0.5       ,  0.5       , -0.16666667,  0.5       ,\n",
       "        0.16666667,  0.5       ,  0.5       ,  0.5       ,  0.5       ,\n",
       "       -1.7       , -1.7       ,  1.        ,  1.        ,  1.        ,\n",
       "        0.        ,  0.        ,  0.        ,  2.        ,  1.        ,\n",
       "        1.        ,  0.        ,  0.        ,  0.        ,  1.        ,\n",
       "        2.        ,  1.        ,  0.        ,  0.        ,  0.        ,\n",
       "        2.        ,  2.        ,  1.        ,  0.        ,  0.        ,\n",
       "        0.        ,  1.5       ,  1.5       ,  1.5       ,  0.        ,\n",
       "        0.        ,  0.        ,  0.        ,  0.        ,  0.        ,\n",
       "       -1.        ,  0.        ,  0.        , -2.        ,  0.        ,\n",
       "        0.        , -3.        ,  0.        ,  0.        ,  0.        ,\n",
       "       -1.        ,  0.        , -1.        , -1.        ,  0.        ,\n",
       "       -2.        , -1.        ,  0.        , -3.        , -1.        ,\n",
       "        0.        ,  0.        , -2.        ,  0.        , -1.        ,\n",
       "       -2.        ,  0.        , -2.        , -2.        ,  0.        ,\n",
       "       -3.        , -2.        ,  0.        ,  0.        , -3.        ,\n",
       "        0.        , -1.        , -3.        ,  0.        , -2.        ,\n",
       "       -3.        ,  0.        , -3.        , -3.        ,  0.        ])"
      ]
     },
     "execution_count": 113,
     "metadata": {},
     "output_type": "execute_result"
    }
   ],
   "source": [
    "l"
   ]
  },
  {
   "cell_type": "code",
   "execution_count": 114,
   "metadata": {},
   "outputs": [],
   "source": [
    "A_vorlage = []\n",
    "for f in range(len(formeln)):\n",
    "    zeile = []\n",
    "    for s in range(len(sym)):\n",
    "        formel = formeln[f].diff(sym[s])\n",
    "        zeile.append(formel)\n",
    "    A_vorlage.append(zeile)\n"
   ]
  },
  {
   "cell_type": "code",
   "execution_count": 115,
   "metadata": {},
   "outputs": [
    {
     "name": "stdout",
     "output_type": "stream",
     "text": [
      "P [[ 10.   0.   0. ...   0.   0.   0.]\n",
      " [  0.  10.   0. ...   0.   0.   0.]\n",
      " [  0.   0.  10. ...   0.   0.   0.]\n",
      " ...\n",
      " [  0.   0.   0. ... 100.   0.   0.]\n",
      " [  0.   0.   0. ...   0. 100.   0.]\n",
      " [  0.   0.   0. ...   0.   0. 100.]]\n"
     ]
    }
   ],
   "source": [
    "P = np.eye(len(l))\n",
    "P = np.linalg.inv(np.diagflat(rms))\n",
    "print('P', P)\n"
   ]
  },
  {
   "cell_type": "code",
   "execution_count": 120,
   "metadata": {},
   "outputs": [
    {
     "name": "stdout",
     "output_type": "stream",
     "text": [
      "x0 [ 0.4 -2.4 -2.4  1.2  1.2  0.9 -0.   0.   0.   1.2  1.3  1.1  0.   0.\n",
      " -0.1  1.3  1.2  1.1 -0.  -0.   0.1  1.4  1.4  1.3  0.  -0.   0.   1.5\n",
      "  1.5  1.4 -0.   0.   0.   0.   0.   0.  -1.   0.   0.  -2.   0.   0.\n",
      " -3.   0.   0.   0.  -1.   0.  -1.  -1.   0.  -2.  -1.   0.  -3.  -1.\n",
      "  0.   0.  -2.   0.  -1.  -2.   0.  -2.  -2.   0.  -3.  -2.   0.   0.\n",
      " -3.   0.  -1.  -3.   0.  -2.  -3.   0.  -3.  -3.   0. ]\n"
     ]
    },
    {
     "data": {
      "text/plain": [
       "0.0009744171990284118"
      ]
     },
     "execution_count": 120,
     "metadata": {},
     "output_type": "execute_result"
    }
   ],
   "source": [
    "werte = {}\n",
    "\n",
    "for nr in range(len(sym)):\n",
    "    werte[sym[nr]] = x0[nr]\n",
    "\n",
    "#print(werte)\n",
    "\n",
    "A = np.empty((len(formeln), len(sym)))\n",
    "for f in range(len(formeln)):\n",
    "    for s in range(len(sym)):\n",
    "        A[f][s] = A_vorlage[f][s].evalf(subs=werte)\n",
    "\n",
    "\n",
    "l0 = np.empty(len(l))\n",
    "for i in range(len(l0)):\n",
    "    l0[i] = formeln[i].evalf(subs=werte)\n",
    "\n",
    "dl = l - l0\n",
    "\n",
    "N = np.transpose(A)@P@A\n",
    "h = np.transpose(A)@P@dl\n",
    "Qx = np.linalg.inv(N)\n",
    "dx = Qx@h\n",
    "\n",
    "x0 = x0 + dx\n",
    "\n",
    "print('x0', x0.round(2))\n",
    "\n",
    "dx.sum()\n"
   ]
  },
  {
   "cell_type": "code",
   "execution_count": 121,
   "metadata": {},
   "outputs": [
    {
     "name": "stdout",
     "output_type": "stream",
     "text": [
      "c0\t0.43\n",
      "deltax0\t-2.41\n",
      "deltay0\t-2.41\n",
      "bild0_x\t1.22\n",
      "bild0_y\t1.22\n",
      "bild0_z\t0.86\n",
      "bild0_kappa\t-0.01\n",
      "bild0_omega\t0.01\n",
      "bild0_phi\t0.0\n",
      "bild1_x\t1.22\n",
      "bild1_y\t1.31\n",
      "bild1_z\t1.08\n",
      "bild1_kappa\t0.01\n",
      "bild1_omega\t0.03\n",
      "bild1_phi\t-0.08\n",
      "bild2_x\t1.31\n",
      "bild2_y\t1.22\n",
      "bild2_z\t1.08\n",
      "bild2_kappa\t-0.03\n",
      "bild2_omega\t-0.01\n",
      "bild2_phi\t0.08\n",
      "bild3_x\t1.38\n",
      "bild3_y\t1.38\n",
      "bild3_z\t1.25\n",
      "bild3_kappa\t0.01\n",
      "bild3_omega\t-0.01\n",
      "bild3_phi\t0.0\n",
      "bild4_x\t1.46\n",
      "bild4_y\t1.46\n",
      "bild4_z\t1.45\n",
      "bild4_kappa\t-0.01\n",
      "bild4_omega\t0.01\n",
      "bild4_phi\t0.0\n",
      "marker0x\t0.0\n",
      "marker0y\t0.0\n",
      "marker0z\t0.0\n",
      "marker1x\t-1.0\n",
      "marker1y\t0.0\n",
      "marker1z\t0.0\n",
      "marker2x\t-2.0\n",
      "marker2y\t0.0\n",
      "marker2z\t0.0\n",
      "marker3x\t-3.0\n",
      "marker3y\t0.0\n",
      "marker3z\t0.0\n",
      "marker4x\t0.0\n",
      "marker4y\t-1.0\n",
      "marker4z\t0.0\n",
      "marker5x\t-1.0\n",
      "marker5y\t-1.0\n",
      "marker5z\t0.0\n",
      "marker6x\t-2.0\n",
      "marker6y\t-1.0\n",
      "marker6z\t0.0\n",
      "marker7x\t-3.0\n",
      "marker7y\t-1.0\n",
      "marker7z\t0.0\n",
      "marker8x\t0.0\n",
      "marker8y\t-2.0\n",
      "marker8z\t0.0\n",
      "marker9x\t-1.0\n",
      "marker9y\t-2.0\n",
      "marker9z\t0.0\n",
      "marker10x\t-2.0\n",
      "marker10y\t-2.0\n",
      "marker10z\t0.0\n",
      "marker11x\t-3.0\n",
      "marker11y\t-2.0\n",
      "marker11z\t0.0\n",
      "marker12x\t0.0\n",
      "marker12y\t-3.0\n",
      "marker12z\t0.0\n",
      "marker13x\t-1.0\n",
      "marker13y\t-3.0\n",
      "marker13z\t0.0\n",
      "marker14x\t-2.0\n",
      "marker14y\t-3.0\n",
      "marker14z\t0.0\n",
      "marker15x\t-3.0\n",
      "marker15y\t-3.0\n",
      "marker15z\t0.0\n"
     ]
    }
   ],
   "source": [
    "for i in range(len(x0)):\n",
    "    print(str(sym[i])+'\\t'+str(x0[i].round(2)))"
   ]
  }
 ],
 "metadata": {
  "kernelspec": {
   "display_name": "Python 3.10.7 64-bit",
   "language": "python",
   "name": "python3"
  },
  "language_info": {
   "codemirror_mode": {
    "name": "ipython",
    "version": 3
   },
   "file_extension": ".py",
   "mimetype": "text/x-python",
   "name": "python",
   "nbconvert_exporter": "python",
   "pygments_lexer": "ipython3",
   "version": "3.10.7"
  },
  "orig_nbformat": 4,
  "vscode": {
   "interpreter": {
    "hash": "e7370f93d1d0cde622a1f8e1c04877d8463912d04d973331ad4851f04de6915a"
   }
  }
 },
 "nbformat": 4,
 "nbformat_minor": 2
}
