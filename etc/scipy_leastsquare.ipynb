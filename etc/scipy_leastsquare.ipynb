{
 "cells": [
  {
   "cell_type": "code",
   "execution_count": 262,
   "metadata": {},
   "outputs": [],
   "source": [
    "from scipy.optimize import least_squares\n",
    "from scipy.sparse import lil_matrix\n",
    "import numpy as np\n",
    "from glob import glob\n",
    "from cv2 import aruco\n",
    "import cv2\n",
    "import time"
   ]
  },
  {
   "cell_type": "code",
   "execution_count": 263,
   "metadata": {},
   "outputs": [],
   "source": [
    "n_cameras = 1\n",
    "camera_params = np.array([[4,2104,1560]])"
   ]
  },
  {
   "cell_type": "code",
   "execution_count": 264,
   "metadata": {},
   "outputs": [],
   "source": [
    "from random import random\n",
    "\n",
    "\n",
    "bilder = glob('../bildverband1/*.jpg')\n",
    "n_images = len(bilder)\n",
    "image_params = np.empty(n_images*6)\n",
    "image_params.fill(0)\n",
    " \n",
    "for i in range(n_images):\n",
    "    image_params[i*6]=0\n",
    "    image_params[i*6+1]=0\n",
    "    image_params[i*6+2]=0\n",
    "    image_params[i*6+3]=100+(random()-0.5)*10\n",
    "    image_params[i*6+4] = 100+(random()-0.5)*10\n",
    "    image_params[i*6+5]=100+(random()-0.5)*1"
   ]
  },
  {
   "cell_type": "code",
   "execution_count": 265,
   "metadata": {},
   "outputs": [],
   "source": [
    "LUT_IN = [0, 158, 216, 255]\n",
    "LUT_OUT = [0, 22, 80, 176]\n",
    "lut = np.interp(np.arange(0, 256),\n",
    "                LUT_IN, LUT_OUT).astype(np.uint8)\n",
    "\n",
    "aruco_dict = aruco.Dictionary_create(32, 3)\n",
    "n_observations = 0\n",
    "\n",
    "camera_indices = np.array([], dtype=int)\n",
    "image_indices = np.array([], dtype=int)\n",
    "point_indices = np.array([], dtype=int)\n",
    "points_2d_list = []\n",
    "\n",
    "markers = []\n",
    "\n",
    "for bildnr in range(len(bilder)):\n",
    "    bild = bilder[bildnr]\n",
    "    cv_img = cv2.imread(bild)\n",
    "    tmp = cv2.LUT(cv_img, lut)\n",
    "    gray = cv2.cvtColor(tmp, cv2.COLOR_BGR2GRAY)\n",
    "    corners, ids, _ = aruco.detectMarkers(gray,\n",
    "                                          aruco_dict)\n",
    "\n",
    "    for nr in range(len(ids)):\n",
    "        for cid in range(len(corners[nr][0])):\n",
    "            if not (ids[nr][0]*10 + cid) in markers:\n",
    "                markers.append(ids[nr][0]*10 + cid)\n",
    "            pid = markers.index(ids[nr][0]*10 + cid)\n",
    "            point_indices = np.append(point_indices, pid)\n",
    "            image_indices = np.append(image_indices, bildnr)\n",
    "            camera_indices = np.append(camera_indices, 0)\n",
    "            points_2d_list.append(corners[nr][0][cid])\n",
    "            n_observations += 1\n",
    "\n",
    "n_points = len(markers)\n",
    "points_3d = np.empty(n_points * 3)\n",
    "points_3d.fill(0)\n",
    "points_2d = np.array(points_2d_list)\n",
    "\n",
    "for i in range(n_points):\n",
    "    points_3d[i*3+0] = 100+(random()-0.5)*10\n",
    "    points_3d[i*3+1] = 100+(random()-0.5)*10\n",
    "    points_3d[i*3+2] = 95+(random()-0.5)*1\n"
   ]
  },
  {
   "cell_type": "code",
   "execution_count": 266,
   "metadata": {},
   "outputs": [
    {
     "data": {
      "text/plain": [
       "array([[2476., 2227.],\n",
       "       [2381., 2133.],\n",
       "       [2473., 2003.],\n",
       "       [2566., 2101.],\n",
       "       [2946., 1516.],\n",
       "       [3031., 1601.],\n",
       "       [2960., 1716.],\n",
       "       [2876., 1632.],\n",
       "       [1541., 2676.],\n",
       "       [1661., 2513.],\n",
       "       [1787., 2612.],\n",
       "       [1671., 2774.],\n",
       "       [1861., 2021.],\n",
       "       [2013., 1960.],\n",
       "       [2052., 2121.],\n",
       "       [1903., 2187.],\n",
       "       [2131., 1187.],\n",
       "       [2270., 1146.],\n",
       "       [2311., 1307.],\n",
       "       [2177., 1351.],\n",
       "       [1207.,  864.],\n",
       "       [1412.,  851.],\n",
       "       [1447., 1049.],\n",
       "       [1247., 1069.],\n",
       "       [2805.,  839.],\n",
       "       [2903.,  916.],\n",
       "       [2852., 1047.],\n",
       "       [2749.,  972.],\n",
       "       [2109., 1949.],\n",
       "       [2075., 1750.],\n",
       "       [2356., 1707.],\n",
       "       [2415., 1896.],\n",
       "       [ 647., 1560.],\n",
       "       [ 914., 1525.],\n",
       "       [ 856., 1687.],\n",
       "       [ 575., 1723.],\n",
       "       [1592., 1335.],\n",
       "       [1797., 1372.],\n",
       "       [1673., 1509.],\n",
       "       [1459., 1463.],\n",
       "       [3697., 1916.],\n",
       "       [3570., 1984.],\n",
       "       [3448., 1798.],\n",
       "       [3576., 1736.],\n",
       "       [2723., 1855.],\n",
       "       [2562., 1952.],\n",
       "       [2432., 1760.],\n",
       "       [2593., 1666.],\n",
       "       [1155., 1683.],\n",
       "       [ 909., 1567.],\n",
       "       [1047., 1372.],\n",
       "       [1280., 1485.],\n",
       "       [2675.,  968.],\n",
       "       [2536., 1021.],\n",
       "       [2430.,  872.],\n",
       "       [2570.,  821.],\n",
       "       [1835.,  736.],\n",
       "       [2009.,  842.],\n",
       "       [1922.,  971.],\n",
       "       [1739.,  858.],\n",
       "       [2745.,  484.],\n",
       "       [2692.,  587.],\n",
       "       [2543.,  496.],\n",
       "       [2600.,  395.],\n",
       "       [1777., 2779.],\n",
       "       [1493., 2722.],\n",
       "       [1562., 2427.],\n",
       "       [1831., 2487.],\n",
       "       [2577., 2556.],\n",
       "       [2461., 2314.],\n",
       "       [2648., 2217.],\n",
       "       [2765., 2447.],\n",
       "       [ 936., 2313.],\n",
       "       [1221., 2194.],\n",
       "       [1326., 2464.],\n",
       "       [1040., 2599.],\n",
       "       [3499., 1985.],\n",
       "       [3621., 2166.],\n",
       "       [3501., 2268.],\n",
       "       [3375., 2078.],\n",
       "       [1777., 1731.],\n",
       "       [2007., 1777.],\n",
       "       [1987., 2015.],\n",
       "       [1748., 1974.],\n",
       "       [3381., 1154.],\n",
       "       [3510., 1294.],\n",
       "       [3424., 1387.],\n",
       "       [3293., 1245.],\n",
       "       [2454., 1064.],\n",
       "       [2634., 1113.],\n",
       "       [2640., 1290.],\n",
       "       [2457., 1244.],\n",
       "       [1584.,  341.],\n",
       "       [1786.,  426.],\n",
       "       [1743.,  581.],\n",
       "       [1537.,  498.]], dtype=float32)"
      ]
     },
     "execution_count": 266,
     "metadata": {},
     "output_type": "execute_result"
    }
   ],
   "source": [
    "points_2d"
   ]
  },
  {
   "cell_type": "code",
   "execution_count": 267,
   "metadata": {},
   "outputs": [
    {
     "data": {
      "text/plain": [
       "96"
      ]
     },
     "execution_count": 267,
     "metadata": {},
     "output_type": "execute_result"
    }
   ],
   "source": [
    "n_observations"
   ]
  },
  {
   "cell_type": "code",
   "execution_count": 268,
   "metadata": {},
   "outputs": [],
   "source": [
    "def rotate(points, rot_vecs):\n",
    "    \"\"\"Rotate points by given rotation vectors.\n",
    "    \n",
    "    Rodrigues' rotation formula is used.\n",
    "    :param rot_vecs: [r1,r2,r3]\n",
    "    \"\"\"\n",
    "    theta = np.linalg.norm(rot_vecs, axis=1)[:, np.newaxis]\n",
    "    with np.errstate(invalid='ignore'):\n",
    "        v = rot_vecs / theta\n",
    "        v = np.nan_to_num(v)\n",
    "    dot = np.sum(points * v, axis=1)[:, np.newaxis]\n",
    "    cos_theta = np.cos(theta)\n",
    "    sin_theta = np.sin(theta)\n",
    "\n",
    "    return cos_theta * points + sin_theta * np.cross(v, points) + dot * (1 - cos_theta) * v\n"
   ]
  },
  {
   "cell_type": "code",
   "execution_count": 269,
   "metadata": {},
   "outputs": [],
   "source": [
    "def project(points, camera_params, image_params):\n",
    "    \"\"\"\n",
    "    Convert 3-D points to 2-D by projecting onto images.\n",
    "    :param camera_params: [[f,k1,k2]]\n",
    "    :param image_params: [[camera_indices, r1,r2,r3,x0,y0,z0]]\n",
    "    \"\"\"\n",
    "    points_proj = rotate(points, image_params[:, 1:4])\n",
    "    points_proj += image_params[:, 3:]\n",
    "    points_proj = -points_proj[:, :2] / points_proj[:, 2, np.newaxis]\n",
    "    f = camera_params[:,0]\n",
    "    k1 = camera_params[:,1]\n",
    "    k2 = camera_params[:,2]\n",
    "    n = np.sum(points_proj**2, axis=1)\n",
    "    r = 1 + k1 * n + k2 * n**2\n",
    "    points_proj *= (r * f)[:, np.newaxis]\n",
    "    return points_proj\n"
   ]
  },
  {
   "cell_type": "code",
   "execution_count": 270,
   "metadata": {},
   "outputs": [],
   "source": [
    "def fun(params, n_cameras, n_images, n_points, camera_indices, image_indices, point_indices, points_2d):\n",
    "    \"\"\"Compute residuals.\n",
    "    \n",
    "    `params` contains camera parameters and 3-D coordinates.\n",
    "    \"\"\"\n",
    "    camera_params = params[:n_cameras * 3].reshape((n_cameras, 3))\n",
    "    image_params = params[n_cameras * 3:n_cameras *\n",
    "                          3 + n_images * 6].reshape((n_images, 6))\n",
    "    points_3d = params[n_cameras * 3 + n_images * 6:].reshape((n_points, 3))\n",
    "    points_proj = project(\n",
    "        points_3d[point_indices], camera_params[camera_indices], image_params[image_indices])\n",
    "    return (points_proj - points_2d).ravel()\n"
   ]
  },
  {
   "cell_type": "code",
   "execution_count": 271,
   "metadata": {},
   "outputs": [],
   "source": [
    "def bundle_adjustment_sparsity(n_cameras, n_images, n_points, camera_indices, images_indices, point_indices):\n",
    "    m = camera_indices.size * 2\n",
    "    n = n_cameras * 3 + n_images * 6 + n_points * 3\n",
    "    A = lil_matrix((m, n), dtype=int)\n",
    "\n",
    "    i = np.arange(camera_indices.size)\n",
    "    for s in range(9):\n",
    "        A[2 * i, camera_indices * 9 + s] = 1\n",
    "        A[2 * i + 1, camera_indices * 9 + s] = 1\n",
    "\n",
    "    for s in range(3):\n",
    "        A[2 * i, n_cameras * 9 + point_indices * 3 + s] = 1\n",
    "        A[2 * i + 1, n_cameras * 9 + point_indices * 3 + s] = 1\n",
    "\n",
    "    return A\n"
   ]
  },
  {
   "cell_type": "code",
   "execution_count": 272,
   "metadata": {},
   "outputs": [],
   "source": [
    "x0 = np.hstack((camera_params.ravel(), image_params.ravel(), points_3d.ravel()))\n",
    "f0 = fun(x0, n_cameras, n_images, n_points, camera_indices, image_indices, point_indices, points_2d)"
   ]
  },
  {
   "cell_type": "code",
   "execution_count": 273,
   "metadata": {},
   "outputs": [
    {
     "name": "stdout",
     "output_type": "stream",
     "text": [
      "   Iteration     Total nfev        Cost      Cost reduction    Step norm     Optimality   \n",
      "       0              1         1.3205e+10                                    2.11e+11    \n",
      "       1              3         3.6145e+09      9.59e+09       1.30e+03       2.96e+10    \n",
      "       2              4         5.7840e+08      3.04e+09       1.25e+03       3.00e+09    \n",
      "       3              6         4.1445e+08      1.64e+08       4.17e+02       5.56e+08    \n",
      "       4              9         4.0641e+08      8.04e+06       4.60e+01       4.78e+08    \n",
      "       5             10         4.0391e+08      2.50e+06       3.44e+01       4.31e+08    \n",
      "       6             12         4.0377e+08      1.36e+05       5.39e+00       4.27e+08    \n",
      "       7             22         4.0377e+08      0.00e+00       0.00e+00       4.27e+08    \n",
      "`xtol` termination condition is satisfied.\n",
      "Function evaluations 22, initial cost 1.3205e+10, final cost 4.0377e+08, first-order optimality 4.27e+08.\n"
     ]
    }
   ],
   "source": [
    "A = bundle_adjustment_sparsity(\n",
    "    n_cameras, n_images, n_points, camera_indices, image_indices, point_indices)\n",
    "t0 = time.time()\n",
    "res = least_squares(fun, x0, jac_sparsity=A, verbose=2, x_scale='jac', ftol=1e-4, method='trf',\n",
    "                    args=(n_cameras, n_images, n_points, camera_indices, image_indices, point_indices, points_2d))\n",
    "t1 = time.time()"
   ]
  },
  {
   "cell_type": "code",
   "execution_count": 277,
   "metadata": {},
   "outputs": [
    {
     "data": {
      "text/plain": [
       "array([[   2.33995616,  576.37501755, -234.30718931]])"
      ]
     },
     "execution_count": 277,
     "metadata": {},
     "output_type": "execute_result"
    }
   ],
   "source": [
    "res.x[0:n_cameras*3].reshape(n_cameras, 3)"
   ]
  },
  {
   "cell_type": "code",
   "execution_count": 284,
   "metadata": {},
   "outputs": [
    {
     "name": "stdout",
     "output_type": "stream",
     "text": [
      "v 95.73091026686288 -21.526421336239082 -364.26718824319016\n",
      "v 101.58974814774737 94.93468883766498 134.25458300508265\n",
      "v 103.25133961066658 143.40311049273066 100.60536340193154\n",
      "v 98.40926321011867 131.74149812445395 193.78472471883651\n"
     ]
    }
   ],
   "source": [
    "\n",
    "for i in res.x[n_cameras*3:n_cameras*3+n_images*6].reshape(n_images, 6)[:, 3:]:\n",
    "    print('v', i[0], i[1], i[2])\n"
   ]
  },
  {
   "cell_type": "code",
   "execution_count": 282,
   "metadata": {},
   "outputs": [
    {
     "name": "stdout",
     "output_type": "stream",
     "text": [
      "v 102.16285870263184 284.8868746823323 136.34847886296683\n",
      "v 103.48368802096955 122.72338523878258 61.19322268478749\n",
      "v 104.04058142799182 129.73443338338552 94.92509008301043\n",
      "v 98.47914487342605 109.17099205929237 94.81847660798196\n",
      "v 97.25473466873594 160.9124386026953 94.85003225489953\n",
      "v 161.50908129712408 102.02500130109608 95.35579596077878\n",
      "v 96.41118756217058 105.29841338285506 95.09139566649905\n",
      "v 96.2674625017517 96.08386579449586 104.79242413164025\n",
      "v 98.20853449129908 148.83418497840304 95.3144097534422\n",
      "v 101.8249049865935 100.54685629339022 131.98321216520623\n",
      "v 89.82014251260622 168.2963065989634 94.64530198037944\n",
      "v -0.31047635102808624 98.32545840468512 101.43850537450072\n",
      "v 97.12216357421138 158.54761846267166 118.578801729345\n",
      "v 105.02360055159697 251.47850999528234 42.74655709185787\n",
      "v 84.4137469163593 290.3968486888971 95.45062391567795\n",
      "v 149.9523388071215 87.14216122729425 94.59422556544106\n",
      "v -131.4513477496869 100.8892287208605 198.2552347090372\n",
      "v 96.21634456247315 -45.7629888669503 172.8487843957745\n",
      "v -32.13397874748442 97.54513320264073 158.54218467186462\n",
      "v 151.86253298007782 7.510594207647259 94.23261712303021\n",
      "v 127.36191593396666 86.94916767233515 94.08903192904747\n",
      "v 102.73726005028541 142.94974383790154 33.820060665843194\n",
      "v 102.73604720424433 96.32967954217372 95.2331198473207\n",
      "v 99.40318845214466 101.43162879098003 95.19471617364671\n",
      "v 103.84262418490852 96.589550175225 95.01916886033638\n",
      "v 103.32036699463227 95.87479306621762 95.08372185351425\n",
      "v 96.38277220709513 95.09890242678028 94.959821269062\n",
      "v 101.9751871864199 100.72708543422232 95.4818065685356\n"
     ]
    }
   ],
   "source": [
    "for i in res.x[n_cameras*3+n_images*6:].reshape(n_points, 3).reshape(n_points, 3):\n",
    "    print ('v',i[0],i[1],i[2])\n"
   ]
  }
 ],
 "metadata": {
  "kernelspec": {
   "display_name": "Python 3.10.7 64-bit",
   "language": "python",
   "name": "python3"
  },
  "language_info": {
   "codemirror_mode": {
    "name": "ipython",
    "version": 3
   },
   "file_extension": ".py",
   "mimetype": "text/x-python",
   "name": "python",
   "nbconvert_exporter": "python",
   "pygments_lexer": "ipython3",
   "version": "3.10.7 (main, Nov 24 2022, 19:45:47) [GCC 12.2.0]"
  },
  "orig_nbformat": 4,
  "vscode": {
   "interpreter": {
    "hash": "e7370f93d1d0cde622a1f8e1c04877d8463912d04d973331ad4851f04de6915a"
   }
  }
 },
 "nbformat": 4,
 "nbformat_minor": 2
}
