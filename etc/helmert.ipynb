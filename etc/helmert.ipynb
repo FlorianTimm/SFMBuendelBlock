{
 "cells": [
  {
   "cell_type": "code",
   "execution_count": 1,
   "metadata": {},
   "outputs": [],
   "source": [
    "import numpy as np"
   ]
  },
  {
   "cell_type": "code",
   "execution_count": 7,
   "metadata": {},
   "outputs": [],
   "source": [
    "globale = np.array([[3738525.93234692,  652462.93200035, 5109102.83932901],\n",
    "              [3738526.95143331, 652464.73288259, 5109101.87017219],\n",
    "              [3738527.4812818, 652458.83939154, 5109103.5996587],\n",
    "              [3738527.59613748, 652464.82298695, 5109102.75715289],\n",
    "              [3738527.96513035, 652462.4986026, 5109101.41679758],\n",
    "              [3738528.27712998, 652461.8470651, 5109102.6396793]])\n",
    "lokale = np.array([[-4.17630837e-03, -2.81093506e-04, -4.77740430e-03],\n",
    "              [-9.54267415e-01, -3.51704859e-01, 8.80606506e-01],\n",
    "              [8.05933711e-01, 3.80201536e-01, 7.76792687e-01],\n",
    "              [-9.76571611e-01, 1.76687098e-01, 1.02455167e+00],\n",
    "              [-1.69209390e-02, -2.14627830e-01, 9.77519868e-01],\n",
    "              [2.81925220e-01, 2.63439559e-01, 7.54269189e-01]])\n",
    "\n"
   ]
  },
  {
   "cell_type": "code",
   "execution_count": 78,
   "metadata": {},
   "outputs": [
    {
     "data": {
      "text/plain": [
       "array([3738525.93234692,  652462.93200035, 5109102.83932901,\n",
       "       3738526.95143331,  652464.73288259, 5109101.87017219,\n",
       "       3738527.4812818 ,  652458.83939154, 5109103.5996587 ,\n",
       "       3738527.59613748,  652464.82298695, 5109102.75715289,\n",
       "       3738527.96513035,  652462.4986026 , 5109101.41679758,\n",
       "       3738528.27712998,  652461.8470651 , 5109102.6396793 ])"
      ]
     },
     "execution_count": 78,
     "metadata": {},
     "output_type": "execute_result"
    }
   ],
   "source": [
    "l = globale.ravel()\n",
    "l"
   ]
  },
  {
   "cell_type": "code",
   "execution_count": 81,
   "metadata": {},
   "outputs": [],
   "source": [
    "A = np.zeros((len(l),12))\n",
    "for p in range(len(lokale)):\n",
    "    for i in range(3):\n",
    "        A[p*3+i,i*4:i*4+3] = lokale[p].T\n",
    "        A[p*3+i, i*4+3] = 1"
   ]
  },
  {
   "cell_type": "code",
   "execution_count": 83,
   "metadata": {},
   "outputs": [],
   "source": [
    "N = A.T @ A\n",
    "x = np.linalg.inv(N) @ A.T @ l"
   ]
  },
  {
   "cell_type": "code",
   "execution_count": 84,
   "metadata": {},
   "outputs": [
    {
     "data": {
      "text/plain": [
       "array([[ 4.27088887e-01,  3.79742649e-01,  1.97710811e+00,\n",
       "         3.73852596e+06],\n",
       "       [-3.02238471e+00, -5.71158012e-01, -9.32569750e-01,\n",
       "         6.52462886e+05],\n",
       "       [-1.75155464e-01,  2.55051464e+00, -6.60012811e-01,\n",
       "         5.10910287e+06]])"
      ]
     },
     "execution_count": 84,
     "metadata": {},
     "output_type": "execute_result"
    }
   ],
   "source": [
    "R = x.reshape((3,4))"
   ]
  },
  {
   "cell_type": "code",
   "execution_count": 85,
   "metadata": {},
   "outputs": [
    {
     "data": {
      "text/plain": [
       "array([[ 0.01617656,  0.20836594,  0.50296471,  0.039384  , -0.16133865,\n",
       "        -0.60555256],\n",
       "       [-0.02844028,  0.41725456,  0.66952006, -0.04147215, -0.35015822,\n",
       "        -0.66670397],\n",
       "       [ 0.03622391, -0.3088818 , -0.41142073,  0.06070997,  0.26596436,\n",
       "         0.35740429]])"
      ]
     },
     "execution_count": 85,
     "metadata": {},
     "output_type": "execute_result"
    }
   ],
   "source": [
    "R@np.c_[lokale, np.ones(len(lokale))].T-globale.T"
   ]
  },
  {
   "attachments": {},
   "cell_type": "markdown",
   "metadata": {},
   "source": [
    "## Versuche Scherung"
   ]
  },
  {
   "cell_type": "code",
   "execution_count": 109,
   "metadata": {},
   "outputs": [],
   "source": [
    "from cv2 import Rodrigues"
   ]
  },
  {
   "cell_type": "code",
   "execution_count": 113,
   "metadata": {},
   "outputs": [
    {
     "data": {
      "text/plain": [
       "(array([[-0.40312395,  0.11665978, -0.90767922],\n",
       "        [ 0.91481274,  0.02463016, -0.40312654],\n",
       "        [-0.02467237, -0.99286648, -0.11665086]]),\n",
       " array([3.43744296, 2.65093771, 1.64140777]),\n",
       " array([[-0.85318195, -0.21484378, -0.47531327],\n",
       "        [ 0.05631527, -0.94384998,  0.32553925],\n",
       "        [ 0.5185645 , -0.25097681, -0.81737476]]))"
      ]
     },
     "execution_count": 113,
     "metadata": {},
     "output_type": "execute_result"
    }
   ],
   "source": [
    "u,s,v = np.linalg.svd(R[:,:3])\n",
    "u,s,v"
   ]
  },
  {
   "cell_type": "code",
   "execution_count": 116,
   "metadata": {},
   "outputs": [
    {
     "data": {
      "text/plain": [
       "4.640873225152347"
      ]
     },
     "execution_count": 116,
     "metadata": {},
     "output_type": "execute_result"
    }
   ],
   "source": [
    "np.linalg.norm(R[:,:3])"
   ]
  },
  {
   "cell_type": "markdown",
   "metadata": {},
   "source": []
  },
  {
   "cell_type": "code",
   "execution_count": 111,
   "metadata": {},
   "outputs": [
    {
     "data": {
      "text/plain": [
       "array([[ 1.32516186],\n",
       "       [ 1.3225123 ],\n",
       "       [-1.47822467]])"
      ]
     },
     "execution_count": 111,
     "metadata": {},
     "output_type": "execute_result"
    }
   ],
   "source": [
    "Rodrigues(R[:,:3])[0]"
   ]
  },
  {
   "cell_type": "code",
   "execution_count": 107,
   "metadata": {},
   "outputs": [
    {
     "data": {
      "text/plain": [
       "array([[-0.19435837,  0.95723985, -0.21428183],\n",
       "       [ 0.10685002, -0.19648806, -0.97466687],\n",
       "       [-0.97509379, -0.21233068, -0.06409199]])"
      ]
     },
     "execution_count": 107,
     "metadata": {},
     "output_type": "execute_result"
    }
   ],
   "source": [
    "\n",
    "R2 = Rodrigues(Rodrigues(R[:,:3])[0])[0]\n",
    "massstab = np.linalg.norm(R[:, :3]@np.array([1, 1, 1])) / \\\n",
    "    np.linalg.norm(R2@np.array([1, 1, 1]))\n",
    "R3 = np.c_[R2 * massstab, R[:, 3]]\n",
    "R3@np.c_[lokale, np.ones(len(lokale))].T-globale.T\n",
    "R2"
   ]
  }
 ],
 "metadata": {
  "kernelspec": {
   "display_name": "Python 3",
   "language": "python",
   "name": "python3"
  },
  "language_info": {
   "codemirror_mode": {
    "name": "ipython",
    "version": 3
   },
   "file_extension": ".py",
   "mimetype": "text/x-python",
   "name": "python",
   "nbconvert_exporter": "python",
   "pygments_lexer": "ipython3",
   "version": "3.10.7"
  },
  "orig_nbformat": 4
 },
 "nbformat": 4,
 "nbformat_minor": 2
}
