{
 "cells": [
  {
   "cell_type": "code",
   "execution_count": 2,
   "metadata": {},
   "outputs": [],
   "source": [
    "import json\n",
    "import numpy as np\n",
    "import sqlite3\n",
    "import cv2 as cv"
   ]
  },
  {
   "cell_type": "code",
   "execution_count": 3,
   "metadata": {},
   "outputs": [],
   "source": [
    "f = open('passpunkte.json')\n",
    "data = json.load(f)"
   ]
  },
  {
   "cell_type": "code",
   "execution_count": 4,
   "metadata": {},
   "outputs": [
    {
     "data": {
      "text/plain": [
       "<sqlite3.Cursor at 0x7f8a701a4b40>"
      ]
     },
     "execution_count": 4,
     "metadata": {},
     "output_type": "execute_result"
    }
   ],
   "source": [
    "db = sqlite3.connect(':memory:')\n",
    "cur = db.cursor()\n",
    "db.execute(\"\"\"CREATE TABLE IF NOT EXISTS passpunktpos (\n",
    "            ppid INTEGER PRIMARY KEY AUTOINCREMENT,\n",
    "            pid INTEGER,\n",
    "            bid INTEGER,\n",
    "            x NUMBER,\n",
    "            y NUMBER,\n",
    "            UNIQUE (pid, bid))\"\"\")"
   ]
  },
  {
   "cell_type": "code",
   "execution_count": 5,
   "metadata": {},
   "outputs": [],
   "source": [
    "data['passpunkte']\n",
    "for pp in data[\"passpunkte\"]:\n",
    "     cur.execute(\"INSERT OR REPLACE INTO passpunktpos (pid, bid, x, y) VALUES (?,?,?,?)\", (pp['passpunkt'],pp['image'],pp['x'],pp['y']))"
   ]
  },
  {
   "cell_type": "code",
   "execution_count": 6,
   "metadata": {},
   "outputs": [
    {
     "data": {
      "text/plain": [
       "(0, 1, 8)"
      ]
     },
     "execution_count": 6,
     "metadata": {},
     "output_type": "execute_result"
    }
   ],
   "source": [
    "cur.execute(\"SELECT a.bid, b.bid, count(*) FROM passpunktpos a, passpunktpos b WhERE a.pid = b.pid and a.bid < b.bid GROUP BY a.bid, b.bid ORDER BY count(*) DESC LIMIT 1\")\n",
    "first_pair = cur.fetchone()\n",
    "first_pair"
   ]
  },
  {
   "cell_type": "code",
   "execution_count": 7,
   "metadata": {},
   "outputs": [
    {
     "data": {
      "text/plain": [
       "(0,\n",
       " 830.7972047639337,\n",
       " 2635.0598909840774,\n",
       " 872.703851701128,\n",
       " 2417.2588006475785)"
      ]
     },
     "execution_count": 7,
     "metadata": {},
     "output_type": "execute_result"
    }
   ],
   "source": [
    "cur.execute(\"SELECT a.pid, a.x, a.y, b.x, b.y FROM passpunktpos a, passpunktpos b WhERE a.pid = b.pid and a.bid = ? AND b.bid = ?\", (first_pair[0], first_pair[1]))\n",
    "coords = cur.fetchall()\n",
    "coords[0]\n"
   ]
  },
  {
   "cell_type": "code",
   "execution_count": 8,
   "metadata": {},
   "outputs": [
    {
     "data": {
      "text/plain": [
       "array([[ 830.79720476, 2635.05989098],\n",
       "       [3284.37680885, 2735.66436457],\n",
       "       [1539.64102884, 1280.31160593],\n",
       "       [3130.14047711,  146.48328435],\n",
       "       [2810.05859375, 1377.44140625],\n",
       "       [ 248.87815065, 2098.11323308],\n",
       "       [3167.96875   , 1501.953125  ],\n",
       "       [2748.34904925, 1763.32293725]])"
      ]
     },
     "execution_count": 8,
     "metadata": {},
     "output_type": "execute_result"
    }
   ],
   "source": [
    "pts1 = np.empty((len(coords),2))\n",
    "pts2 = np.empty((len(coords),2))\n",
    "\n",
    "for i, pp in enumerate(coords):\n",
    "    pid, x1, y1, x2, y2 = pp\n",
    "    pts1[i, 0] = x1\n",
    "    pts1[i, 1] = y1\n",
    "    pts2[i, 0] = x2\n",
    "    pts2[i, 1] = y2\n",
    "\n",
    "pts1"
   ]
  },
  {
   "cell_type": "code",
   "execution_count": 9,
   "metadata": {},
   "outputs": [
    {
     "data": {
      "text/plain": [
       "array([[3000,    0, 2000],\n",
       "       [   0, 3000, 1500],\n",
       "       [   0,    0,    1]])"
      ]
     },
     "execution_count": 9,
     "metadata": {},
     "output_type": "execute_result"
    }
   ],
   "source": [
    "K = np.array([[3000,0,2000],\n",
    "            [0,3000,1500],\n",
    "            [0,0,1]])\n",
    "K"
   ]
  },
  {
   "cell_type": "code",
   "execution_count": 10,
   "metadata": {},
   "outputs": [
    {
     "data": {
      "text/plain": [
       "array([[ 2.76474530e-09, -1.03827651e-06,  3.86519042e-03],\n",
       "       [ 1.23498682e-06, -1.58117677e-08, -2.26770667e-03],\n",
       "       [-3.63630580e-03,  1.56948786e-03,  1.00000000e+00]])"
      ]
     },
     "execution_count": 10,
     "metadata": {},
     "output_type": "execute_result"
    }
   ],
   "source": [
    "F, mask = cv.findFundamentalMat(pts1, pts2, cv.FM_RANSAC)\n",
    "F"
   ]
  },
  {
   "cell_type": "code",
   "execution_count": 15,
   "metadata": {},
   "outputs": [
    {
     "data": {
      "text/plain": [
       "array([[-0.00266282,  1.        , -0.74267472],\n",
       "       [-1.1894585 ,  0.01522886, -0.05732234],\n",
       "       [ 0.57091281,  0.17040509, -0.10445242]])"
      ]
     },
     "execution_count": 15,
     "metadata": {},
     "output_type": "execute_result"
    }
   ],
   "source": [
    "E = K.T@F@K\n",
    "E/E[0,1]"
   ]
  },
  {
   "cell_type": "code",
   "execution_count": 12,
   "metadata": {},
   "outputs": [
    {
     "data": {
      "text/plain": [
       "[array([[ 0.99168087, -0.06153181, -0.1130614 , -0.15817903],\n",
       "        [ 0.03874822,  0.98030558, -0.19364801,  0.42755438],\n",
       "        [ 0.12275023,  0.1876561 ,  0.97453454,  0.89004306]]),\n",
       " array([[ 0.99168087, -0.06153181, -0.1130614 ,  0.15817903],\n",
       "        [ 0.03874822,  0.98030558, -0.19364801, -0.42755438],\n",
       "        [ 0.12275023,  0.1876561 ,  0.97453454, -0.89004306]]),\n",
       " array([[-0.98186012, -0.12698248, -0.14080538, -0.15817903],\n",
       "        [-0.0652935 , -0.47075568,  0.87984422,  0.42755438],\n",
       "        [-0.17800973,  0.87307762,  0.4539251 ,  0.89004306]]),\n",
       " array([[-0.98186012, -0.12698248, -0.14080538,  0.15817903],\n",
       "        [-0.0652935 , -0.47075568,  0.87984422, -0.42755438],\n",
       "        [-0.17800973,  0.87307762,  0.4539251 , -0.89004306]])]"
      ]
     },
     "execution_count": 12,
     "metadata": {},
     "output_type": "execute_result"
    }
   ],
   "source": [
    "U, S, V = np.linalg.svd(E)\n",
    "\n",
    "# Ensure rotation matrix are right-handed with positive determinant\n",
    "if np.linalg.det(np.dot(U, V)) < 0:\n",
    "    V = -V\n",
    "\n",
    "# create 4 possible camera matrices (Hartley p 258)\n",
    "W = np.array([[0, -1, 0], [1, 0, 0], [0, 0, 1]])\n",
    "P2s = [np.vstack((np.dot(U, np.dot(W, V)).T, U[:, 2])).T,\n",
    "      np.vstack((np.dot(U, np.dot(W, V)).T, -U[:, 2])).T,\n",
    "      np.vstack((np.dot(U, np.dot(W.T, V)).T, U[:, 2])).T,\n",
    "      np.vstack((np.dot(U, np.dot(W.T, V)).T, -U[:, 2])).T]\n",
    "\n",
    "P2s"
   ]
  },
  {
   "cell_type": "code",
   "execution_count": null,
   "metadata": {},
   "outputs": [],
   "source": []
  }
 ],
 "metadata": {
  "kernelspec": {
   "display_name": "Python 3",
   "language": "python",
   "name": "python3"
  },
  "language_info": {
   "codemirror_mode": {
    "name": "ipython",
    "version": 3
   },
   "file_extension": ".py",
   "mimetype": "text/x-python",
   "name": "python",
   "nbconvert_exporter": "python",
   "pygments_lexer": "ipython3",
   "version": "3.10.7"
  },
  "orig_nbformat": 4,
  "vscode": {
   "interpreter": {
    "hash": "767d51c1340bd893661ea55ea3124f6de3c7a262a8b4abca0554b478b1e2ff90"
   }
  }
 },
 "nbformat": 4,
 "nbformat_minor": 2
}
