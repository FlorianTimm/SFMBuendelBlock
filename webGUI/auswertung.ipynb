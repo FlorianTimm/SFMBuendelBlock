{
 "cells": [
  {
   "cell_type": "code",
   "execution_count": 2,
   "metadata": {},
   "outputs": [],
   "source": [
    "import sqlite3\n",
    "import numpy as np\n",
    "import matplotlib.pyplot as plt"
   ]
  },
  {
   "cell_type": "code",
   "execution_count": 7,
   "metadata": {},
   "outputs": [],
   "source": [
    "db = '../example_data/heilgarten.db'"
   ]
  },
  {
   "cell_type": "code",
   "execution_count": null,
   "metadata": {},
   "outputs": [],
   "source": [
    "from os import remove\n",
    "remove(db)"
   ]
  },
  {
   "cell_type": "code",
   "execution_count": 8,
   "metadata": {},
   "outputs": [],
   "source": [
    "from metadaten import metadaten"
   ]
  },
  {
   "cell_type": "code",
   "execution_count": 9,
   "metadata": {},
   "outputs": [
    {
     "name": "stdout",
     "output_type": "stream",
     "text": [
      "Metadaten\n",
      "Bild\n",
      "Bild\n",
      "Bild\n",
      "Bild\n",
      "Bild\n",
      "Bild\n",
      "Bild\n",
      "Bild\n",
      "Bild\n",
      "Bild\n",
      "Bild\n",
      "Bild\n",
      "Bild\n",
      "Bild\n",
      "Bild\n",
      "Bild\n",
      "Bild\n",
      "Bild\n",
      "Bild\n",
      "Bild\n",
      "Bild\n",
      "Bild\n",
      "Bild\n",
      "Bild\n",
      "Bild\n",
      "Bild\n",
      "Bild\n",
      "Bild\n",
      "Bild\n",
      "Bild\n",
      "Bild\n",
      "Bild\n",
      "Bild\n",
      "Bild\n",
      "Bild\n",
      "Bild\n",
      "Bild\n",
      "Bild\n",
      "Bild\n",
      "Bild\n",
      "Bild\n",
      "Bild\n",
      "Bild\n",
      "Bild\n",
      "Bild\n",
      "Bild\n",
      "Bild\n",
      "Bild\n",
      "Bild\n",
      "Bild\n",
      "Bild\n",
      "Bild\n",
      "Bild\n",
      "Bild\n",
      "Bild\n",
      "Bild\n",
      "Bild\n",
      "Bild\n",
      "Bild\n",
      "Bild\n",
      "Bild\n",
      "Bild\n",
      "Bild\n",
      "Bild\n",
      "Bild\n",
      "Bild\n",
      "Bild\n",
      "Bild\n",
      "Bild\n",
      "Bild\n",
      "Bild\n",
      "Bild\n",
      "Bild\n",
      "Bild\n",
      "Bild\n",
      "Bild\n",
      "Bild\n",
      "Bild\n",
      "Bild\n",
      "Bild\n",
      "Bild\n",
      "Bild\n",
      "Bild\n",
      "Bild\n",
      "Bild\n",
      "Bild\n",
      "Bild\n",
      "Bild\n",
      "Bild\n",
      "Bild\n",
      "Bild\n",
      "Bild\n",
      "Bild\n",
      "Bild\n",
      "Bild\n",
      "Bild\n",
      "Bild\n",
      "Bild\n",
      "Bild\n",
      "Bild\n",
      "Bild\n",
      "Bild\n",
      "Bild\n",
      "Bild\n",
      "Bild\n",
      "Bild\n",
      "Bild\n",
      "Bild\n",
      "Bild\n",
      "Bild\n",
      "Bild\n",
      "Bild\n",
      "Bild\n",
      "Bild\n",
      "Bild\n",
      "Bild\n",
      "Bild\n",
      "Bild\n",
      "Bild\n",
      "Bild\n",
      "Bild\n",
      "Bild\n",
      "Bild\n",
      "Bild\n",
      "Bild\n",
      "Bild\n",
      "Bild\n",
      "Bild\n",
      "Bild\n",
      "Bild\n",
      "Bild\n",
      "Bild\n",
      "Bild\n",
      "Bild\n",
      "Bild\n",
      "Bild\n",
      "Bild\n",
      "Bild\n",
      "Bild\n",
      "Bild\n",
      "Bild\n",
      "Bild\n",
      "Bild\n",
      "Bild\n",
      "Bild\n",
      "Bild\n",
      "Bild\n",
      "Bild\n",
      "Bild\n",
      "Bild\n",
      "Bild\n",
      "Bild\n",
      "Bild\n",
      "Bild\n",
      "Bild\n",
      "Bild\n",
      "Bild\n",
      "Bild\n",
      "Bild\n",
      "Bild\n",
      "Bild\n",
      "Bild\n",
      "Bild\n",
      "Bild\n",
      "Bild\n",
      "Bild\n",
      "Bild\n",
      "Bild\n",
      "Bild\n",
      "Bild\n",
      "Bild\n",
      "Bild\n",
      "Bild\n",
      "Bild\n",
      "Bild\n",
      "Bild\n",
      "Bild\n",
      "Bild\n",
      "Bild\n",
      "Bild\n",
      "Bild\n",
      "Bild\n",
      "Bild\n",
      "Bild\n",
      "Bild\n",
      "Bild\n",
      "Bild\n",
      "Bild\n",
      "Bild\n",
      "Bild\n",
      "Bild\n",
      "Bild\n",
      "Bild\n",
      "Bild\n",
      "Bild\n",
      "Bild\n",
      "Bild\n",
      "Bild\n",
      "Bild\n",
      "Bild\n",
      "Bild\n",
      "Bild\n",
      "Bild\n",
      "Bild\n",
      "Bild\n",
      "Bild\n",
      "Bild\n",
      "Bild\n",
      "Bild\n",
      "Bild\n",
      "Bild\n",
      "Bild\n",
      "Bild\n",
      "Bild\n",
      "Bild\n",
      "Bild\n",
      "Bild\n",
      "Bild\n",
      "Bild\n",
      "Bild\n",
      "Bild\n",
      "Bild\n",
      "Bild\n",
      "Bild\n",
      "Metadaten\n",
      "Bild\n",
      "Bild\n",
      "Bild\n",
      "Bild\n",
      "Bild\n",
      "Bild\n",
      "Bild\n",
      "Bild\n",
      "Bild\n",
      "Bild\n",
      "Bild\n",
      "Bild\n",
      "Bild\n",
      "Bild\n",
      "Bild\n",
      "Bild\n",
      "Bild\n",
      "Bild\n",
      "Bild\n",
      "Bild\n",
      "Bild\n",
      "Bild\n",
      "Bild\n",
      "Bild\n",
      "Bild\n",
      "Bild\n",
      "Bild\n",
      "Bild\n",
      "Bild\n",
      "Bild\n",
      "Bild\n",
      "Bild\n",
      "Bild\n",
      "Bild\n",
      "Bild\n",
      "Bild\n",
      "Bild\n",
      "Bild\n",
      "Bild\n",
      "Bild\n",
      "Bild\n",
      "Bild\n",
      "Bild\n",
      "Bild\n",
      "Bild\n",
      "Bild\n",
      "Bild\n",
      "Bild\n",
      "Bild\n",
      "Bild\n",
      "Bild\n",
      "Bild\n",
      "Bild\n",
      "Bild\n",
      "Bild\n",
      "Bild\n",
      "Bild\n",
      "Bild\n",
      "Bild\n",
      "Bild\n",
      "Bild\n",
      "Bild\n",
      "Bild\n",
      "Bild\n",
      "Bild\n",
      "Bild\n",
      "Bild\n"
     ]
    }
   ],
   "source": [
    "#metadaten(db, '../example_data/bildverband2/*.JPG')\n",
    "metadaten(db, '/mnt/hdd/Bilder/Bilder/2022/2022-10-23_Heilgarten/Aussenbereich/**/*.JPG')\n",
    "metadaten(\n",
    "    db, '/mnt/hdd/Bilder/Bilder/2022/2022-10-23_Heilgarten/Aussenbereich/**/*.jpg')\n"
   ]
  },
  {
   "cell_type": "code",
   "execution_count": 10,
   "metadata": {},
   "outputs": [
    {
     "name": "stdout",
     "output_type": "stream",
     "text": [
      "Metadaten\n",
      "Bild\n",
      "Bild\n",
      "Bild\n",
      "Bild\n",
      "Bild\n",
      "Bild\n",
      "Bild\n",
      "Bild\n",
      "Bild\n",
      "Bild\n",
      "Bild\n",
      "Bild\n",
      "Bild\n",
      "Bild\n",
      "Bild\n",
      "Bild\n",
      "Bild\n",
      "Bild\n",
      "Bild\n",
      "Bild\n",
      "Bild\n",
      "Bild\n",
      "Bild\n",
      "Bild\n",
      "Bild\n",
      "Bild\n",
      "Bild\n",
      "Bild\n",
      "Bild\n",
      "Bild\n",
      "Bild\n",
      "Bild\n",
      "Bild\n",
      "Bild\n",
      "Metadaten\n",
      "Bild\n",
      "Bild\n",
      "Bild\n",
      "Bild\n",
      "Bild\n",
      "Bild\n",
      "Bild\n",
      "Bild\n",
      "Bild\n",
      "Bild\n",
      "Bild\n",
      "Bild\n",
      "Bild\n",
      "Bild\n",
      "Bild\n",
      "Bild\n",
      "Bild\n",
      "Bild\n",
      "Bild\n",
      "Bild\n",
      "Bild\n",
      "Bild\n",
      "Bild\n"
     ]
    }
   ],
   "source": [
    "metadaten(\n",
    "    db, '/mnt/hdd/Bilder/Bilder/2022/2022-10-23_Heilgarten/Innenraum/**/*.JPG')\n",
    "metadaten(\n",
    "    db, '/mnt/hdd/Bilder/Bilder/2022/2022-10-23_Heilgarten/Innenraum/**/*.jpg')"
   ]
  },
  {
   "cell_type": "code",
   "execution_count": null,
   "metadata": {},
   "outputs": [],
   "source": [
    "from find_aruco import find_aruco\n",
    "find_aruco(db)"
   ]
  },
  {
   "cell_type": "code",
   "execution_count": null,
   "metadata": {},
   "outputs": [],
   "source": [
    "from find_sift import find_sift\n",
    "find_sift(db)\n"
   ]
  },
  {
   "cell_type": "code",
   "execution_count": null,
   "metadata": {},
   "outputs": [],
   "source": [
    "from match_sift import match_sift\n",
    "match_sift(db)"
   ]
  },
  {
   "cell_type": "code",
   "execution_count": 4,
   "metadata": {},
   "outputs": [
    {
     "name": "stdout",
     "output_type": "stream",
     "text": [
      "[2, 2, 2, 2, 2, 2, 2, 2, 2, 2, 2, 2, 2, 2, 2, 2]\n",
      "16\n",
      "Computed essential matrix: [[-0.04126118 -1.         -0.00542202]\n",
      " [ 1.03692089 -0.15504658 -0.43542845]\n",
      " [ 0.02966691  0.36381172 -0.00413211]]\n",
      "[[ 0.99517716  0.08642683  0.0463985   0.38443504]\n",
      " [-0.08759799  0.9958709   0.02382723 -0.02086631]\n",
      " [-0.0441476  -0.02777673  0.99863879  0.92291619]]\n",
      "9\n"
     ]
    },
    {
     "data": {
      "image/png": "[encoded data removed]",
      "text/plain": [
       "<Figure size 640x480 with 1 Axes>"
      ]
     },
     "metadata": {},
     "output_type": "display_data"
    }
   ],
   "source": [
    "from naeherungswerte import naeherungswerte\n",
    "naeherungswerte(db)"
   ]
  },
  {
   "cell_type": "code",
   "execution_count": 3,
   "metadata": {},
   "outputs": [
    {
     "ename": "IndexError",
     "evalue": "too many indices for array: array is 1-dimensional, but 2 were indexed",
     "output_type": "error",
     "traceback": [
      "\u001b[0;31m---------------------------------------------------------------------------\u001b[0m",
      "\u001b[0;31mIndexError\u001b[0m                                Traceback (most recent call last)",
      "Cell \u001b[0;32mIn [3], line 2\u001b[0m\n\u001b[1;32m      1\u001b[0m \u001b[39mfrom\u001b[39;00m \u001b[39mbundle_adjustment\u001b[39;00m \u001b[39mimport\u001b[39;00m  bundle_adjustment\n\u001b[0;32m----> 2\u001b[0m bundle_adjustment(db)\n",
      "File \u001b[0;32m/mnt/ssd/Studium/MScGeodaesieGeoinformatik/3. Semester/GIS_Programmierung/Entwicklung/eigenerAnsatz/Einzelschritte/bundle_adjustment.py:30\u001b[0m, in \u001b[0;36mbundle_adjustment\u001b[0;34m(datenbank)\u001b[0m\n\u001b[1;32m     27\u001b[0m cur\u001b[39m.\u001b[39mexecute(\n\u001b[1;32m     28\u001b[0m     \u001b[39m\"\"\"SELECT pid, lx, ly, lz from passpunkte WHERE lx IS NOT NULL\"\"\"\u001b[39;00m)\n\u001b[1;32m     29\u001b[0m passpunkte \u001b[39m=\u001b[39m np\u001b[39m.\u001b[39marray(cur\u001b[39m.\u001b[39mfetchall())\n\u001b[0;32m---> 30\u001b[0m passpunkte_ids \u001b[39m=\u001b[39m np\u001b[39m.\u001b[39mint32(passpunkte[:, \u001b[39m0\u001b[39;49m])\n\u001b[1;32m     32\u001b[0m cur\u001b[39m.\u001b[39mexecute(\u001b[39m\"\"\"\u001b[39m\u001b[39mSELECT ppid, pid, bid, x, y FROM passpunktpos WHERE pid in (SELECT pid from passpunkte WHERE lx IS NOT NULL) AND bid in (SELECT bid FROM bilder WHERE lx IS NOT NULL)\u001b[39m\u001b[39m\"\"\"\u001b[39m)\n\u001b[1;32m     33\u001b[0m messung \u001b[39m=\u001b[39m np\u001b[39m.\u001b[39marray(cur\u001b[39m.\u001b[39mfetchall())\n",
      "\u001b[0;31mIndexError\u001b[0m: too many indices for array: array is 1-dimensional, but 2 were indexed"
     ]
    }
   ],
   "source": [
    "from bundle_adjustment import  bundle_adjustment\n",
    "bundle_adjustment(db)"
   ]
  },
  {
   "cell_type": "code",
   "execution_count": null,
   "metadata": {},
   "outputs": [],
   "source": [
    "from join_nextpictures import join_nextpictures\n",
    "join_nextpictures(db)\n"
   ]
  },
  {
   "cell_type": "code",
   "execution_count": null,
   "metadata": {},
   "outputs": [],
   "source": [
    "from join_nextcoords import join_nextcoords\n",
    "join_nextcoords(db)"
   ]
  },
  {
   "cell_type": "code",
   "execution_count": 4,
   "metadata": {},
   "outputs": [],
   "source": [
    "con = sqlite3.connect(db)\n",
    "cur = con.cursor()"
   ]
  },
  {
   "cell_type": "code",
   "execution_count": 10,
   "metadata": {},
   "outputs": [
    {
     "name": "stderr",
     "output_type": "stream",
     "text": [
      "qt.qpa.wayland: Wayland does not support QWindow::requestActivate()\n"
     ]
    }
   ],
   "source": [
    "cur.execute(\"\"\"SELECT lx,ly,lz FROM passpunkte WHERE lx is not null\"\"\")\n",
    "coord = np.array(cur.fetchall())\n",
    "cur.execute(\"\"\"SELECT lx,ly,lz FROM bilder WHERE lx is not null\"\"\")\n",
    "cams = np.array(cur.fetchall())\n",
    "\n",
    "%matplotlib qt\n",
    "fig = plt.figure()\n",
    "fig.suptitle('3D reconstructed', fontsize=16)\n",
    "ax = fig.add_subplot(projection='3d')\n",
    "ax.plot(coord[:, 0], coord[:, 1], coord[:, 2], 'r.')\n",
    "ax.plot(-cams[:, 0], -cams[:, 1], -cams[:, 2], 'b.')\n",
    "ax.set_xlabel('x axis')\n",
    "ax.set_ylabel('y axis')\n",
    "ax.set_zlabel('z axis')\n",
    "ax.view_init(elev=135, azim=90)\n",
    "plt.axis('square')\n",
    "plt.show()\n"
   ]
  },
  {
   "cell_type": "code",
   "execution_count": null,
   "metadata": {},
   "outputs": [],
   "source": [
    "cur.execute(\n",
    "    \"\"\"UPDATE kameras SET fx = 0.666, fy = 0.666, x0 = 0.5, y0 = 0.375\"\"\")\n",
    "cur.execute(\"\"\"UPDATE bilder SET lx = NULL, ly = NULL, lz = NULL, lrx = NULL, lry = NULL, lrz = NULL\"\"\")\n",
    "cur.execute(\n",
    "    \"\"\"UPDATE passpunkte SET lx = NULL, ly = NULL, lz = NULL\"\"\")\n",
    "#cur.execute(\"\"\"UPDATE passpunktpos SET x = x*4000. ,y = y*4000.\"\"\")\n",
    "con.commit()"
   ]
  },
  {
   "cell_type": "code",
   "execution_count": 5,
   "metadata": {},
   "outputs": [],
   "source": [
    "cur.execute(\n",
    "    \"\"\"UPDATE bilder SET lx = NULL, ly = NULL, lz = NULL, lrx = NULL, lry = NULL, lrz = NULL\"\"\")\n",
    "cur.execute(\n",
    "    \"\"\"UPDATE passpunkte SET lx = NULL, ly = NULL, lz = NULL\"\"\")\n",
    "#cur.execute(\"\"\"UPDATE passpunktpos SET x = x/1000. ,y = y/1000.\"\"\")\n",
    "con.commit()\n"
   ]
  },
  {
   "cell_type": "code",
   "execution_count": null,
   "metadata": {},
   "outputs": [],
   "source": [
    "cur.execute(\"DELETE FROM passpunkte\")\n",
    "cur.execute(\"DELETE FROM passpunktpos\")\n",
    "con.commit()"
   ]
  },
  {
   "cell_type": "code",
   "execution_count": 6,
   "metadata": {},
   "outputs": [],
   "source": [
    "cur.execute(\"SELECT pfad from bilder\")\n",
    "for bild in cur.fetchall():\n",
    "    d = np.load(bild[0]+'.npz')\n",
    "    pt = d['pt']/600\n",
    "    np.savez_compressed(bild[0]+'.npz', pt = pt, id=d['id'], desc = d['desc'])\n"
   ]
  },
  {
   "cell_type": "code",
   "execution_count": 9,
   "metadata": {},
   "outputs": [
    {
     "data": {
      "text/plain": [
       "<sqlite3.Cursor at 0x7f7602715dc0>"
      ]
     },
     "execution_count": 9,
     "metadata": {},
     "output_type": "execute_result"
    }
   ],
   "source": [
    "cur.execute(\"DELETE FROM passpunktpos WHERE pid in (SELECT pid FROM passpunkte WHERE type = 'SIFT')\")\n",
    "cur.execute(\"DELETE FROM passpunkte WHERE type = 'SIFT'\")\n"
   ]
  }
 ],
 "metadata": {
  "kernelspec": {
   "display_name": "Python 3.10.7 64-bit",
   "language": "python",
   "name": "python3"
  },
  "language_info": {
   "codemirror_mode": {
    "name": "ipython",
    "version": 3
   },
   "file_extension": ".py",
   "mimetype": "text/x-python",
   "name": "python",
   "nbconvert_exporter": "python",
   "pygments_lexer": "ipython3",
   "version": "3.10.7"
  },
  "orig_nbformat": 4,
  "vscode": {
   "interpreter": {
    "hash": "e7370f93d1d0cde622a1f8e1c04877d8463912d04d973331ad4851f04de6915a"
   }
  }
 },
 "nbformat": 4,
 "nbformat_minor": 2
}
